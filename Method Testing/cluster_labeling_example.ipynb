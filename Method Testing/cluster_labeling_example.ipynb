{
 "cells": [
  {
   "cell_type": "code",
   "id": "initial_id",
   "metadata": {
    "collapsed": true,
    "ExecuteTime": {
     "end_time": "2024-09-25T12:56:48.981816Z",
     "start_time": "2024-09-25T12:56:47.673027Z"
    }
   },
   "source": [
    "\n",
    "from Playground import DataPrep\n",
    "from sklearn.manifold import TSNE\n",
    "\n",
    "topics = [\"milk\", \"butter\", \"cheese\", \"jogurt\", \"cow\", \"food\", \"dairy\", \"apple\", \"pear\", \"banana\", \"bred\"]\n",
    "#topics = DataPrep.prep_keywords(100)\n",
    "topic_embeddings = DataPrep.embed_keywords(topics)\n",
    "topic_embeddings\n",
    "tsne = TSNE(n_components=2, random_state=42)\n",
    "#tsne_result = tsne.fit_transform(topic_embeddings)"
   ],
   "outputs": [],
   "execution_count": 7
  },
  {
   "metadata": {},
   "cell_type": "code",
   "source": [
    "import matplotlib.pyplot as plt\n",
    "\n",
    "# Assuming tsne_result is the transformed topics\n",
    "plt.figure(figsize=(8, 6))\n",
    "plt.scatter(tsne_result[:, 0], tsne_result[:, 1])\n",
    "\n",
    "# Annotate the points with their topic names\n",
    "for i, topic in enumerate(topics):\n",
    "    plt.annotate(topic, (tsne_result[i, 0], tsne_result[i, 1]))\n",
    "\n",
    "plt.title(\"t-SNE of Topics\")\n",
    "plt.xlabel(\"Component 1\")\n",
    "plt.ylabel(\"Component 2\")\n",
    "plt.show()\n"
   ],
   "id": "2cd52a2effd48c65",
   "outputs": [],
   "execution_count": null
  }
 ],
 "metadata": {
  "kernelspec": {
   "display_name": "Python 3",
   "language": "python",
   "name": "python3"
  },
  "language_info": {
   "codemirror_mode": {
    "name": "ipython",
    "version": 2
   },
   "file_extension": ".py",
   "mimetype": "text/x-python",
   "name": "python",
   "nbconvert_exporter": "python",
   "pygments_lexer": "ipython2",
   "version": "2.7.6"
  }
 },
 "nbformat": 4,
 "nbformat_minor": 5
}
