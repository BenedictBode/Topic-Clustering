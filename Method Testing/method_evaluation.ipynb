{
 "cells": [
  {
   "cell_type": "code",
   "id": "initial_id",
   "metadata": {
    "collapsed": true,
    "ExecuteTime": {
     "end_time": "2024-09-17T09:10:53.693259Z",
     "start_time": "2024-09-17T09:10:53.683985Z"
    }
   },
   "source": [
    "import pandas as pd\n",
    "\n",
    "labeled_topics = pd.read_csv(\"database/labeled_clustering.csv\", sep=\";\")\n",
    "\n",
    "remove_bad = True\n",
    "if remove_bad:\n",
    "    labeled_topics = labeled_topics[labeled_topics[\"level 1\"] != \"Human Activities\"]\n",
    "    labeled_topics = labeled_topics[labeled_topics[\"level 1\"] != \"People\"]\n",
    "    #labeled_topics = labeled_topics[labeled_topics[\"level 1\"] != \"Philosophy\"]\n",
    "\n",
    "labeled_topics\n"
   ],
   "outputs": [
    {
     "data": {
      "text/plain": [
       "        level 1                   level 0\n",
       "0       Culture                   Culture\n",
       "1       Culture             Art galleries\n",
       "2       Culture                   Museums\n",
       "3       Culture                    Poetry\n",
       "4       Culture                   Fiction\n",
       "..          ...                       ...\n",
       "127  Technology                  Robotics\n",
       "128  Technology                 Transport\n",
       "129  Technology        Telecommunications\n",
       "130  Technology  Environmental technology\n",
       "131  Technology         Energy technology\n",
       "\n",
       "[110 rows x 2 columns]"
      ],
      "text/html": [
       "<div>\n",
       "<style scoped>\n",
       "    .dataframe tbody tr th:only-of-type {\n",
       "        vertical-align: middle;\n",
       "    }\n",
       "\n",
       "    .dataframe tbody tr th {\n",
       "        vertical-align: top;\n",
       "    }\n",
       "\n",
       "    .dataframe thead th {\n",
       "        text-align: right;\n",
       "    }\n",
       "</style>\n",
       "<table border=\"1\" class=\"dataframe\">\n",
       "  <thead>\n",
       "    <tr style=\"text-align: right;\">\n",
       "      <th></th>\n",
       "      <th>level 1</th>\n",
       "      <th>level 0</th>\n",
       "    </tr>\n",
       "  </thead>\n",
       "  <tbody>\n",
       "    <tr>\n",
       "      <th>0</th>\n",
       "      <td>Culture</td>\n",
       "      <td>Culture</td>\n",
       "    </tr>\n",
       "    <tr>\n",
       "      <th>1</th>\n",
       "      <td>Culture</td>\n",
       "      <td>Art galleries</td>\n",
       "    </tr>\n",
       "    <tr>\n",
       "      <th>2</th>\n",
       "      <td>Culture</td>\n",
       "      <td>Museums</td>\n",
       "    </tr>\n",
       "    <tr>\n",
       "      <th>3</th>\n",
       "      <td>Culture</td>\n",
       "      <td>Poetry</td>\n",
       "    </tr>\n",
       "    <tr>\n",
       "      <th>4</th>\n",
       "      <td>Culture</td>\n",
       "      <td>Fiction</td>\n",
       "    </tr>\n",
       "    <tr>\n",
       "      <th>...</th>\n",
       "      <td>...</td>\n",
       "      <td>...</td>\n",
       "    </tr>\n",
       "    <tr>\n",
       "      <th>127</th>\n",
       "      <td>Technology</td>\n",
       "      <td>Robotics</td>\n",
       "    </tr>\n",
       "    <tr>\n",
       "      <th>128</th>\n",
       "      <td>Technology</td>\n",
       "      <td>Transport</td>\n",
       "    </tr>\n",
       "    <tr>\n",
       "      <th>129</th>\n",
       "      <td>Technology</td>\n",
       "      <td>Telecommunications</td>\n",
       "    </tr>\n",
       "    <tr>\n",
       "      <th>130</th>\n",
       "      <td>Technology</td>\n",
       "      <td>Environmental technology</td>\n",
       "    </tr>\n",
       "    <tr>\n",
       "      <th>131</th>\n",
       "      <td>Technology</td>\n",
       "      <td>Energy technology</td>\n",
       "    </tr>\n",
       "  </tbody>\n",
       "</table>\n",
       "<p>110 rows × 2 columns</p>\n",
       "</div>"
      ]
     },
     "execution_count": 25,
     "metadata": {},
     "output_type": "execute_result"
    }
   ],
   "execution_count": 25
  },
  {
   "metadata": {
    "ExecuteTime": {
     "end_time": "2024-09-17T09:53:32.732996Z",
     "start_time": "2024-09-17T09:53:30.522747Z"
    }
   },
   "cell_type": "code",
   "source": [
    "## check the silhoutte score of the labeled data\n",
    "\n",
    "import Clustering\n",
    "import DataPrep\n",
    "\n",
    "keywords = labeled_topics[\"level 0\"].tolist()\n",
    "cluster_labels = labeled_topics[\"level 1\"]\n",
    "keyword_embeddings = DataPrep.embed_keywords(keywords)\n",
    "\n",
    "from sklearn.manifold import TSNE\n",
    "\n",
    "tsne = TSNE(n_components=2, random_state=42)\n",
    "tsne_result = tsne.fit_transform(keyword_embeddings)\n",
    "\n",
    "reduce_embeddings = False\n",
    "if reduce_embeddings:\n",
    "    keyword_embeddings = tsne_result\n",
    "\n",
    "from sklearn.metrics import silhouette_samples\n",
    "\n",
    "cluster_labels_score = silhouette_samples(keyword_embeddings, cluster_labels)\n",
    "labeled_topics[\"score\"] = cluster_labels_score\n",
    "Clustering.plot_silhouette(labeled_topics, cluster_label_col='level 1', silhouette_score_col='score', outlier_percentile=1, plot_height=6)\n",
    "\n",
    "sil_score = labeled_topics[\"score\"].mean()"
   ],
   "id": "a8acf171876feb41",
   "outputs": [
    {
     "name": "stderr",
     "output_type": "stream",
     "text": [
      "/Users/bene/PycharmProjects/Topic Clustering/Clustering.py:146: FutureWarning:\n",
      "\n",
      "The default of observed=False is deprecated and will be changed to True in a future version of pandas. Pass observed=False to retain current behavior or observed=True to adopt the future default and silence this warning.\n",
      "\n"
     ]
    },
    {
     "data": {
      "text/plain": [
       "<Figure size 1000x600 with 1 Axes>"
      ],
      "image/png": "[encoded data removed]"
     },
     "metadata": {},
     "output_type": "display_data"
    }
   ],
   "execution_count": 71
  },
  {
   "metadata": {
    "ExecuteTime": {
     "end_time": "2024-09-17T09:53:32.788791Z",
     "start_time": "2024-09-17T09:53:32.734331Z"
    }
   },
   "cell_type": "code",
   "source": [
    "## Results.csv\n",
    "\n",
    "testcase,sil_score,rand,adj_rand,jaccard,v-measure\n",
    "single_euclidean,-0.05224884939056145,0.2618849040867389,0.002064871731740472,0.0930426716141002,0.17846276331902167\n",
    "single_cosine,-0.05224884939056145,0.2618849040867389,0.002064871731740472,0.0930426716141002,0.17846276331902167\n",
    "single_tsne,0.24582137807958165,0.8365304420350292,0.34038927036506444,0.27872261072261073,0.6375528734860118\n",
    "complete_euclidean,0.06570126287647607,0.9119266055045872,0.5187155042649273,0.5852970494417862,0.717151892734163\n",
    "complete_cosine,0.06570126287647607,0.9119266055045872,0.5187155042649273,0.5852970494417862,0.717151892734163\n",
    "complete_tsne,0.3984053650725612,0.926605504587156,0.5872562350470748,0.613284632034632,0.7571125447994884\n",
    "average_euclidean,0.07455104391864203,0.8602168473728107,0.40730118355481726,0.4660839160839161,0.6961999129253569\n",
    "average_cosine,0.07515074952542568,0.8558798999165972,0.3965784583840584,0.4508814714697067,0.6936003167912655\n",
    "average_tsne,0.43977752687172456,0.9169307756463719,0.5440249987399829,0.5755310049427697,0.7365643663901273\n",
    "ward_euclidean,0.07293366495811972,0.9094245204336947,0.48150257115574985,0.5731418285017356,0.6606958331807714\n",
    "ward_cosine,0.07625861245810732,0.9192660550458716,0.5316323088123014,0.6151695526695528,0.6935228150559418\n",
    "ward_tsne,0.4110907148447904,0.9316096747289407,0.5981621018936465,0.6612452906570554,0.7590012110430264"
   ],
   "id": "ab31600ab30d8df0",
   "outputs": [
    {
     "ename": "NameError",
     "evalue": "name 'testcase' is not defined",
     "output_type": "error",
     "traceback": [
      "\u001B[0;31m---------------------------------------------------------------------------\u001B[0m",
      "\u001B[0;31mNameError\u001B[0m                                 Traceback (most recent call last)",
      "Cell \u001B[0;32mIn[72], line 3\u001B[0m\n\u001B[1;32m      1\u001B[0m \u001B[38;5;66;03m## Results.csv\u001B[39;00m\n\u001B[0;32m----> 3\u001B[0m \u001B[43mtestcase\u001B[49m,sil_score,rand,adj_rand,jaccard,v\u001B[38;5;241m-\u001B[39mmeasure\n\u001B[1;32m      4\u001B[0m single_euclidean,\u001B[38;5;241m-\u001B[39m\u001B[38;5;241m0.05224884939056145\u001B[39m,\u001B[38;5;241m0.2618849040867389\u001B[39m,\u001B[38;5;241m0.002064871731740472\u001B[39m,\u001B[38;5;241m0.0930426716141002\u001B[39m,\u001B[38;5;241m0.17846276331902167\u001B[39m\n\u001B[1;32m      5\u001B[0m single_cosine,\u001B[38;5;241m-\u001B[39m\u001B[38;5;241m0.05224884939056145\u001B[39m,\u001B[38;5;241m0.2618849040867389\u001B[39m,\u001B[38;5;241m0.002064871731740472\u001B[39m,\u001B[38;5;241m0.0930426716141002\u001B[39m,\u001B[38;5;241m0.17846276331902167\u001B[39m\n",
      "\u001B[0;31mNameError\u001B[0m: name 'testcase' is not defined"
     ]
    }
   ],
   "execution_count": 72
  },
  {
   "metadata": {
    "ExecuteTime": {
     "end_time": "2024-09-17T09:54:52.667880Z",
     "start_time": "2024-09-17T09:54:52.509391Z"
    }
   },
   "cell_type": "code",
   "source": [
    "## compare with proposed method\n",
    "\n",
    "from scipy.cluster.hierarchy import dendrogram, linkage, cut_tree\n",
    "from scipy.spatial.distance import pdist\n",
    "\n",
    "import scipy.cluster.hierarchy as sch\n",
    "\n",
    "distance_matrix = pdist(keyword_embeddings, metric='euclidean')\n",
    "Z = linkage(distance_matrix, method='ward')\n",
    "\n",
    "\n",
    "def show_predicted(cutoff_distance, show_dendrogram=False):\n",
    "    \n",
    "    if show_dendrogram:\n",
    "        from matplotlib import pyplot as plt\n",
    "        fig = plt.figure(figsize=(15, 20))\n",
    "        dn = dendrogram(Z, labels=keywords, orientation='right', color_threshold=cutoff_distance)\n",
    "        \n",
    "    import numpy as np\n",
    "    \n",
    "    mock_appearances = np.full(shape=len(keywords), fill_value=10)\n",
    "    df = Clustering.keyword_hierachy(keywords, keyword_embeddings, mock_appearances, cutting_distances=[cutoff_distance], Z=Z)\n",
    "    \n",
    "    Clustering.plot_silhouette(df, cluster_label_col='level 1', silhouette_score_col='level 1 score', outlier_percentile=1, plot_height=6)\n",
    "    \n",
    "    ## how much do the predicted differ from gound truth?\n",
    "    predicted_cluster_labels = df[\"level 1\"]\n",
    "    \n",
    "    compare_df = pd.DataFrame()\n",
    "    compare_df[\"topic\"] = df[\"level 0\"]\n",
    "    compare_df[\"predicted label\"] = df[\"level 1\"]\n",
    "    compare_df[\"label\"] = cluster_labels\n",
    "    \n",
    "    return predicted_cluster_labels, df[\"level 1 score\"]\n",
    "\n",
    "best_cutoff, sil = Clustering.find_best_silhouette_cutoff(Z, keyword_embeddings)\n",
    "cutoff_distance = Z[-len(cluster_labels.unique()), 2]\n",
    "\n",
    "predicted_cluster_labels, predicted_cluster_labels_score = show_predicted(cutoff_distance)\n",
    "\n",
    "\n",
    "mapping, mapped_predictions = Clustering.map_cluster_labels(cluster_labels, predicted_cluster_labels)\n",
    "combined_predictions = [a + \" -> \" +  b for a, b in zip(mapped_predictions, predicted_cluster_labels)]\n",
    "\n",
    "from sklearn.metrics import adjusted_rand_score, jaccard_score, rand_score, v_measure_score\n",
    "from sklearn.metrics import adjusted_rand_score, jaccard_score, rand_score\n",
    "    \n",
    "rand_score = rand_score(cluster_labels, predicted_cluster_labels)\n",
    "adjusted_rand_score = adjusted_rand_score(cluster_labels, predicted_cluster_labels)\n",
    "\n",
    "print(\"difference between clusters\")\n",
    "print(f\"rand score: {rand_score}, adjusted rand score: {adjusted_rand_score}\")\n",
    "\n",
    "jaccard_score = jaccard_score(cluster_labels, mapped_predictions, average='macro')\n",
    "v_measure_score = v_measure_score(cluster_labels, mapped_predictions)\n",
    "print(f\"jaccard score {jaccard_score}\")\n",
    "print(f\"v-measure score {v_measure_score}\")\n",
    "\n",
    "sil_score = predicted_cluster_labels_score.mean()\n",
    "\n",
    "print(f\"{sil_score},{rand_score},{adjusted_rand_score},{jaccard_score},{v_measure_score}\")\n"
   ],
   "id": "9c76038fbe3c40f",
   "outputs": [
    {
     "name": "stdout",
     "output_type": "stream",
     "text": [
      "keyword count: 110\n",
      "cluster count: 10\n"
     ]
    },
    {
     "data": {
      "text/plain": [
       "<Figure size 1000x600 with 1 Axes>"
      ],
      "image/png": "[encoded data removed]"
     },
     "metadata": {},
     "output_type": "display_data"
    },
    {
     "name": "stdout",
     "output_type": "stream",
     "text": [
      "difference between clusters\n",
      "rand score: 0.9094245204336947, adjusted rand score: 0.48150257115574985\n",
      "jaccard score 0.5731418285017356\n",
      "v-measure score 0.6606958331807714\n",
      "0.07293366495811972,0.9094245204336947,0.48150257115574985,0.5731418285017356,0.6606958331807714\n"
     ]
    }
   ],
   "execution_count": 75
  },
  {
   "metadata": {
    "ExecuteTime": {
     "end_time": "2024-09-17T09:54:53.443110Z",
     "start_time": "2024-09-17T09:54:53.374071Z"
    }
   },
   "cell_type": "code",
   "source": [
    "Clustering.plot_tsne_clusters(cluster_labels, tsne_result, keywords, cluster_labels_score)\n",
    "Clustering.plot_tsne_clusters(pd.Series(combined_predictions), tsne_result, keywords, predicted_cluster_labels_score)"
   ],
   "id": "5da09af85fd3a9b0",
   "outputs": [
    {
     "data": {
      "application/vnd.plotly.v1+json": {
       "data": [
        {
         "hovertemplate": "<b>%{hovertext}</b><br><br>cluster=Philosophy<br>tsne_x=%{x}<br>tsne_y=%{y}<br>label=%{text}<extra></extra>",
         "hovertext": [
          "Epistemology",
          "Thinking",
          "Phenomenology",
          "Philosophy of mind",
          "Skepticism",
          "Rationalism",
          "Existentialism",
          "Aesthetics",
          "Metaphysics",
          "Philosophy",
          "Ethics"
         ],
         "legendgroup": "Philosophy",
         "marker": {
          "color": "#636efa",
          "symbol": "circle"
         },
         "mode": "markers+text",
         "name": "Philosophy",
         "orientation": "v",
         "showlegend": true,
         "text": [
          "Epistemology",
          "Thinking",
          "Phenomenology",
          "Philosophy of mind",
          "Skepticism",
          "Rationalism",
          "Existentialism",
          "Aesthetics",
          "Metaphysics",
          "Philosophy",
          "Ethics"
         ],
         "x": [
          -1.3115264177322388,
          1.412262201309204,
          -3.0030746459960938,
          0.4667086899280548,
          -2.557969093322754,
          -1.6756477355957031,
          -0.7422481179237366,
          -8.193720817565918,
          -0.10942548513412476,
          -0.326900452375412,
          1.665959358215332
         ],
         "xaxis": "x",
         "y": [
          5.929912567138672,
          7.436564922332764,
          4.331157207489014,
          7.154160976409912,
          6.9439263343811035,
          7.18859338760376,
          8.31009578704834,
          -2.826017141342163,
          4.6807026863098145,
          6.943269729614258,
          4.53517484664917
         ],
         "yaxis": "y",
         "type": "scatter",
         "textposition": "top center"
        },
        {
         "hovertemplate": "<b>%{hovertext}</b><br><br>cluster=Nature<br>tsne_x=%{x}<br>tsne_y=%{y}<br>label=%{text}<extra></extra>",
         "hovertext": [
          "Earth science",
          "Paleontology",
          "Astronomy",
          "Biology",
          "Chemistry",
          "Physics",
          "Ecology",
          "Genetics",
          "Evolutionary biology",
          "Neuroscience",
          "Nature"
         ],
         "legendgroup": "Nature",
         "marker": {
          "color": "#EF553B",
          "symbol": "circle"
         },
         "mode": "markers+text",
         "name": "Nature",
         "orientation": "v",
         "showlegend": true,
         "text": [
          "Earth science",
          "Paleontology",
          "Astronomy",
          "Biology",
          "Chemistry",
          "Physics",
          "Ecology",
          "Genetics",
          "Evolutionary biology",
          "Neuroscience",
          "Nature"
         ],
         "x": [
          0.8144840598106384,
          -4.466928482055664,
          1.7480932474136353,
          0.6125445365905762,
          3.9603843688964844,
          5.449156761169434,
          -0.7734192609786987,
          -0.16687661409378052,
          -0.07496990263462067,
          1.37582528591156,
          -0.5899149775505066
         ],
         "xaxis": "x",
         "y": [
          -4.106220722198486,
          3.47204852104187,
          -4.191278457641602,
          -0.2804996073246002,
          -3.543203353881836,
          -2.6822190284729004,
          -1.9983633756637573,
          0.3065480589866638,
          -0.43770262598991394,
          1.520645260810852,
          -2.3004310131073
         ],
         "yaxis": "y",
         "type": "scatter",
         "textposition": "top center"
        },
        {
         "hovertemplate": "<b>%{hovertext}</b><br><br>cluster=Society<br>tsne_x=%{x}<br>tsne_y=%{y}<br>label=%{text}<extra></extra>",
         "hovertext": [
          "Political science",
          "Anthropology",
          "Sociology",
          "Economics",
          "Psychology",
          "Society",
          "Social network",
          "Communication studies",
          "Cultural studies",
          "Community",
          "Law"
         ],
         "legendgroup": "Society",
         "marker": {
          "color": "#00cc96",
          "symbol": "circle"
         },
         "mode": "markers+text",
         "name": "Society",
         "orientation": "v",
         "showlegend": true,
         "text": [
          "Political science",
          "Anthropology",
          "Sociology",
          "Economics",
          "Psychology",
          "Society",
          "Social network",
          "Communication studies",
          "Cultural studies",
          "Community",
          "Law"
         ],
         "x": [
          3.910567283630371,
          -3.1935336589813232,
          4.055124282836914,
          4.838180065155029,
          1.474287986755371,
          3.734710454940796,
          4.997614860534668,
          -0.2346430867910385,
          -1.7005287408828735,
          4.30817985534668,
          2.1697683334350586
         ],
         "xaxis": "x",
         "y": [
          2.7173800468444824,
          3.30141544342041,
          4.269766807556152,
          2.949312210083008,
          2.2557358741760254,
          4.892703533172607,
          6.089258670806885,
          2.5383214950561523,
          2.467125654220581,
          6.128016471862793,
          4.130949974060059
         ],
         "yaxis": "y",
         "type": "scatter",
         "textposition": "top center"
        },
        {
         "hovertemplate": "<b>%{hovertext}</b><br><br>cluster=Geography<br>tsne_x=%{x}<br>tsne_y=%{y}<br>label=%{text}<extra></extra>",
         "hovertext": [
          "Geography",
          "Earth",
          "Climate",
          "Demographics",
          "Geographic information system",
          "Map",
          "Continent",
          "Mountain",
          "River",
          "Island",
          "Ocean"
         ],
         "legendgroup": "Geography",
         "marker": {
          "color": "#ab63fa",
          "symbol": "circle"
         },
         "mode": "markers+text",
         "name": "Geography",
         "orientation": "v",
         "showlegend": true,
         "text": [
          "Geography",
          "Earth",
          "Climate",
          "Demographics",
          "Geographic information system",
          "Map",
          "Continent",
          "Mountain",
          "River",
          "Island",
          "Ocean"
         ],
         "x": [
          -0.7489956021308899,
          -0.05440983921289444,
          -1.2158305644989014,
          6.703639030456543,
          -0.21370550990104675,
          -1.7208678722381592,
          -1.3353604078292847,
          -2.7742233276367188,
          -3.63726544380188,
          -2.914764881134033,
          -2.331777572631836
         ],
         "xaxis": "x",
         "y": [
          -6.271200656890869,
          -4.255005836486816,
          -3.503671646118164,
          4.209258556365967,
          -6.9254937171936035,
          -7.610750675201416,
          -5.658391952514648,
          -6.703404903411865,
          -4.276760578155518,
          -5.271772861480713,
          -4.591452598571777
         ],
         "yaxis": "y",
         "type": "scatter",
         "textposition": "top center"
        },
        {
         "hovertemplate": "<b>%{hovertext}</b><br><br>cluster=History<br>tsne_x=%{x}<br>tsne_y=%{y}<br>label=%{text}<extra></extra>",
         "hovertext": [
          "Age of Enlightenment",
          "World War II",
          "World War I",
          "Renaissance",
          "Middle Ages",
          "Prehistory",
          "History of China",
          "Ancient Greece",
          "Ancient Egypt",
          "History",
          "Industrial Age"
         ],
         "legendgroup": "History",
         "marker": {
          "color": "#FFA15A",
          "symbol": "circle"
         },
         "mode": "markers+text",
         "name": "History",
         "orientation": "v",
         "showlegend": true,
         "text": [
          "Age of Enlightenment",
          "World War II",
          "World War I",
          "Renaissance",
          "Middle Ages",
          "Prehistory",
          "History of China",
          "Ancient Greece",
          "Ancient Egypt",
          "History",
          "Industrial Age"
         ],
         "x": [
          1.0308897495269775,
          -6.58947229385376,
          -6.587560653686523,
          -6.635373115539551,
          -6.911353588104248,
          -6.038962364196777,
          -6.771139144897461,
          -8.714184761047363,
          -8.699005126953125,
          -6.067205429077148,
          2.1882712841033936
         ],
         "xaxis": "x",
         "y": [
          10.89377498626709,
          -6.7701826095581055,
          -6.774869918823242,
          1.9376137256622314,
          2.7565011978149414,
          4.230415344238281,
          5.5623016357421875,
          3.4824821949005127,
          3.5521950721740723,
          4.547339916229248,
          10.79734992980957
         ],
         "yaxis": "y",
         "type": "scatter",
         "textposition": "top center"
        },
        {
         "hovertemplate": "<b>%{hovertext}</b><br><br>cluster=Culture<br>tsne_x=%{x}<br>tsne_y=%{y}<br>label=%{text}<extra></extra>",
         "hovertext": [
          "Art galleries",
          "Museums",
          "Poetry",
          "Fiction",
          "Photography",
          "Film",
          "Music",
          "Theatre",
          "Painting",
          "Dance",
          "Culture"
         ],
         "legendgroup": "Culture",
         "marker": {
          "color": "#19d3f3",
          "symbol": "circle"
         },
         "mode": "markers+text",
         "name": "Culture",
         "orientation": "v",
         "showlegend": true,
         "text": [
          "Art galleries",
          "Museums",
          "Poetry",
          "Fiction",
          "Photography",
          "Film",
          "Music",
          "Theatre",
          "Painting",
          "Dance",
          "Culture"
         ],
         "x": [
          -7.931426525115967,
          -8.240470886230469,
          -3.4778292179107666,
          -4.470953941345215,
          -6.594771862030029,
          -5.279325485229492,
          -4.070065498352051,
          -6.238887786865234,
          -7.060267925262451,
          -4.118499755859375,
          -1.888062596321106
         ],
         "xaxis": "x",
         "y": [
          -1.475134253501892,
          -0.7624858617782593,
          -0.4001352787017822,
          0.42254865169525146,
          -2.2160043716430664,
          -0.299102246761322,
          -1.5966726541519165,
          0.09918259084224701,
          -2.2090208530426025,
          -1.9065998792648315,
          2.294903516769409
         ],
         "yaxis": "y",
         "type": "scatter",
         "textposition": "top center"
        },
        {
         "hovertemplate": "<b>%{hovertext}</b><br><br>cluster=Mathematics<br>tsne_x=%{x}<br>tsne_y=%{y}<br>label=%{text}<extra></extra>",
         "hovertext": [
          "Logic",
          "Equations",
          "Algebra",
          "Arithmetic",
          "Calculus",
          "Geometry",
          "Mathematics",
          "Topology",
          "Mathematical analysis",
          "Statistics",
          "Probability"
         ],
         "legendgroup": "Mathematics",
         "marker": {
          "color": "#FF6692",
          "symbol": "circle"
         },
         "mode": "markers+text",
         "name": "Mathematics",
         "orientation": "v",
         "showlegend": true,
         "text": [
          "Logic",
          "Equations",
          "Algebra",
          "Arithmetic",
          "Calculus",
          "Geometry",
          "Mathematics",
          "Topology",
          "Mathematical analysis",
          "Statistics",
          "Probability"
         ],
         "x": [
          1.8596887588500977,
          10.648919105529785,
          10.118786811828613,
          9.6422119140625,
          10.072957038879395,
          8.542832374572754,
          8.754273414611816,
          6.83319091796875,
          8.305363655090332,
          7.779818058013916,
          8.377799987792969
         ],
         "xaxis": "x",
         "y": [
          6.399441719055176,
          0.8153828382492065,
          0.9162672758102417,
          1.755196452140808,
          -0.4069240391254425,
          -0.4804428815841675,
          0.9498171210289001,
          7.463613033294678,
          1.1402802467346191,
          4.115288734436035,
          4.465083122253418
         ],
         "yaxis": "y",
         "type": "scatter",
         "textposition": "top center"
        },
        {
         "hovertemplate": "<b>%{hovertext}</b><br><br>cluster=Technology<br>tsne_x=%{x}<br>tsne_y=%{y}<br>label=%{text}<extra></extra>",
         "hovertext": [
          "Technology",
          "Telecommunications",
          "Transport",
          "Robotics",
          "Information technology",
          "Materials science",
          "Biotechnology",
          "Engineering",
          "Computer science",
          "Environmental technology",
          "Energy technology"
         ],
         "legendgroup": "Technology",
         "marker": {
          "color": "#B6E880",
          "symbol": "circle"
         },
         "mode": "markers+text",
         "name": "Technology",
         "orientation": "v",
         "showlegend": true,
         "text": [
          "Technology",
          "Telecommunications",
          "Transport",
          "Robotics",
          "Information technology",
          "Materials science",
          "Biotechnology",
          "Engineering",
          "Computer science",
          "Environmental technology",
          "Energy technology"
         ],
         "x": [
          3.8481030464172363,
          3.592129707336426,
          6.799543380737305,
          6.47304105758667,
          4.093094348907471,
          4.138695240020752,
          1.5250499248504639,
          5.480686664581299,
          5.432021617889404,
          2.955238103866577,
          3.763066053390503
         ],
         "xaxis": "x",
         "y": [
          -0.42323026061058044,
          0.7947680950164795,
          -2.990579605102539,
          -1.3291581869125366,
          -0.06728767603635788,
          -3.2890899181365967,
          -0.786805272102356,
          -1.0274873971939087,
          0.3727380335330963,
          -1.410074234008789,
          -1.4590880870819092
         ],
         "yaxis": "y",
         "type": "scatter",
         "textposition": "top center"
        },
        {
         "hovertemplate": "<b>%{hovertext}</b><br><br>cluster=Health<br>tsne_x=%{x}<br>tsne_y=%{y}<br>label=%{text}<extra></extra>",
         "hovertext": [
          "Health",
          "Health care",
          "Nutrition",
          "Physical fitness",
          "Mental health",
          "Body composition",
          "Complementary medicine",
          "Hygiene",
          "Medicine",
          "Preventive medicine",
          "Public health"
         ],
         "legendgroup": "Health",
         "marker": {
          "color": "#FF97FF",
          "symbol": "circle"
         },
         "mode": "markers+text",
         "name": "Health",
         "orientation": "v",
         "showlegend": true,
         "text": [
          "Health",
          "Health care",
          "Nutrition",
          "Physical fitness",
          "Mental health",
          "Body composition",
          "Complementary medicine",
          "Hygiene",
          "Medicine",
          "Preventive medicine",
          "Public health"
         ],
         "x": [
          4.844113826751709,
          4.994468688964844,
          8.609722137451172,
          7.255550861358643,
          4.711609363555908,
          8.197342872619629,
          6.206762790679932,
          3.2424538135528564,
          5.418592929840088,
          5.371419906616211,
          4.095291614532471
         ],
         "xaxis": "x",
         "y": [
          -7.570119857788086,
          -7.977818965911865,
          -6.818167686462402,
          -6.279166221618652,
          -6.43642520904541,
          -6.553867340087891,
          -10.0034818649292,
          -8.613910675048828,
          -8.908174514770508,
          -9.895774841308594,
          -7.738661289215088
         ],
         "yaxis": "y",
         "type": "scatter",
         "textposition": "top center"
        },
        {
         "hovertemplate": "<b>%{hovertext}</b><br><br>cluster=Religion<br>tsne_x=%{x}<br>tsne_y=%{y}<br>label=%{text}<extra></extra>",
         "hovertext": [
          "Polytheism",
          "Agnosticism",
          "Atheism",
          "Confucianism",
          "Judaism",
          "Hinduism",
          "Islam",
          "Christianity",
          "Buddhism",
          "Religion",
          "Deism"
         ],
         "legendgroup": "Religion",
         "marker": {
          "color": "#FECB52",
          "symbol": "circle"
         },
         "mode": "markers+text",
         "name": "Religion",
         "orientation": "v",
         "showlegend": true,
         "text": [
          "Polytheism",
          "Agnosticism",
          "Atheism",
          "Confucianism",
          "Judaism",
          "Hinduism",
          "Islam",
          "Christianity",
          "Buddhism",
          "Religion",
          "Deism"
         ],
         "x": [
          -4.887693405151367,
          -3.1362037658691406,
          -3.6938767433166504,
          -0.5688083171844482,
          -3.727126121520996,
          -2.7317521572113037,
          -2.885669708251953,
          -2.75917387008667,
          -1.4804991483688354,
          -2.440877914428711,
          -4.851194381713867
         ],
         "xaxis": "x",
         "y": [
          10.157623291015625,
          7.9820780754089355,
          8.634847640991211,
          9.782048225402832,
          10.659433364868164,
          11.65723991394043,
          10.609647750854492,
          9.740189552307129,
          10.72657299041748,
          9.5858736038208,
          8.656291961669922
         ],
         "yaxis": "y",
         "type": "scatter",
         "textposition": "top center"
        }
       ],
       "layout": {
        "template": {
         "data": {
          "barpolar": [
           {
            "marker": {
             "line": {
              "color": "white",
              "width": 0.5
             },
             "pattern": {
              "fillmode": "overlay",
              "size": 10,
              "solidity": 0.2
             }
            },
            "type": "barpolar"
           }
          ],
          "bar": [
           {
            "error_x": {
             "color": "#2a3f5f"
            },
            "error_y": {
             "color": "#2a3f5f"
            },
            "marker": {
             "line": {
              "color": "white",
              "width": 0.5
             },
             "pattern": {
              "fillmode": "overlay",
              "size": 10,
              "solidity": 0.2
             }
            },
            "type": "bar"
           }
          ],
          "carpet": [
           {
            "aaxis": {
             "endlinecolor": "#2a3f5f",
             "gridcolor": "#C8D4E3",
             "linecolor": "#C8D4E3",
             "minorgridcolor": "#C8D4E3",
             "startlinecolor": "#2a3f5f"
            },
            "baxis": {
             "endlinecolor": "#2a3f5f",
             "gridcolor": "#C8D4E3",
             "linecolor": "#C8D4E3",
             "minorgridcolor": "#C8D4E3",
             "startlinecolor": "#2a3f5f"
            },
            "type": "carpet"
           }
          ],
          "choropleth": [
           {
            "colorbar": {
             "outlinewidth": 0,
             "ticks": ""
            },
            "type": "choropleth"
           }
          ],
          "contourcarpet": [
           {
            "colorbar": {
             "outlinewidth": 0,
             "ticks": ""
            },
            "type": "contourcarpet"
           }
          ],
          "contour": [
           {
            "colorbar": {
             "outlinewidth": 0,
             "ticks": ""
            },
            "colorscale": [
             [
              0.0,
              "#0d0887"
             ],
             [
              0.1111111111111111,
              "#46039f"
             ],
             [
              0.2222222222222222,
              "#7201a8"
             ],
             [
              0.3333333333333333,
              "#9c179e"
             ],
             [
              0.4444444444444444,
              "#bd3786"
             ],
             [
              0.5555555555555556,
              "#d8576b"
             ],
             [
              0.6666666666666666,
              "#ed7953"
             ],
             [
              0.7777777777777778,
              "#fb9f3a"
             ],
             [
              0.8888888888888888,
              "#fdca26"
             ],
             [
              1.0,
              "#f0f921"
             ]
            ],
            "type": "contour"
           }
          ],
          "heatmapgl": [
           {
            "colorbar": {
             "outlinewidth": 0,
             "ticks": ""
            },
            "colorscale": [
             [
              0.0,
              "#0d0887"
             ],
             [
              0.1111111111111111,
              "#46039f"
             ],
             [
              0.2222222222222222,
              "#7201a8"
             ],
             [
              0.3333333333333333,
              "#9c179e"
             ],
             [
              0.4444444444444444,
              "#bd3786"
             ],
             [
              0.5555555555555556,
              "#d8576b"
             ],
             [
              0.6666666666666666,
              "#ed7953"
             ],
             [
              0.7777777777777778,
              "#fb9f3a"
             ],
             [
              0.8888888888888888,
              "#fdca26"
             ],
             [
              1.0,
              "#f0f921"
             ]
            ],
            "type": "heatmapgl"
           }
          ],
          "heatmap": [
           {
            "colorbar": {
             "outlinewidth": 0,
             "ticks": ""
            },
            "colorscale": [
             [
              0.0,
              "#0d0887"
             ],
             [
              0.1111111111111111,
              "#46039f"
             ],
             [
              0.2222222222222222,
              "#7201a8"
             ],
             [
              0.3333333333333333,
              "#9c179e"
             ],
             [
              0.4444444444444444,
              "#bd3786"
             ],
             [
              0.5555555555555556,
              "#d8576b"
             ],
             [
              0.6666666666666666,
              "#ed7953"
             ],
             [
              0.7777777777777778,
              "#fb9f3a"
             ],
             [
              0.8888888888888888,
              "#fdca26"
             ],
             [
              1.0,
              "#f0f921"
             ]
            ],
            "type": "heatmap"
           }
          ],
          "histogram2dcontour": [
           {
            "colorbar": {
             "outlinewidth": 0,
             "ticks": ""
            },
            "colorscale": [
             [
              0.0,
              "#0d0887"
             ],
             [
              0.1111111111111111,
              "#46039f"
             ],
             [
              0.2222222222222222,
              "#7201a8"
             ],
             [
              0.3333333333333333,
              "#9c179e"
             ],
             [
              0.4444444444444444,
              "#bd3786"
             ],
             [
              0.5555555555555556,
              "#d8576b"
             ],
             [
              0.6666666666666666,
              "#ed7953"
             ],
             [
              0.7777777777777778,
              "#fb9f3a"
             ],
             [
              0.8888888888888888,
              "#fdca26"
             ],
             [
              1.0,
              "#f0f921"
             ]
            ],
            "type": "histogram2dcontour"
           }
          ],
          "histogram2d": [
           {
            "colorbar": {
             "outlinewidth": 0,
             "ticks": ""
            },
            "colorscale": [
             [
              0.0,
              "#0d0887"
             ],
             [
              0.1111111111111111,
              "#46039f"
             ],
             [
              0.2222222222222222,
              "#7201a8"
             ],
             [
              0.3333333333333333,
              "#9c179e"
             ],
             [
              0.4444444444444444,
              "#bd3786"
             ],
             [
              0.5555555555555556,
              "#d8576b"
             ],
             [
              0.6666666666666666,
              "#ed7953"
             ],
             [
              0.7777777777777778,
              "#fb9f3a"
             ],
             [
              0.8888888888888888,
              "#fdca26"
             ],
             [
              1.0,
              "#f0f921"
             ]
            ],
            "type": "histogram2d"
           }
          ],
          "histogram": [
           {
            "marker": {
             "pattern": {
              "fillmode": "overlay",
              "size": 10,
              "solidity": 0.2
             }
            },
            "type": "histogram"
           }
          ],
          "mesh3d": [
           {
            "colorbar": {
             "outlinewidth": 0,
             "ticks": ""
            },
            "type": "mesh3d"
           }
          ],
          "parcoords": [
           {
            "line": {
             "colorbar": {
              "outlinewidth": 0,
              "ticks": ""
             }
            },
            "type": "parcoords"
           }
          ],
          "pie": [
           {
            "automargin": true,
            "type": "pie"
           }
          ],
          "scatter3d": [
           {
            "line": {
             "colorbar": {
              "outlinewidth": 0,
              "ticks": ""
             }
            },
            "marker": {
             "colorbar": {
              "outlinewidth": 0,
              "ticks": ""
             }
            },
            "type": "scatter3d"
           }
          ],
          "scattercarpet": [
           {
            "marker": {
             "colorbar": {
              "outlinewidth": 0,
              "ticks": ""
             }
            },
            "type": "scattercarpet"
           }
          ],
          "scattergeo": [
           {
            "marker": {
             "colorbar": {
              "outlinewidth": 0,
              "ticks": ""
             }
            },
            "type": "scattergeo"
           }
          ],
          "scattergl": [
           {
            "marker": {
             "colorbar": {
              "outlinewidth": 0,
              "ticks": ""
             }
            },
            "type": "scattergl"
           }
          ],
          "scattermapbox": [
           {
            "marker": {
             "colorbar": {
              "outlinewidth": 0,
              "ticks": ""
             }
            },
            "type": "scattermapbox"
           }
          ],
          "scatterpolargl": [
           {
            "marker": {
             "colorbar": {
              "outlinewidth": 0,
              "ticks": ""
             }
            },
            "type": "scatterpolargl"
           }
          ],
          "scatterpolar": [
           {
            "marker": {
             "colorbar": {
              "outlinewidth": 0,
              "ticks": ""
             }
            },
            "type": "scatterpolar"
           }
          ],
          "scatter": [
           {
            "fillpattern": {
             "fillmode": "overlay",
             "size": 10,
             "solidity": 0.2
            },
            "type": "scatter"
           }
          ],
          "scatterternary": [
           {
            "marker": {
             "colorbar": {
              "outlinewidth": 0,
              "ticks": ""
             }
            },
            "type": "scatterternary"
           }
          ],
          "surface": [
           {
            "colorbar": {
             "outlinewidth": 0,
             "ticks": ""
            },
            "colorscale": [
             [
              0.0,
              "#0d0887"
             ],
             [
              0.1111111111111111,
              "#46039f"
             ],
             [
              0.2222222222222222,
              "#7201a8"
             ],
             [
              0.3333333333333333,
              "#9c179e"
             ],
             [
              0.4444444444444444,
              "#bd3786"
             ],
             [
              0.5555555555555556,
              "#d8576b"
             ],
             [
              0.6666666666666666,
              "#ed7953"
             ],
             [
              0.7777777777777778,
              "#fb9f3a"
             ],
             [
              0.8888888888888888,
              "#fdca26"
             ],
             [
              1.0,
              "#f0f921"
             ]
            ],
            "type": "surface"
           }
          ],
          "table": [
           {
            "cells": {
             "fill": {
              "color": "#EBF0F8"
             },
             "line": {
              "color": "white"
             }
            },
            "header": {
             "fill": {
              "color": "#C8D4E3"
             },
             "line": {
              "color": "white"
             }
            },
            "type": "table"
           }
          ]
         },
         "layout": {
          "annotationdefaults": {
           "arrowcolor": "#2a3f5f",
           "arrowhead": 0,
           "arrowwidth": 1
          },
          "autotypenumbers": "strict",
          "coloraxis": {
           "colorbar": {
            "outlinewidth": 0,
            "ticks": ""
           }
          },
          "colorscale": {
           "diverging": [
            [
             0,
             "#8e0152"
            ],
            [
             0.1,
             "#c51b7d"
            ],
            [
             0.2,
             "#de77ae"
            ],
            [
             0.3,
             "#f1b6da"
            ],
            [
             0.4,
             "#fde0ef"
            ],
            [
             0.5,
             "#f7f7f7"
            ],
            [
             0.6,
             "#e6f5d0"
            ],
            [
             0.7,
             "#b8e186"
            ],
            [
             0.8,
             "#7fbc41"
            ],
            [
             0.9,
             "#4d9221"
            ],
            [
             1,
             "#276419"
            ]
           ],
           "sequential": [
            [
             0.0,
             "#0d0887"
            ],
            [
             0.1111111111111111,
             "#46039f"
            ],
            [
             0.2222222222222222,
             "#7201a8"
            ],
            [
             0.3333333333333333,
             "#9c179e"
            ],
            [
             0.4444444444444444,
             "#bd3786"
            ],
            [
             0.5555555555555556,
             "#d8576b"
            ],
            [
             0.6666666666666666,
             "#ed7953"
            ],
            [
             0.7777777777777778,
             "#fb9f3a"
            ],
            [
             0.8888888888888888,
             "#fdca26"
            ],
            [
             1.0,
             "#f0f921"
            ]
           ],
           "sequentialminus": [
            [
             0.0,
             "#0d0887"
            ],
            [
             0.1111111111111111,
             "#46039f"
            ],
            [
             0.2222222222222222,
             "#7201a8"
            ],
            [
             0.3333333333333333,
             "#9c179e"
            ],
            [
             0.4444444444444444,
             "#bd3786"
            ],
            [
             0.5555555555555556,
             "#d8576b"
            ],
            [
             0.6666666666666666,
             "#ed7953"
            ],
            [
             0.7777777777777778,
             "#fb9f3a"
            ],
            [
             0.8888888888888888,
             "#fdca26"
            ],
            [
             1.0,
             "#f0f921"
            ]
           ]
          },
          "colorway": [
           "#636efa",
           "#EF553B",
           "#00cc96",
           "#ab63fa",
           "#FFA15A",
           "#19d3f3",
           "#FF6692",
           "#B6E880",
           "#FF97FF",
           "#FECB52"
          ],
          "font": {
           "color": "#2a3f5f"
          },
          "geo": {
           "bgcolor": "white",
           "lakecolor": "white",
           "landcolor": "white",
           "showlakes": true,
           "showland": true,
           "subunitcolor": "#C8D4E3"
          },
          "hoverlabel": {
           "align": "left"
          },
          "hovermode": "closest",
          "mapbox": {
           "style": "light"
          },
          "paper_bgcolor": "white",
          "plot_bgcolor": "white",
          "polar": {
           "angularaxis": {
            "gridcolor": "#EBF0F8",
            "linecolor": "#EBF0F8",
            "ticks": ""
           },
           "bgcolor": "white",
           "radialaxis": {
            "gridcolor": "#EBF0F8",
            "linecolor": "#EBF0F8",
            "ticks": ""
           }
          },
          "scene": {
           "xaxis": {
            "backgroundcolor": "white",
            "gridcolor": "#DFE8F3",
            "gridwidth": 2,
            "linecolor": "#EBF0F8",
            "showbackground": true,
            "ticks": "",
            "zerolinecolor": "#EBF0F8"
           },
           "yaxis": {
            "backgroundcolor": "white",
            "gridcolor": "#DFE8F3",
            "gridwidth": 2,
            "linecolor": "#EBF0F8",
            "showbackground": true,
            "ticks": "",
            "zerolinecolor": "#EBF0F8"
           },
           "zaxis": {
            "backgroundcolor": "white",
            "gridcolor": "#DFE8F3",
            "gridwidth": 2,
            "linecolor": "#EBF0F8",
            "showbackground": true,
            "ticks": "",
            "zerolinecolor": "#EBF0F8"
           }
          },
          "shapedefaults": {
           "line": {
            "color": "#2a3f5f"
           }
          },
          "ternary": {
           "aaxis": {
            "gridcolor": "#DFE8F3",
            "linecolor": "#A2B1C6",
            "ticks": ""
           },
           "baxis": {
            "gridcolor": "#DFE8F3",
            "linecolor": "#A2B1C6",
            "ticks": ""
           },
           "bgcolor": "white",
           "caxis": {
            "gridcolor": "#DFE8F3",
            "linecolor": "#A2B1C6",
            "ticks": ""
           }
          },
          "title": {
           "x": 0.05
          },
          "xaxis": {
           "automargin": true,
           "gridcolor": "#EBF0F8",
           "linecolor": "#EBF0F8",
           "ticks": "",
           "title": {
            "standoff": 15
           },
           "zerolinecolor": "#EBF0F8",
           "zerolinewidth": 2
          },
          "yaxis": {
           "automargin": true,
           "gridcolor": "#EBF0F8",
           "linecolor": "#EBF0F8",
           "ticks": "",
           "title": {
            "standoff": 15
           },
           "zerolinecolor": "#EBF0F8",
           "zerolinewidth": 2
          }
         }
        },
        "xaxis": {
         "anchor": "y",
         "domain": [
          0.0,
          1.0
         ],
         "title": {
          "text": "tsne_x"
         }
        },
        "yaxis": {
         "anchor": "x",
         "domain": [
          0.0,
          1.0
         ],
         "title": {
          "text": "tsne_y"
         }
        },
        "legend": {
         "title": {
          "text": "cluster"
         },
         "tracegroupgap": 0
        },
        "margin": {
         "t": 60
        }
       },
       "config": {
        "plotlyServerURL": "https://plot.ly"
       }
      },
      "text/html": [
       "<div>                            <div id=\"56617711-02c2-443b-a950-4220aa68f73f\" class=\"plotly-graph-div\" style=\"height:525px; width:100%;\"></div>            <script type=\"text/javascript\">                require([\"plotly\"], function(Plotly) {                    window.PLOTLYENV=window.PLOTLYENV || {};                                    if (document.getElementById(\"56617711-02c2-443b-a950-4220aa68f73f\")) {                    Plotly.newPlot(                        \"56617711-02c2-443b-a950-4220aa68f73f\",                        [{\"hovertemplate\":\"\\u003cb\\u003e%{hovertext}\\u003c\\u002fb\\u003e\\u003cbr\\u003e\\u003cbr\\u003ecluster=Philosophy\\u003cbr\\u003etsne_x=%{x}\\u003cbr\\u003etsne_y=%{y}\\u003cbr\\u003elabel=%{text}\\u003cextra\\u003e\\u003c\\u002fextra\\u003e\",\"hovertext\":[\"Epistemology\",\"Thinking\",\"Phenomenology\",\"Philosophy of mind\",\"Skepticism\",\"Rationalism\",\"Existentialism\",\"Aesthetics\",\"Metaphysics\",\"Philosophy\",\"Ethics\"],\"legendgroup\":\"Philosophy\",\"marker\":{\"color\":\"#636efa\",\"symbol\":\"circle\"},\"mode\":\"markers+text\",\"name\":\"Philosophy\",\"orientation\":\"v\",\"showlegend\":true,\"text\":[\"Epistemology\",\"Thinking\",\"Phenomenology\",\"Philosophy of mind\",\"Skepticism\",\"Rationalism\",\"Existentialism\",\"Aesthetics\",\"Metaphysics\",\"Philosophy\",\"Ethics\"],\"x\":[-1.3115264177322388,1.412262201309204,-3.0030746459960938,0.4667086899280548,-2.557969093322754,-1.6756477355957031,-0.7422481179237366,-8.193720817565918,-0.10942548513412476,-0.326900452375412,1.665959358215332],\"xaxis\":\"x\",\"y\":[5.929912567138672,7.436564922332764,4.331157207489014,7.154160976409912,6.9439263343811035,7.18859338760376,8.31009578704834,-2.826017141342163,4.6807026863098145,6.943269729614258,4.53517484664917],\"yaxis\":\"y\",\"type\":\"scatter\",\"textposition\":\"top center\"},{\"hovertemplate\":\"\\u003cb\\u003e%{hovertext}\\u003c\\u002fb\\u003e\\u003cbr\\u003e\\u003cbr\\u003ecluster=Nature\\u003cbr\\u003etsne_x=%{x}\\u003cbr\\u003etsne_y=%{y}\\u003cbr\\u003elabel=%{text}\\u003cextra\\u003e\\u003c\\u002fextra\\u003e\",\"hovertext\":[\"Earth science\",\"Paleontology\",\"Astronomy\",\"Biology\",\"Chemistry\",\"Physics\",\"Ecology\",\"Genetics\",\"Evolutionary biology\",\"Neuroscience\",\"Nature\"],\"legendgroup\":\"Nature\",\"marker\":{\"color\":\"#EF553B\",\"symbol\":\"circle\"},\"mode\":\"markers+text\",\"name\":\"Nature\",\"orientation\":\"v\",\"showlegend\":true,\"text\":[\"Earth science\",\"Paleontology\",\"Astronomy\",\"Biology\",\"Chemistry\",\"Physics\",\"Ecology\",\"Genetics\",\"Evolutionary biology\",\"Neuroscience\",\"Nature\"],\"x\":[0.8144840598106384,-4.466928482055664,1.7480932474136353,0.6125445365905762,3.9603843688964844,5.449156761169434,-0.7734192609786987,-0.16687661409378052,-0.07496990263462067,1.37582528591156,-0.5899149775505066],\"xaxis\":\"x\",\"y\":[-4.106220722198486,3.47204852104187,-4.191278457641602,-0.2804996073246002,-3.543203353881836,-2.6822190284729004,-1.9983633756637573,0.3065480589866638,-0.43770262598991394,1.520645260810852,-2.3004310131073],\"yaxis\":\"y\",\"type\":\"scatter\",\"textposition\":\"top center\"},{\"hovertemplate\":\"\\u003cb\\u003e%{hovertext}\\u003c\\u002fb\\u003e\\u003cbr\\u003e\\u003cbr\\u003ecluster=Society\\u003cbr\\u003etsne_x=%{x}\\u003cbr\\u003etsne_y=%{y}\\u003cbr\\u003elabel=%{text}\\u003cextra\\u003e\\u003c\\u002fextra\\u003e\",\"hovertext\":[\"Political science\",\"Anthropology\",\"Sociology\",\"Economics\",\"Psychology\",\"Society\",\"Social network\",\"Communication studies\",\"Cultural studies\",\"Community\",\"Law\"],\"legendgroup\":\"Society\",\"marker\":{\"color\":\"#00cc96\",\"symbol\":\"circle\"},\"mode\":\"markers+text\",\"name\":\"Society\",\"orientation\":\"v\",\"showlegend\":true,\"text\":[\"Political science\",\"Anthropology\",\"Sociology\",\"Economics\",\"Psychology\",\"Society\",\"Social network\",\"Communication studies\",\"Cultural studies\",\"Community\",\"Law\"],\"x\":[3.910567283630371,-3.1935336589813232,4.055124282836914,4.838180065155029,1.474287986755371,3.734710454940796,4.997614860534668,-0.2346430867910385,-1.7005287408828735,4.30817985534668,2.1697683334350586],\"xaxis\":\"x\",\"y\":[2.7173800468444824,3.30141544342041,4.269766807556152,2.949312210083008,2.2557358741760254,4.892703533172607,6.089258670806885,2.5383214950561523,2.467125654220581,6.128016471862793,4.130949974060059],\"yaxis\":\"y\",\"type\":\"scatter\",\"textposition\":\"top center\"},{\"hovertemplate\":\"\\u003cb\\u003e%{hovertext}\\u003c\\u002fb\\u003e\\u003cbr\\u003e\\u003cbr\\u003ecluster=Geography\\u003cbr\\u003etsne_x=%{x}\\u003cbr\\u003etsne_y=%{y}\\u003cbr\\u003elabel=%{text}\\u003cextra\\u003e\\u003c\\u002fextra\\u003e\",\"hovertext\":[\"Geography\",\"Earth\",\"Climate\",\"Demographics\",\"Geographic information system\",\"Map\",\"Continent\",\"Mountain\",\"River\",\"Island\",\"Ocean\"],\"legendgroup\":\"Geography\",\"marker\":{\"color\":\"#ab63fa\",\"symbol\":\"circle\"},\"mode\":\"markers+text\",\"name\":\"Geography\",\"orientation\":\"v\",\"showlegend\":true,\"text\":[\"Geography\",\"Earth\",\"Climate\",\"Demographics\",\"Geographic information system\",\"Map\",\"Continent\",\"Mountain\",\"River\",\"Island\",\"Ocean\"],\"x\":[-0.7489956021308899,-0.05440983921289444,-1.2158305644989014,6.703639030456543,-0.21370550990104675,-1.7208678722381592,-1.3353604078292847,-2.7742233276367188,-3.63726544380188,-2.914764881134033,-2.331777572631836],\"xaxis\":\"x\",\"y\":[-6.271200656890869,-4.255005836486816,-3.503671646118164,4.209258556365967,-6.9254937171936035,-7.610750675201416,-5.658391952514648,-6.703404903411865,-4.276760578155518,-5.271772861480713,-4.591452598571777],\"yaxis\":\"y\",\"type\":\"scatter\",\"textposition\":\"top center\"},{\"hovertemplate\":\"\\u003cb\\u003e%{hovertext}\\u003c\\u002fb\\u003e\\u003cbr\\u003e\\u003cbr\\u003ecluster=History\\u003cbr\\u003etsne_x=%{x}\\u003cbr\\u003etsne_y=%{y}\\u003cbr\\u003elabel=%{text}\\u003cextra\\u003e\\u003c\\u002fextra\\u003e\",\"hovertext\":[\"Age of Enlightenment\",\"World War II\",\"World War I\",\"Renaissance\",\"Middle Ages\",\"Prehistory\",\"History of China\",\"Ancient Greece\",\"Ancient Egypt\",\"History\",\"Industrial Age\"],\"legendgroup\":\"History\",\"marker\":{\"color\":\"#FFA15A\",\"symbol\":\"circle\"},\"mode\":\"markers+text\",\"name\":\"History\",\"orientation\":\"v\",\"showlegend\":true,\"text\":[\"Age of Enlightenment\",\"World War II\",\"World War I\",\"Renaissance\",\"Middle Ages\",\"Prehistory\",\"History of China\",\"Ancient Greece\",\"Ancient Egypt\",\"History\",\"Industrial Age\"],\"x\":[1.0308897495269775,-6.58947229385376,-6.587560653686523,-6.635373115539551,-6.911353588104248,-6.038962364196777,-6.771139144897461,-8.714184761047363,-8.699005126953125,-6.067205429077148,2.1882712841033936],\"xaxis\":\"x\",\"y\":[10.89377498626709,-6.7701826095581055,-6.774869918823242,1.9376137256622314,2.7565011978149414,4.230415344238281,5.5623016357421875,3.4824821949005127,3.5521950721740723,4.547339916229248,10.79734992980957],\"yaxis\":\"y\",\"type\":\"scatter\",\"textposition\":\"top center\"},{\"hovertemplate\":\"\\u003cb\\u003e%{hovertext}\\u003c\\u002fb\\u003e\\u003cbr\\u003e\\u003cbr\\u003ecluster=Culture\\u003cbr\\u003etsne_x=%{x}\\u003cbr\\u003etsne_y=%{y}\\u003cbr\\u003elabel=%{text}\\u003cextra\\u003e\\u003c\\u002fextra\\u003e\",\"hovertext\":[\"Art galleries\",\"Museums\",\"Poetry\",\"Fiction\",\"Photography\",\"Film\",\"Music\",\"Theatre\",\"Painting\",\"Dance\",\"Culture\"],\"legendgroup\":\"Culture\",\"marker\":{\"color\":\"#19d3f3\",\"symbol\":\"circle\"},\"mode\":\"markers+text\",\"name\":\"Culture\",\"orientation\":\"v\",\"showlegend\":true,\"text\":[\"Art galleries\",\"Museums\",\"Poetry\",\"Fiction\",\"Photography\",\"Film\",\"Music\",\"Theatre\",\"Painting\",\"Dance\",\"Culture\"],\"x\":[-7.931426525115967,-8.240470886230469,-3.4778292179107666,-4.470953941345215,-6.594771862030029,-5.279325485229492,-4.070065498352051,-6.238887786865234,-7.060267925262451,-4.118499755859375,-1.888062596321106],\"xaxis\":\"x\",\"y\":[-1.475134253501892,-0.7624858617782593,-0.4001352787017822,0.42254865169525146,-2.2160043716430664,-0.299102246761322,-1.5966726541519165,0.09918259084224701,-2.2090208530426025,-1.9065998792648315,2.294903516769409],\"yaxis\":\"y\",\"type\":\"scatter\",\"textposition\":\"top center\"},{\"hovertemplate\":\"\\u003cb\\u003e%{hovertext}\\u003c\\u002fb\\u003e\\u003cbr\\u003e\\u003cbr\\u003ecluster=Mathematics\\u003cbr\\u003etsne_x=%{x}\\u003cbr\\u003etsne_y=%{y}\\u003cbr\\u003elabel=%{text}\\u003cextra\\u003e\\u003c\\u002fextra\\u003e\",\"hovertext\":[\"Logic\",\"Equations\",\"Algebra\",\"Arithmetic\",\"Calculus\",\"Geometry\",\"Mathematics\",\"Topology\",\"Mathematical analysis\",\"Statistics\",\"Probability\"],\"legendgroup\":\"Mathematics\",\"marker\":{\"color\":\"#FF6692\",\"symbol\":\"circle\"},\"mode\":\"markers+text\",\"name\":\"Mathematics\",\"orientation\":\"v\",\"showlegend\":true,\"text\":[\"Logic\",\"Equations\",\"Algebra\",\"Arithmetic\",\"Calculus\",\"Geometry\",\"Mathematics\",\"Topology\",\"Mathematical analysis\",\"Statistics\",\"Probability\"],\"x\":[1.8596887588500977,10.648919105529785,10.118786811828613,9.6422119140625,10.072957038879395,8.542832374572754,8.754273414611816,6.83319091796875,8.305363655090332,7.779818058013916,8.377799987792969],\"xaxis\":\"x\",\"y\":[6.399441719055176,0.8153828382492065,0.9162672758102417,1.755196452140808,-0.4069240391254425,-0.4804428815841675,0.9498171210289001,7.463613033294678,1.1402802467346191,4.115288734436035,4.465083122253418],\"yaxis\":\"y\",\"type\":\"scatter\",\"textposition\":\"top center\"},{\"hovertemplate\":\"\\u003cb\\u003e%{hovertext}\\u003c\\u002fb\\u003e\\u003cbr\\u003e\\u003cbr\\u003ecluster=Technology\\u003cbr\\u003etsne_x=%{x}\\u003cbr\\u003etsne_y=%{y}\\u003cbr\\u003elabel=%{text}\\u003cextra\\u003e\\u003c\\u002fextra\\u003e\",\"hovertext\":[\"Technology\",\"Telecommunications\",\"Transport\",\"Robotics\",\"Information technology\",\"Materials science\",\"Biotechnology\",\"Engineering\",\"Computer science\",\"Environmental technology\",\"Energy technology\"],\"legendgroup\":\"Technology\",\"marker\":{\"color\":\"#B6E880\",\"symbol\":\"circle\"},\"mode\":\"markers+text\",\"name\":\"Technology\",\"orientation\":\"v\",\"showlegend\":true,\"text\":[\"Technology\",\"Telecommunications\",\"Transport\",\"Robotics\",\"Information technology\",\"Materials science\",\"Biotechnology\",\"Engineering\",\"Computer science\",\"Environmental technology\",\"Energy technology\"],\"x\":[3.8481030464172363,3.592129707336426,6.799543380737305,6.47304105758667,4.093094348907471,4.138695240020752,1.5250499248504639,5.480686664581299,5.432021617889404,2.955238103866577,3.763066053390503],\"xaxis\":\"x\",\"y\":[-0.42323026061058044,0.7947680950164795,-2.990579605102539,-1.3291581869125366,-0.06728767603635788,-3.2890899181365967,-0.786805272102356,-1.0274873971939087,0.3727380335330963,-1.410074234008789,-1.4590880870819092],\"yaxis\":\"y\",\"type\":\"scatter\",\"textposition\":\"top center\"},{\"hovertemplate\":\"\\u003cb\\u003e%{hovertext}\\u003c\\u002fb\\u003e\\u003cbr\\u003e\\u003cbr\\u003ecluster=Health\\u003cbr\\u003etsne_x=%{x}\\u003cbr\\u003etsne_y=%{y}\\u003cbr\\u003elabel=%{text}\\u003cextra\\u003e\\u003c\\u002fextra\\u003e\",\"hovertext\":[\"Health\",\"Health care\",\"Nutrition\",\"Physical fitness\",\"Mental health\",\"Body composition\",\"Complementary medicine\",\"Hygiene\",\"Medicine\",\"Preventive medicine\",\"Public health\"],\"legendgroup\":\"Health\",\"marker\":{\"color\":\"#FF97FF\",\"symbol\":\"circle\"},\"mode\":\"markers+text\",\"name\":\"Health\",\"orientation\":\"v\",\"showlegend\":true,\"text\":[\"Health\",\"Health care\",\"Nutrition\",\"Physical fitness\",\"Mental health\",\"Body composition\",\"Complementary medicine\",\"Hygiene\",\"Medicine\",\"Preventive medicine\",\"Public health\"],\"x\":[4.844113826751709,4.994468688964844,8.609722137451172,7.255550861358643,4.711609363555908,8.197342872619629,6.206762790679932,3.2424538135528564,5.418592929840088,5.371419906616211,4.095291614532471],\"xaxis\":\"x\",\"y\":[-7.570119857788086,-7.977818965911865,-6.818167686462402,-6.279166221618652,-6.43642520904541,-6.553867340087891,-10.0034818649292,-8.613910675048828,-8.908174514770508,-9.895774841308594,-7.738661289215088],\"yaxis\":\"y\",\"type\":\"scatter\",\"textposition\":\"top center\"},{\"hovertemplate\":\"\\u003cb\\u003e%{hovertext}\\u003c\\u002fb\\u003e\\u003cbr\\u003e\\u003cbr\\u003ecluster=Religion\\u003cbr\\u003etsne_x=%{x}\\u003cbr\\u003etsne_y=%{y}\\u003cbr\\u003elabel=%{text}\\u003cextra\\u003e\\u003c\\u002fextra\\u003e\",\"hovertext\":[\"Polytheism\",\"Agnosticism\",\"Atheism\",\"Confucianism\",\"Judaism\",\"Hinduism\",\"Islam\",\"Christianity\",\"Buddhism\",\"Religion\",\"Deism\"],\"legendgroup\":\"Religion\",\"marker\":{\"color\":\"#FECB52\",\"symbol\":\"circle\"},\"mode\":\"markers+text\",\"name\":\"Religion\",\"orientation\":\"v\",\"showlegend\":true,\"text\":[\"Polytheism\",\"Agnosticism\",\"Atheism\",\"Confucianism\",\"Judaism\",\"Hinduism\",\"Islam\",\"Christianity\",\"Buddhism\",\"Religion\",\"Deism\"],\"x\":[-4.887693405151367,-3.1362037658691406,-3.6938767433166504,-0.5688083171844482,-3.727126121520996,-2.7317521572113037,-2.885669708251953,-2.75917387008667,-1.4804991483688354,-2.440877914428711,-4.851194381713867],\"xaxis\":\"x\",\"y\":[10.157623291015625,7.9820780754089355,8.634847640991211,9.782048225402832,10.659433364868164,11.65723991394043,10.609647750854492,9.740189552307129,10.72657299041748,9.5858736038208,8.656291961669922],\"yaxis\":\"y\",\"type\":\"scatter\",\"textposition\":\"top center\"}],                        {\"template\":{\"data\":{\"barpolar\":[{\"marker\":{\"line\":{\"color\":\"white\",\"width\":0.5},\"pattern\":{\"fillmode\":\"overlay\",\"size\":10,\"solidity\":0.2}},\"type\":\"barpolar\"}],\"bar\":[{\"error_x\":{\"color\":\"#2a3f5f\"},\"error_y\":{\"color\":\"#2a3f5f\"},\"marker\":{\"line\":{\"color\":\"white\",\"width\":0.5},\"pattern\":{\"fillmode\":\"overlay\",\"size\":10,\"solidity\":0.2}},\"type\":\"bar\"}],\"carpet\":[{\"aaxis\":{\"endlinecolor\":\"#2a3f5f\",\"gridcolor\":\"#C8D4E3\",\"linecolor\":\"#C8D4E3\",\"minorgridcolor\":\"#C8D4E3\",\"startlinecolor\":\"#2a3f5f\"},\"baxis\":{\"endlinecolor\":\"#2a3f5f\",\"gridcolor\":\"#C8D4E3\",\"linecolor\":\"#C8D4E3\",\"minorgridcolor\":\"#C8D4E3\",\"startlinecolor\":\"#2a3f5f\"},\"type\":\"carpet\"}],\"choropleth\":[{\"colorbar\":{\"outlinewidth\":0,\"ticks\":\"\"},\"type\":\"choropleth\"}],\"contourcarpet\":[{\"colorbar\":{\"outlinewidth\":0,\"ticks\":\"\"},\"type\":\"contourcarpet\"}],\"contour\":[{\"colorbar\":{\"outlinewidth\":0,\"ticks\":\"\"},\"colorscale\":[[0.0,\"#0d0887\"],[0.1111111111111111,\"#46039f\"],[0.2222222222222222,\"#7201a8\"],[0.3333333333333333,\"#9c179e\"],[0.4444444444444444,\"#bd3786\"],[0.5555555555555556,\"#d8576b\"],[0.6666666666666666,\"#ed7953\"],[0.7777777777777778,\"#fb9f3a\"],[0.8888888888888888,\"#fdca26\"],[1.0,\"#f0f921\"]],\"type\":\"contour\"}],\"heatmapgl\":[{\"colorbar\":{\"outlinewidth\":0,\"ticks\":\"\"},\"colorscale\":[[0.0,\"#0d0887\"],[0.1111111111111111,\"#46039f\"],[0.2222222222222222,\"#7201a8\"],[0.3333333333333333,\"#9c179e\"],[0.4444444444444444,\"#bd3786\"],[0.5555555555555556,\"#d8576b\"],[0.6666666666666666,\"#ed7953\"],[0.7777777777777778,\"#fb9f3a\"],[0.8888888888888888,\"#fdca26\"],[1.0,\"#f0f921\"]],\"type\":\"heatmapgl\"}],\"heatmap\":[{\"colorbar\":{\"outlinewidth\":0,\"ticks\":\"\"},\"colorscale\":[[0.0,\"#0d0887\"],[0.1111111111111111,\"#46039f\"],[0.2222222222222222,\"#7201a8\"],[0.3333333333333333,\"#9c179e\"],[0.4444444444444444,\"#bd3786\"],[0.5555555555555556,\"#d8576b\"],[0.6666666666666666,\"#ed7953\"],[0.7777777777777778,\"#fb9f3a\"],[0.8888888888888888,\"#fdca26\"],[1.0,\"#f0f921\"]],\"type\":\"heatmap\"}],\"histogram2dcontour\":[{\"colorbar\":{\"outlinewidth\":0,\"ticks\":\"\"},\"colorscale\":[[0.0,\"#0d0887\"],[0.1111111111111111,\"#46039f\"],[0.2222222222222222,\"#7201a8\"],[0.3333333333333333,\"#9c179e\"],[0.4444444444444444,\"#bd3786\"],[0.5555555555555556,\"#d8576b\"],[0.6666666666666666,\"#ed7953\"],[0.7777777777777778,\"#fb9f3a\"],[0.8888888888888888,\"#fdca26\"],[1.0,\"#f0f921\"]],\"type\":\"histogram2dcontour\"}],\"histogram2d\":[{\"colorbar\":{\"outlinewidth\":0,\"ticks\":\"\"},\"colorscale\":[[0.0,\"#0d0887\"],[0.1111111111111111,\"#46039f\"],[0.2222222222222222,\"#7201a8\"],[0.3333333333333333,\"#9c179e\"],[0.4444444444444444,\"#bd3786\"],[0.5555555555555556,\"#d8576b\"],[0.6666666666666666,\"#ed7953\"],[0.7777777777777778,\"#fb9f3a\"],[0.8888888888888888,\"#fdca26\"],[1.0,\"#f0f921\"]],\"type\":\"histogram2d\"}],\"histogram\":[{\"marker\":{\"pattern\":{\"fillmode\":\"overlay\",\"size\":10,\"solidity\":0.2}},\"type\":\"histogram\"}],\"mesh3d\":[{\"colorbar\":{\"outlinewidth\":0,\"ticks\":\"\"},\"type\":\"mesh3d\"}],\"parcoords\":[{\"line\":{\"colorbar\":{\"outlinewidth\":0,\"ticks\":\"\"}},\"type\":\"parcoords\"}],\"pie\":[{\"automargin\":true,\"type\":\"pie\"}],\"scatter3d\":[{\"line\":{\"colorbar\":{\"outlinewidth\":0,\"ticks\":\"\"}},\"marker\":{\"colorbar\":{\"outlinewidth\":0,\"ticks\":\"\"}},\"type\":\"scatter3d\"}],\"scattercarpet\":[{\"marker\":{\"colorbar\":{\"outlinewidth\":0,\"ticks\":\"\"}},\"type\":\"scattercarpet\"}],\"scattergeo\":[{\"marker\":{\"colorbar\":{\"outlinewidth\":0,\"ticks\":\"\"}},\"type\":\"scattergeo\"}],\"scattergl\":[{\"marker\":{\"colorbar\":{\"outlinewidth\":0,\"ticks\":\"\"}},\"type\":\"scattergl\"}],\"scattermapbox\":[{\"marker\":{\"colorbar\":{\"outlinewidth\":0,\"ticks\":\"\"}},\"type\":\"scattermapbox\"}],\"scatterpolargl\":[{\"marker\":{\"colorbar\":{\"outlinewidth\":0,\"ticks\":\"\"}},\"type\":\"scatterpolargl\"}],\"scatterpolar\":[{\"marker\":{\"colorbar\":{\"outlinewidth\":0,\"ticks\":\"\"}},\"type\":\"scatterpolar\"}],\"scatter\":[{\"fillpattern\":{\"fillmode\":\"overlay\",\"size\":10,\"solidity\":0.2},\"type\":\"scatter\"}],\"scatterternary\":[{\"marker\":{\"colorbar\":{\"outlinewidth\":0,\"ticks\":\"\"}},\"type\":\"scatterternary\"}],\"surface\":[{\"colorbar\":{\"outlinewidth\":0,\"ticks\":\"\"},\"colorscale\":[[0.0,\"#0d0887\"],[0.1111111111111111,\"#46039f\"],[0.2222222222222222,\"#7201a8\"],[0.3333333333333333,\"#9c179e\"],[0.4444444444444444,\"#bd3786\"],[0.5555555555555556,\"#d8576b\"],[0.6666666666666666,\"#ed7953\"],[0.7777777777777778,\"#fb9f3a\"],[0.8888888888888888,\"#fdca26\"],[1.0,\"#f0f921\"]],\"type\":\"surface\"}],\"table\":[{\"cells\":{\"fill\":{\"color\":\"#EBF0F8\"},\"line\":{\"color\":\"white\"}},\"header\":{\"fill\":{\"color\":\"#C8D4E3\"},\"line\":{\"color\":\"white\"}},\"type\":\"table\"}]},\"layout\":{\"annotationdefaults\":{\"arrowcolor\":\"#2a3f5f\",\"arrowhead\":0,\"arrowwidth\":1},\"autotypenumbers\":\"strict\",\"coloraxis\":{\"colorbar\":{\"outlinewidth\":0,\"ticks\":\"\"}},\"colorscale\":{\"diverging\":[[0,\"#8e0152\"],[0.1,\"#c51b7d\"],[0.2,\"#de77ae\"],[0.3,\"#f1b6da\"],[0.4,\"#fde0ef\"],[0.5,\"#f7f7f7\"],[0.6,\"#e6f5d0\"],[0.7,\"#b8e186\"],[0.8,\"#7fbc41\"],[0.9,\"#4d9221\"],[1,\"#276419\"]],\"sequential\":[[0.0,\"#0d0887\"],[0.1111111111111111,\"#46039f\"],[0.2222222222222222,\"#7201a8\"],[0.3333333333333333,\"#9c179e\"],[0.4444444444444444,\"#bd3786\"],[0.5555555555555556,\"#d8576b\"],[0.6666666666666666,\"#ed7953\"],[0.7777777777777778,\"#fb9f3a\"],[0.8888888888888888,\"#fdca26\"],[1.0,\"#f0f921\"]],\"sequentialminus\":[[0.0,\"#0d0887\"],[0.1111111111111111,\"#46039f\"],[0.2222222222222222,\"#7201a8\"],[0.3333333333333333,\"#9c179e\"],[0.4444444444444444,\"#bd3786\"],[0.5555555555555556,\"#d8576b\"],[0.6666666666666666,\"#ed7953\"],[0.7777777777777778,\"#fb9f3a\"],[0.8888888888888888,\"#fdca26\"],[1.0,\"#f0f921\"]]},\"colorway\":[\"#636efa\",\"#EF553B\",\"#00cc96\",\"#ab63fa\",\"#FFA15A\",\"#19d3f3\",\"#FF6692\",\"#B6E880\",\"#FF97FF\",\"#FECB52\"],\"font\":{\"color\":\"#2a3f5f\"},\"geo\":{\"bgcolor\":\"white\",\"lakecolor\":\"white\",\"landcolor\":\"white\",\"showlakes\":true,\"showland\":true,\"subunitcolor\":\"#C8D4E3\"},\"hoverlabel\":{\"align\":\"left\"},\"hovermode\":\"closest\",\"mapbox\":{\"style\":\"light\"},\"paper_bgcolor\":\"white\",\"plot_bgcolor\":\"white\",\"polar\":{\"angularaxis\":{\"gridcolor\":\"#EBF0F8\",\"linecolor\":\"#EBF0F8\",\"ticks\":\"\"},\"bgcolor\":\"white\",\"radialaxis\":{\"gridcolor\":\"#EBF0F8\",\"linecolor\":\"#EBF0F8\",\"ticks\":\"\"}},\"scene\":{\"xaxis\":{\"backgroundcolor\":\"white\",\"gridcolor\":\"#DFE8F3\",\"gridwidth\":2,\"linecolor\":\"#EBF0F8\",\"showbackground\":true,\"ticks\":\"\",\"zerolinecolor\":\"#EBF0F8\"},\"yaxis\":{\"backgroundcolor\":\"white\",\"gridcolor\":\"#DFE8F3\",\"gridwidth\":2,\"linecolor\":\"#EBF0F8\",\"showbackground\":true,\"ticks\":\"\",\"zerolinecolor\":\"#EBF0F8\"},\"zaxis\":{\"backgroundcolor\":\"white\",\"gridcolor\":\"#DFE8F3\",\"gridwidth\":2,\"linecolor\":\"#EBF0F8\",\"showbackground\":true,\"ticks\":\"\",\"zerolinecolor\":\"#EBF0F8\"}},\"shapedefaults\":{\"line\":{\"color\":\"#2a3f5f\"}},\"ternary\":{\"aaxis\":{\"gridcolor\":\"#DFE8F3\",\"linecolor\":\"#A2B1C6\",\"ticks\":\"\"},\"baxis\":{\"gridcolor\":\"#DFE8F3\",\"linecolor\":\"#A2B1C6\",\"ticks\":\"\"},\"bgcolor\":\"white\",\"caxis\":{\"gridcolor\":\"#DFE8F3\",\"linecolor\":\"#A2B1C6\",\"ticks\":\"\"}},\"title\":{\"x\":0.05},\"xaxis\":{\"automargin\":true,\"gridcolor\":\"#EBF0F8\",\"linecolor\":\"#EBF0F8\",\"ticks\":\"\",\"title\":{\"standoff\":15},\"zerolinecolor\":\"#EBF0F8\",\"zerolinewidth\":2},\"yaxis\":{\"automargin\":true,\"gridcolor\":\"#EBF0F8\",\"linecolor\":\"#EBF0F8\",\"ticks\":\"\",\"title\":{\"standoff\":15},\"zerolinecolor\":\"#EBF0F8\",\"zerolinewidth\":2}}},\"xaxis\":{\"anchor\":\"y\",\"domain\":[0.0,1.0],\"title\":{\"text\":\"tsne_x\"}},\"yaxis\":{\"anchor\":\"x\",\"domain\":[0.0,1.0],\"title\":{\"text\":\"tsne_y\"}},\"legend\":{\"title\":{\"text\":\"cluster\"},\"tracegroupgap\":0},\"margin\":{\"t\":60}},                        {\"responsive\": true}                    ).then(function(){\n",
       "                            \n",
       "var gd = document.getElementById('56617711-02c2-443b-a950-4220aa68f73f');\n",
       "var x = new MutationObserver(function (mutations, observer) {{\n",
       "        var display = window.getComputedStyle(gd).display;\n",
       "        if (!display || display === 'none') {{\n",
       "            console.log([gd, 'removed!']);\n",
       "            Plotly.purge(gd);\n",
       "            observer.disconnect();\n",
       "        }}\n",
       "}});\n",
       "\n",
       "// Listen for the removal of the full notebook cells\n",
       "var notebookContainer = gd.closest('#notebook-container');\n",
       "if (notebookContainer) {{\n",
       "    x.observe(notebookContainer, {childList: true});\n",
       "}}\n",
       "\n",
       "// Listen for the clearing of the current output cell\n",
       "var outputEl = gd.closest('.output');\n",
       "if (outputEl) {{\n",
       "    x.observe(outputEl, {childList: true});\n",
       "}}\n",
       "\n",
       "                        })                };                });            </script>        </div>"
      ]
     },
     "metadata": {},
     "output_type": "display_data"
    },
    {
     "data": {
      "application/vnd.plotly.v1+json": {
       "data": [
        {
         "hovertemplate": "<b>%{hovertext}</b><br><br>cluster=Culture -> Film<br>tsne_x=%{x}<br>tsne_y=%{y}<br>label=%{text}<extra></extra>",
         "hovertext": [
          "Aesthetics",
          "Photography",
          "Theatre",
          "Music",
          "Film",
          "Painting",
          "Fiction",
          "Poetry",
          "Museums",
          "Art galleries",
          "Dance"
         ],
         "legendgroup": "Culture -> Film",
         "marker": {
          "color": "#636efa",
          "symbol": "circle"
         },
         "mode": "markers+text",
         "name": "Culture -> Film",
         "orientation": "v",
         "showlegend": true,
         "text": [
          "Aesthetics",
          "Photography",
          "Theatre",
          "Music",
          "Film",
          "Painting",
          "Fiction",
          "Poetry",
          "Museums",
          "Art galleries",
          "Dance"
         ],
         "x": [
          -8.193720817565918,
          -6.594771862030029,
          -6.238887786865234,
          -4.070065498352051,
          -5.279325485229492,
          -7.060267925262451,
          -4.470953941345215,
          -3.4778292179107666,
          -8.240470886230469,
          -7.931426525115967,
          -4.118499755859375
         ],
         "xaxis": "x",
         "y": [
          -2.826017141342163,
          -2.2160043716430664,
          0.09918259084224701,
          -1.5966726541519165,
          -0.299102246761322,
          -2.2090208530426025,
          0.42254865169525146,
          -0.4001352787017822,
          -0.7624858617782593,
          -1.475134253501892,
          -1.9065998792648315
         ],
         "yaxis": "y",
         "type": "scatter",
         "textposition": "top center"
        },
        {
         "hovertemplate": "<b>%{hovertext}</b><br><br>cluster=Geography -> Geography<br>tsne_x=%{x}<br>tsne_y=%{y}<br>label=%{text}<extra></extra>",
         "hovertext": [
          "Ocean",
          "Geometry",
          "Social network",
          "Topology",
          "Nature",
          "Astronomy",
          "Ecology",
          "Earth science",
          "Community",
          "River",
          "Island",
          "Geography",
          "Earth",
          "Continent",
          "Climate",
          "Geographic information system",
          "Map",
          "Mountain"
         ],
         "legendgroup": "Geography -> Geography",
         "marker": {
          "color": "#EF553B",
          "symbol": "circle"
         },
         "mode": "markers+text",
         "name": "Geography -> Geography",
         "orientation": "v",
         "showlegend": true,
         "text": [
          "Ocean",
          "Geometry",
          "Social network",
          "Topology",
          "Nature",
          "Astronomy",
          "Ecology",
          "Earth science",
          "Community",
          "River",
          "Island",
          "Geography",
          "Earth",
          "Continent",
          "Climate",
          "Geographic information system",
          "Map",
          "Mountain"
         ],
         "x": [
          -2.331777572631836,
          8.542832374572754,
          4.997614860534668,
          6.83319091796875,
          -0.5899149775505066,
          1.7480932474136353,
          -0.7734192609786987,
          0.8144840598106384,
          4.30817985534668,
          -3.63726544380188,
          -2.914764881134033,
          -0.7489956021308899,
          -0.05440983921289444,
          -1.3353604078292847,
          -1.2158305644989014,
          -0.21370550990104675,
          -1.7208678722381592,
          -2.7742233276367188
         ],
         "xaxis": "x",
         "y": [
          -4.591452598571777,
          -0.4804428815841675,
          6.089258670806885,
          7.463613033294678,
          -2.3004310131073,
          -4.191278457641602,
          -1.9983633756637573,
          -4.106220722198486,
          6.128016471862793,
          -4.276760578155518,
          -5.271772861480713,
          -6.271200656890869,
          -4.255005836486816,
          -5.658391952514648,
          -3.503671646118164,
          -6.9254937171936035,
          -7.610750675201416,
          -6.703404903411865
         ],
         "yaxis": "y",
         "type": "scatter",
         "textposition": "top center"
        },
        {
         "hovertemplate": "<b>%{hovertext}</b><br><br>cluster=Health -> Health<br>tsne_x=%{x}<br>tsne_y=%{y}<br>label=%{text}<extra></extra>",
         "hovertext": [
          "Medicine",
          "Preventive medicine",
          "Complementary medicine",
          "Public health",
          "Mental health",
          "Health care",
          "Health",
          "Hygiene"
         ],
         "legendgroup": "Health -> Health",
         "marker": {
          "color": "#00cc96",
          "symbol": "circle"
         },
         "mode": "markers+text",
         "name": "Health -> Health",
         "orientation": "v",
         "showlegend": true,
         "text": [
          "Medicine",
          "Preventive medicine",
          "Complementary medicine",
          "Public health",
          "Mental health",
          "Health care",
          "Health",
          "Hygiene"
         ],
         "x": [
          5.418592929840088,
          5.371419906616211,
          6.206762790679932,
          4.095291614532471,
          4.711609363555908,
          4.994468688964844,
          4.844113826751709,
          3.2424538135528564
         ],
         "xaxis": "x",
         "y": [
          -8.908174514770508,
          -9.895774841308594,
          -10.0034818649292,
          -7.738661289215088,
          -6.43642520904541,
          -7.977818965911865,
          -7.570119857788086,
          -8.613910675048828
         ],
         "yaxis": "y",
         "type": "scatter",
         "textposition": "top center"
        },
        {
         "hovertemplate": "<b>%{hovertext}</b><br><br>cluster=History -> History<br>tsne_x=%{x}<br>tsne_y=%{y}<br>label=%{text}<extra></extra>",
         "hovertext": [
          "Paleontology",
          "Anthropology",
          "Phenomenology",
          "Age of Enlightenment",
          "Industrial Age",
          "Culture",
          "Renaissance",
          "Cultural studies",
          "Ancient Egypt",
          "History of China",
          "Prehistory",
          "History",
          "Ancient Greece",
          "Middle Ages"
         ],
         "legendgroup": "History -> History",
         "marker": {
          "color": "#ab63fa",
          "symbol": "circle"
         },
         "mode": "markers+text",
         "name": "History -> History",
         "orientation": "v",
         "showlegend": true,
         "text": [
          "Paleontology",
          "Anthropology",
          "Phenomenology",
          "Age of Enlightenment",
          "Industrial Age",
          "Culture",
          "Renaissance",
          "Cultural studies",
          "Ancient Egypt",
          "History of China",
          "Prehistory",
          "History",
          "Ancient Greece",
          "Middle Ages"
         ],
         "x": [
          -4.466928482055664,
          -3.1935336589813232,
          -3.0030746459960938,
          1.0308897495269775,
          2.1882712841033936,
          -1.888062596321106,
          -6.635373115539551,
          -1.7005287408828735,
          -8.699005126953125,
          -6.771139144897461,
          -6.038962364196777,
          -6.067205429077148,
          -8.714184761047363,
          -6.911353588104248
         ],
         "xaxis": "x",
         "y": [
          3.47204852104187,
          3.30141544342041,
          4.331157207489014,
          10.89377498626709,
          10.79734992980957,
          2.294903516769409,
          1.9376137256622314,
          2.467125654220581,
          3.5521950721740723,
          5.5623016357421875,
          4.230415344238281,
          4.547339916229248,
          3.4824821949005127,
          2.7565011978149414
         ],
         "yaxis": "y",
         "type": "scatter",
         "textposition": "top center"
        },
        {
         "hovertemplate": "<b>%{hovertext}</b><br><br>cluster=Mathematics -> Mathematics<br>tsne_x=%{x}<br>tsne_y=%{y}<br>label=%{text}<extra></extra>",
         "hovertext": [
          "Mathematics",
          "Algebra",
          "Calculus",
          "Mathematical analysis",
          "Arithmetic",
          "Equations"
         ],
         "legendgroup": "Mathematics -> Mathematics",
         "marker": {
          "color": "#FFA15A",
          "symbol": "circle"
         },
         "mode": "markers+text",
         "name": "Mathematics -> Mathematics",
         "orientation": "v",
         "showlegend": true,
         "text": [
          "Mathematics",
          "Algebra",
          "Calculus",
          "Mathematical analysis",
          "Arithmetic",
          "Equations"
         ],
         "x": [
          8.754273414611816,
          10.118786811828613,
          10.072957038879395,
          8.305363655090332,
          9.6422119140625,
          10.648919105529785
         ],
         "xaxis": "x",
         "y": [
          0.9498171210289001,
          0.9162672758102417,
          -0.4069240391254425,
          1.1402802467346191,
          1.755196452140808,
          0.8153828382492065
         ],
         "yaxis": "y",
         "type": "scatter",
         "textposition": "top center"
        },
        {
         "hovertemplate": "<b>%{hovertext}</b><br><br>cluster=Nature -> Biology<br>tsne_x=%{x}<br>tsne_y=%{y}<br>label=%{text}<extra></extra>",
         "hovertext": [
          "Evolutionary biology",
          "Biology",
          "Body composition",
          "Genetics",
          "Physical fitness",
          "Nutrition",
          "Biotechnology"
         ],
         "legendgroup": "Nature -> Biology",
         "marker": {
          "color": "#19d3f3",
          "symbol": "circle"
         },
         "mode": "markers+text",
         "name": "Nature -> Biology",
         "orientation": "v",
         "showlegend": true,
         "text": [
          "Evolutionary biology",
          "Biology",
          "Body composition",
          "Genetics",
          "Physical fitness",
          "Nutrition",
          "Biotechnology"
         ],
         "x": [
          -0.07496990263462067,
          0.6125445365905762,
          8.197342872619629,
          -0.16687661409378052,
          7.255550861358643,
          8.609722137451172,
          1.5250499248504639
         ],
         "xaxis": "x",
         "y": [
          -0.43770262598991394,
          -0.2804996073246002,
          -6.553867340087891,
          0.3065480589866638,
          -6.279166221618652,
          -6.818167686462402,
          -0.786805272102356
         ],
         "yaxis": "y",
         "type": "scatter",
         "textposition": "top center"
        },
        {
         "hovertemplate": "<b>%{hovertext}</b><br><br>cluster=Philosophy -> Philosophy<br>tsne_x=%{x}<br>tsne_y=%{y}<br>label=%{text}<extra></extra>",
         "hovertext": [
          "Rationalism",
          "Skepticism",
          "Existentialism",
          "Confucianism",
          "Psychology",
          "Philosophy of mind",
          "Thinking",
          "Logic",
          "Epistemology",
          "Philosophy",
          "Neuroscience"
         ],
         "legendgroup": "Philosophy -> Philosophy",
         "marker": {
          "color": "#FF6692",
          "symbol": "circle"
         },
         "mode": "markers+text",
         "name": "Philosophy -> Philosophy",
         "orientation": "v",
         "showlegend": true,
         "text": [
          "Rationalism",
          "Skepticism",
          "Existentialism",
          "Confucianism",
          "Psychology",
          "Philosophy of mind",
          "Thinking",
          "Logic",
          "Epistemology",
          "Philosophy",
          "Neuroscience"
         ],
         "x": [
          -1.6756477355957031,
          -2.557969093322754,
          -0.7422481179237366,
          -0.5688083171844482,
          1.474287986755371,
          0.4667086899280548,
          1.412262201309204,
          1.8596887588500977,
          -1.3115264177322388,
          -0.326900452375412,
          1.37582528591156
         ],
         "xaxis": "x",
         "y": [
          7.18859338760376,
          6.9439263343811035,
          8.31009578704834,
          9.782048225402832,
          2.2557358741760254,
          7.154160976409912,
          7.436564922332764,
          6.399441719055176,
          5.929912567138672,
          6.943269729614258,
          1.520645260810852
         ],
         "yaxis": "y",
         "type": "scatter",
         "textposition": "top center"
        },
        {
         "hovertemplate": "<b>%{hovertext}</b><br><br>cluster=Religion -> Religion<br>tsne_x=%{x}<br>tsne_y=%{y}<br>label=%{text}<extra></extra>",
         "hovertext": [
          "Polytheism",
          "Agnosticism",
          "Atheism",
          "Judaism",
          "Islam",
          "Deism",
          "Buddhism",
          "Religion",
          "Christianity",
          "Hinduism"
         ],
         "legendgroup": "Religion -> Religion",
         "marker": {
          "color": "#B6E880",
          "symbol": "circle"
         },
         "mode": "markers+text",
         "name": "Religion -> Religion",
         "orientation": "v",
         "showlegend": true,
         "text": [
          "Polytheism",
          "Agnosticism",
          "Atheism",
          "Judaism",
          "Islam",
          "Deism",
          "Buddhism",
          "Religion",
          "Christianity",
          "Hinduism"
         ],
         "x": [
          -4.887693405151367,
          -3.1362037658691406,
          -3.6938767433166504,
          -3.727126121520996,
          -2.885669708251953,
          -4.851194381713867,
          -1.4804991483688354,
          -2.440877914428711,
          -2.75917387008667,
          -2.7317521572113037
         ],
         "xaxis": "x",
         "y": [
          10.157623291015625,
          7.9820780754089355,
          8.634847640991211,
          10.659433364868164,
          10.609647750854492,
          8.656291961669922,
          10.72657299041748,
          9.5858736038208,
          9.740189552307129,
          11.65723991394043
         ],
         "yaxis": "y",
         "type": "scatter",
         "textposition": "top center"
        },
        {
         "hovertemplate": "<b>%{hovertext}</b><br><br>cluster=Society -> Sociology<br>tsne_x=%{x}<br>tsne_y=%{y}<br>label=%{text}<extra></extra>",
         "hovertext": [
          "Political science",
          "Probability",
          "World War II",
          "Law",
          "World War I",
          "Statistics",
          "Sociology",
          "Society",
          "Ethics",
          "Economics",
          "Demographics"
         ],
         "legendgroup": "Society -> Sociology",
         "marker": {
          "color": "#FF97FF",
          "symbol": "circle"
         },
         "mode": "markers+text",
         "name": "Society -> Sociology",
         "orientation": "v",
         "showlegend": true,
         "text": [
          "Political science",
          "Probability",
          "World War II",
          "Law",
          "World War I",
          "Statistics",
          "Sociology",
          "Society",
          "Ethics",
          "Economics",
          "Demographics"
         ],
         "x": [
          3.910567283630371,
          8.377799987792969,
          -6.58947229385376,
          2.1697683334350586,
          -6.587560653686523,
          7.779818058013916,
          4.055124282836914,
          3.734710454940796,
          1.665959358215332,
          4.838180065155029,
          6.703639030456543
         ],
         "xaxis": "x",
         "y": [
          2.7173800468444824,
          4.465083122253418,
          -6.7701826095581055,
          4.130949974060059,
          -6.774869918823242,
          4.115288734436035,
          4.269766807556152,
          4.892703533172607,
          4.53517484664917,
          2.949312210083008,
          4.209258556365967
         ],
         "yaxis": "y",
         "type": "scatter",
         "textposition": "top center"
        },
        {
         "hovertemplate": "<b>%{hovertext}</b><br><br>cluster=Technology -> Technology<br>tsne_x=%{x}<br>tsne_y=%{y}<br>label=%{text}<extra></extra>",
         "hovertext": [
          "Robotics",
          "Materials science",
          "Transport",
          "Information technology",
          "Telecommunications",
          "Metaphysics",
          "Computer science",
          "Technology",
          "Communication studies",
          "Environmental technology",
          "Chemistry",
          "Physics",
          "Engineering",
          "Energy technology"
         ],
         "legendgroup": "Technology -> Technology",
         "marker": {
          "color": "#FECB52",
          "symbol": "circle"
         },
         "mode": "markers+text",
         "name": "Technology -> Technology",
         "orientation": "v",
         "showlegend": true,
         "text": [
          "Robotics",
          "Materials science",
          "Transport",
          "Information technology",
          "Telecommunications",
          "Metaphysics",
          "Computer science",
          "Technology",
          "Communication studies",
          "Environmental technology",
          "Chemistry",
          "Physics",
          "Engineering",
          "Energy technology"
         ],
         "x": [
          6.47304105758667,
          4.138695240020752,
          6.799543380737305,
          4.093094348907471,
          3.592129707336426,
          -0.10942548513412476,
          5.432021617889404,
          3.8481030464172363,
          -0.2346430867910385,
          2.955238103866577,
          3.9603843688964844,
          5.449156761169434,
          5.480686664581299,
          3.763066053390503
         ],
         "xaxis": "x",
         "y": [
          -1.3291581869125366,
          -3.2890899181365967,
          -2.990579605102539,
          -0.06728767603635788,
          0.7947680950164795,
          4.6807026863098145,
          0.3727380335330963,
          -0.42323026061058044,
          2.5383214950561523,
          -1.410074234008789,
          -3.543203353881836,
          -2.6822190284729004,
          -1.0274873971939087,
          -1.4590880870819092
         ],
         "yaxis": "y",
         "type": "scatter",
         "textposition": "top center"
        }
       ],
       "layout": {
        "template": {
         "data": {
          "barpolar": [
           {
            "marker": {
             "line": {
              "color": "white",
              "width": 0.5
             },
             "pattern": {
              "fillmode": "overlay",
              "size": 10,
              "solidity": 0.2
             }
            },
            "type": "barpolar"
           }
          ],
          "bar": [
           {
            "error_x": {
             "color": "#2a3f5f"
            },
            "error_y": {
             "color": "#2a3f5f"
            },
            "marker": {
             "line": {
              "color": "white",
              "width": 0.5
             },
             "pattern": {
              "fillmode": "overlay",
              "size": 10,
              "solidity": 0.2
             }
            },
            "type": "bar"
           }
          ],
          "carpet": [
           {
            "aaxis": {
             "endlinecolor": "#2a3f5f",
             "gridcolor": "#C8D4E3",
             "linecolor": "#C8D4E3",
             "minorgridcolor": "#C8D4E3",
             "startlinecolor": "#2a3f5f"
            },
            "baxis": {
             "endlinecolor": "#2a3f5f",
             "gridcolor": "#C8D4E3",
             "linecolor": "#C8D4E3",
             "minorgridcolor": "#C8D4E3",
             "startlinecolor": "#2a3f5f"
            },
            "type": "carpet"
           }
          ],
          "choropleth": [
           {
            "colorbar": {
             "outlinewidth": 0,
             "ticks": ""
            },
            "type": "choropleth"
           }
          ],
          "contourcarpet": [
           {
            "colorbar": {
             "outlinewidth": 0,
             "ticks": ""
            },
            "type": "contourcarpet"
           }
          ],
          "contour": [
           {
            "colorbar": {
             "outlinewidth": 0,
             "ticks": ""
            },
            "colorscale": [
             [
              0.0,
              "#0d0887"
             ],
             [
              0.1111111111111111,
              "#46039f"
             ],
             [
              0.2222222222222222,
              "#7201a8"
             ],
             [
              0.3333333333333333,
              "#9c179e"
             ],
             [
              0.4444444444444444,
              "#bd3786"
             ],
             [
              0.5555555555555556,
              "#d8576b"
             ],
             [
              0.6666666666666666,
              "#ed7953"
             ],
             [
              0.7777777777777778,
              "#fb9f3a"
             ],
             [
              0.8888888888888888,
              "#fdca26"
             ],
             [
              1.0,
              "#f0f921"
             ]
            ],
            "type": "contour"
           }
          ],
          "heatmapgl": [
           {
            "colorbar": {
             "outlinewidth": 0,
             "ticks": ""
            },
            "colorscale": [
             [
              0.0,
              "#0d0887"
             ],
             [
              0.1111111111111111,
              "#46039f"
             ],
             [
              0.2222222222222222,
              "#7201a8"
             ],
             [
              0.3333333333333333,
              "#9c179e"
             ],
             [
              0.4444444444444444,
              "#bd3786"
             ],
             [
              0.5555555555555556,
              "#d8576b"
             ],
             [
              0.6666666666666666,
              "#ed7953"
             ],
             [
              0.7777777777777778,
              "#fb9f3a"
             ],
             [
              0.8888888888888888,
              "#fdca26"
             ],
             [
              1.0,
              "#f0f921"
             ]
            ],
            "type": "heatmapgl"
           }
          ],
          "heatmap": [
           {
            "colorbar": {
             "outlinewidth": 0,
             "ticks": ""
            },
            "colorscale": [
             [
              0.0,
              "#0d0887"
             ],
             [
              0.1111111111111111,
              "#46039f"
             ],
             [
              0.2222222222222222,
              "#7201a8"
             ],
             [
              0.3333333333333333,
              "#9c179e"
             ],
             [
              0.4444444444444444,
              "#bd3786"
             ],
             [
              0.5555555555555556,
              "#d8576b"
             ],
             [
              0.6666666666666666,
              "#ed7953"
             ],
             [
              0.7777777777777778,
              "#fb9f3a"
             ],
             [
              0.8888888888888888,
              "#fdca26"
             ],
             [
              1.0,
              "#f0f921"
             ]
            ],
            "type": "heatmap"
           }
          ],
          "histogram2dcontour": [
           {
            "colorbar": {
             "outlinewidth": 0,
             "ticks": ""
            },
            "colorscale": [
             [
              0.0,
              "#0d0887"
             ],
             [
              0.1111111111111111,
              "#46039f"
             ],
             [
              0.2222222222222222,
              "#7201a8"
             ],
             [
              0.3333333333333333,
              "#9c179e"
             ],
             [
              0.4444444444444444,
              "#bd3786"
             ],
             [
              0.5555555555555556,
              "#d8576b"
             ],
             [
              0.6666666666666666,
              "#ed7953"
             ],
             [
              0.7777777777777778,
              "#fb9f3a"
             ],
             [
              0.8888888888888888,
              "#fdca26"
             ],
             [
              1.0,
              "#f0f921"
             ]
            ],
            "type": "histogram2dcontour"
           }
          ],
          "histogram2d": [
           {
            "colorbar": {
             "outlinewidth": 0,
             "ticks": ""
            },
            "colorscale": [
             [
              0.0,
              "#0d0887"
             ],
             [
              0.1111111111111111,
              "#46039f"
             ],
             [
              0.2222222222222222,
              "#7201a8"
             ],
             [
              0.3333333333333333,
              "#9c179e"
             ],
             [
              0.4444444444444444,
              "#bd3786"
             ],
             [
              0.5555555555555556,
              "#d8576b"
             ],
             [
              0.6666666666666666,
              "#ed7953"
             ],
             [
              0.7777777777777778,
              "#fb9f3a"
             ],
             [
              0.8888888888888888,
              "#fdca26"
             ],
             [
              1.0,
              "#f0f921"
             ]
            ],
            "type": "histogram2d"
           }
          ],
          "histogram": [
           {
            "marker": {
             "pattern": {
              "fillmode": "overlay",
              "size": 10,
              "solidity": 0.2
             }
            },
            "type": "histogram"
           }
          ],
          "mesh3d": [
           {
            "colorbar": {
             "outlinewidth": 0,
             "ticks": ""
            },
            "type": "mesh3d"
           }
          ],
          "parcoords": [
           {
            "line": {
             "colorbar": {
              "outlinewidth": 0,
              "ticks": ""
             }
            },
            "type": "parcoords"
           }
          ],
          "pie": [
           {
            "automargin": true,
            "type": "pie"
           }
          ],
          "scatter3d": [
           {
            "line": {
             "colorbar": {
              "outlinewidth": 0,
              "ticks": ""
             }
            },
            "marker": {
             "colorbar": {
              "outlinewidth": 0,
              "ticks": ""
             }
            },
            "type": "scatter3d"
           }
          ],
          "scattercarpet": [
           {
            "marker": {
             "colorbar": {
              "outlinewidth": 0,
              "ticks": ""
             }
            },
            "type": "scattercarpet"
           }
          ],
          "scattergeo": [
           {
            "marker": {
             "colorbar": {
              "outlinewidth": 0,
              "ticks": ""
             }
            },
            "type": "scattergeo"
           }
          ],
          "scattergl": [
           {
            "marker": {
             "colorbar": {
              "outlinewidth": 0,
              "ticks": ""
             }
            },
            "type": "scattergl"
           }
          ],
          "scattermapbox": [
           {
            "marker": {
             "colorbar": {
              "outlinewidth": 0,
              "ticks": ""
             }
            },
            "type": "scattermapbox"
           }
          ],
          "scatterpolargl": [
           {
            "marker": {
             "colorbar": {
              "outlinewidth": 0,
              "ticks": ""
             }
            },
            "type": "scatterpolargl"
           }
          ],
          "scatterpolar": [
           {
            "marker": {
             "colorbar": {
              "outlinewidth": 0,
              "ticks": ""
             }
            },
            "type": "scatterpolar"
           }
          ],
          "scatter": [
           {
            "fillpattern": {
             "fillmode": "overlay",
             "size": 10,
             "solidity": 0.2
            },
            "type": "scatter"
           }
          ],
          "scatterternary": [
           {
            "marker": {
             "colorbar": {
              "outlinewidth": 0,
              "ticks": ""
             }
            },
            "type": "scatterternary"
           }
          ],
          "surface": [
           {
            "colorbar": {
             "outlinewidth": 0,
             "ticks": ""
            },
            "colorscale": [
             [
              0.0,
              "#0d0887"
             ],
             [
              0.1111111111111111,
              "#46039f"
             ],
             [
              0.2222222222222222,
              "#7201a8"
             ],
             [
              0.3333333333333333,
              "#9c179e"
             ],
             [
              0.4444444444444444,
              "#bd3786"
             ],
             [
              0.5555555555555556,
              "#d8576b"
             ],
             [
              0.6666666666666666,
              "#ed7953"
             ],
             [
              0.7777777777777778,
              "#fb9f3a"
             ],
             [
              0.8888888888888888,
              "#fdca26"
             ],
             [
              1.0,
              "#f0f921"
             ]
            ],
            "type": "surface"
           }
          ],
          "table": [
           {
            "cells": {
             "fill": {
              "color": "#EBF0F8"
             },
             "line": {
              "color": "white"
             }
            },
            "header": {
             "fill": {
              "color": "#C8D4E3"
             },
             "line": {
              "color": "white"
             }
            },
            "type": "table"
           }
          ]
         },
         "layout": {
          "annotationdefaults": {
           "arrowcolor": "#2a3f5f",
           "arrowhead": 0,
           "arrowwidth": 1
          },
          "autotypenumbers": "strict",
          "coloraxis": {
           "colorbar": {
            "outlinewidth": 0,
            "ticks": ""
           }
          },
          "colorscale": {
           "diverging": [
            [
             0,
             "#8e0152"
            ],
            [
             0.1,
             "#c51b7d"
            ],
            [
             0.2,
             "#de77ae"
            ],
            [
             0.3,
             "#f1b6da"
            ],
            [
             0.4,
             "#fde0ef"
            ],
            [
             0.5,
             "#f7f7f7"
            ],
            [
             0.6,
             "#e6f5d0"
            ],
            [
             0.7,
             "#b8e186"
            ],
            [
             0.8,
             "#7fbc41"
            ],
            [
             0.9,
             "#4d9221"
            ],
            [
             1,
             "#276419"
            ]
           ],
           "sequential": [
            [
             0.0,
             "#0d0887"
            ],
            [
             0.1111111111111111,
             "#46039f"
            ],
            [
             0.2222222222222222,
             "#7201a8"
            ],
            [
             0.3333333333333333,
             "#9c179e"
            ],
            [
             0.4444444444444444,
             "#bd3786"
            ],
            [
             0.5555555555555556,
             "#d8576b"
            ],
            [
             0.6666666666666666,
             "#ed7953"
            ],
            [
             0.7777777777777778,
             "#fb9f3a"
            ],
            [
             0.8888888888888888,
             "#fdca26"
            ],
            [
             1.0,
             "#f0f921"
            ]
           ],
           "sequentialminus": [
            [
             0.0,
             "#0d0887"
            ],
            [
             0.1111111111111111,
             "#46039f"
            ],
            [
             0.2222222222222222,
             "#7201a8"
            ],
            [
             0.3333333333333333,
             "#9c179e"
            ],
            [
             0.4444444444444444,
             "#bd3786"
            ],
            [
             0.5555555555555556,
             "#d8576b"
            ],
            [
             0.6666666666666666,
             "#ed7953"
            ],
            [
             0.7777777777777778,
             "#fb9f3a"
            ],
            [
             0.8888888888888888,
             "#fdca26"
            ],
            [
             1.0,
             "#f0f921"
            ]
           ]
          },
          "colorway": [
           "#636efa",
           "#EF553B",
           "#00cc96",
           "#ab63fa",
           "#FFA15A",
           "#19d3f3",
           "#FF6692",
           "#B6E880",
           "#FF97FF",
           "#FECB52"
          ],
          "font": {
           "color": "#2a3f5f"
          },
          "geo": {
           "bgcolor": "white",
           "lakecolor": "white",
           "landcolor": "white",
           "showlakes": true,
           "showland": true,
           "subunitcolor": "#C8D4E3"
          },
          "hoverlabel": {
           "align": "left"
          },
          "hovermode": "closest",
          "mapbox": {
           "style": "light"
          },
          "paper_bgcolor": "white",
          "plot_bgcolor": "white",
          "polar": {
           "angularaxis": {
            "gridcolor": "#EBF0F8",
            "linecolor": "#EBF0F8",
            "ticks": ""
           },
           "bgcolor": "white",
           "radialaxis": {
            "gridcolor": "#EBF0F8",
            "linecolor": "#EBF0F8",
            "ticks": ""
           }
          },
          "scene": {
           "xaxis": {
            "backgroundcolor": "white",
            "gridcolor": "#DFE8F3",
            "gridwidth": 2,
            "linecolor": "#EBF0F8",
            "showbackground": true,
            "ticks": "",
            "zerolinecolor": "#EBF0F8"
           },
           "yaxis": {
            "backgroundcolor": "white",
            "gridcolor": "#DFE8F3",
            "gridwidth": 2,
            "linecolor": "#EBF0F8",
            "showbackground": true,
            "ticks": "",
            "zerolinecolor": "#EBF0F8"
           },
           "zaxis": {
            "backgroundcolor": "white",
            "gridcolor": "#DFE8F3",
            "gridwidth": 2,
            "linecolor": "#EBF0F8",
            "showbackground": true,
            "ticks": "",
            "zerolinecolor": "#EBF0F8"
           }
          },
          "shapedefaults": {
           "line": {
            "color": "#2a3f5f"
           }
          },
          "ternary": {
           "aaxis": {
            "gridcolor": "#DFE8F3",
            "linecolor": "#A2B1C6",
            "ticks": ""
           },
           "baxis": {
            "gridcolor": "#DFE8F3",
            "linecolor": "#A2B1C6",
            "ticks": ""
           },
           "bgcolor": "white",
           "caxis": {
            "gridcolor": "#DFE8F3",
            "linecolor": "#A2B1C6",
            "ticks": ""
           }
          },
          "title": {
           "x": 0.05
          },
          "xaxis": {
           "automargin": true,
           "gridcolor": "#EBF0F8",
           "linecolor": "#EBF0F8",
           "ticks": "",
           "title": {
            "standoff": 15
           },
           "zerolinecolor": "#EBF0F8",
           "zerolinewidth": 2
          },
          "yaxis": {
           "automargin": true,
           "gridcolor": "#EBF0F8",
           "linecolor": "#EBF0F8",
           "ticks": "",
           "title": {
            "standoff": 15
           },
           "zerolinecolor": "#EBF0F8",
           "zerolinewidth": 2
          }
         }
        },
        "xaxis": {
         "anchor": "y",
         "domain": [
          0.0,
          1.0
         ],
         "title": {
          "text": "tsne_x"
         }
        },
        "yaxis": {
         "anchor": "x",
         "domain": [
          0.0,
          1.0
         ],
         "title": {
          "text": "tsne_y"
         }
        },
        "legend": {
         "title": {
          "text": "cluster"
         },
         "tracegroupgap": 0
        },
        "margin": {
         "t": 60
        }
       },
       "config": {
        "plotlyServerURL": "https://plot.ly"
       }
      },
      "text/html": [
       "<div>                            <div id=\"2421ab22-8363-4d58-a325-d308b03d8923\" class=\"plotly-graph-div\" style=\"height:525px; width:100%;\"></div>            <script type=\"text/javascript\">                require([\"plotly\"], function(Plotly) {                    window.PLOTLYENV=window.PLOTLYENV || {};                                    if (document.getElementById(\"2421ab22-8363-4d58-a325-d308b03d8923\")) {                    Plotly.newPlot(                        \"2421ab22-8363-4d58-a325-d308b03d8923\",                        [{\"hovertemplate\":\"\\u003cb\\u003e%{hovertext}\\u003c\\u002fb\\u003e\\u003cbr\\u003e\\u003cbr\\u003ecluster=Culture -\\u003e Film\\u003cbr\\u003etsne_x=%{x}\\u003cbr\\u003etsne_y=%{y}\\u003cbr\\u003elabel=%{text}\\u003cextra\\u003e\\u003c\\u002fextra\\u003e\",\"hovertext\":[\"Aesthetics\",\"Photography\",\"Theatre\",\"Music\",\"Film\",\"Painting\",\"Fiction\",\"Poetry\",\"Museums\",\"Art galleries\",\"Dance\"],\"legendgroup\":\"Culture -\\u003e Film\",\"marker\":{\"color\":\"#636efa\",\"symbol\":\"circle\"},\"mode\":\"markers+text\",\"name\":\"Culture -\\u003e Film\",\"orientation\":\"v\",\"showlegend\":true,\"text\":[\"Aesthetics\",\"Photography\",\"Theatre\",\"Music\",\"Film\",\"Painting\",\"Fiction\",\"Poetry\",\"Museums\",\"Art galleries\",\"Dance\"],\"x\":[-8.193720817565918,-6.594771862030029,-6.238887786865234,-4.070065498352051,-5.279325485229492,-7.060267925262451,-4.470953941345215,-3.4778292179107666,-8.240470886230469,-7.931426525115967,-4.118499755859375],\"xaxis\":\"x\",\"y\":[-2.826017141342163,-2.2160043716430664,0.09918259084224701,-1.5966726541519165,-0.299102246761322,-2.2090208530426025,0.42254865169525146,-0.4001352787017822,-0.7624858617782593,-1.475134253501892,-1.9065998792648315],\"yaxis\":\"y\",\"type\":\"scatter\",\"textposition\":\"top center\"},{\"hovertemplate\":\"\\u003cb\\u003e%{hovertext}\\u003c\\u002fb\\u003e\\u003cbr\\u003e\\u003cbr\\u003ecluster=Geography -\\u003e Geography\\u003cbr\\u003etsne_x=%{x}\\u003cbr\\u003etsne_y=%{y}\\u003cbr\\u003elabel=%{text}\\u003cextra\\u003e\\u003c\\u002fextra\\u003e\",\"hovertext\":[\"Ocean\",\"Geometry\",\"Social network\",\"Topology\",\"Nature\",\"Astronomy\",\"Ecology\",\"Earth science\",\"Community\",\"River\",\"Island\",\"Geography\",\"Earth\",\"Continent\",\"Climate\",\"Geographic information system\",\"Map\",\"Mountain\"],\"legendgroup\":\"Geography -\\u003e Geography\",\"marker\":{\"color\":\"#EF553B\",\"symbol\":\"circle\"},\"mode\":\"markers+text\",\"name\":\"Geography -\\u003e Geography\",\"orientation\":\"v\",\"showlegend\":true,\"text\":[\"Ocean\",\"Geometry\",\"Social network\",\"Topology\",\"Nature\",\"Astronomy\",\"Ecology\",\"Earth science\",\"Community\",\"River\",\"Island\",\"Geography\",\"Earth\",\"Continent\",\"Climate\",\"Geographic information system\",\"Map\",\"Mountain\"],\"x\":[-2.331777572631836,8.542832374572754,4.997614860534668,6.83319091796875,-0.5899149775505066,1.7480932474136353,-0.7734192609786987,0.8144840598106384,4.30817985534668,-3.63726544380188,-2.914764881134033,-0.7489956021308899,-0.05440983921289444,-1.3353604078292847,-1.2158305644989014,-0.21370550990104675,-1.7208678722381592,-2.7742233276367188],\"xaxis\":\"x\",\"y\":[-4.591452598571777,-0.4804428815841675,6.089258670806885,7.463613033294678,-2.3004310131073,-4.191278457641602,-1.9983633756637573,-4.106220722198486,6.128016471862793,-4.276760578155518,-5.271772861480713,-6.271200656890869,-4.255005836486816,-5.658391952514648,-3.503671646118164,-6.9254937171936035,-7.610750675201416,-6.703404903411865],\"yaxis\":\"y\",\"type\":\"scatter\",\"textposition\":\"top center\"},{\"hovertemplate\":\"\\u003cb\\u003e%{hovertext}\\u003c\\u002fb\\u003e\\u003cbr\\u003e\\u003cbr\\u003ecluster=Health -\\u003e Health\\u003cbr\\u003etsne_x=%{x}\\u003cbr\\u003etsne_y=%{y}\\u003cbr\\u003elabel=%{text}\\u003cextra\\u003e\\u003c\\u002fextra\\u003e\",\"hovertext\":[\"Medicine\",\"Preventive medicine\",\"Complementary medicine\",\"Public health\",\"Mental health\",\"Health care\",\"Health\",\"Hygiene\"],\"legendgroup\":\"Health -\\u003e Health\",\"marker\":{\"color\":\"#00cc96\",\"symbol\":\"circle\"},\"mode\":\"markers+text\",\"name\":\"Health -\\u003e Health\",\"orientation\":\"v\",\"showlegend\":true,\"text\":[\"Medicine\",\"Preventive medicine\",\"Complementary medicine\",\"Public health\",\"Mental health\",\"Health care\",\"Health\",\"Hygiene\"],\"x\":[5.418592929840088,5.371419906616211,6.206762790679932,4.095291614532471,4.711609363555908,4.994468688964844,4.844113826751709,3.2424538135528564],\"xaxis\":\"x\",\"y\":[-8.908174514770508,-9.895774841308594,-10.0034818649292,-7.738661289215088,-6.43642520904541,-7.977818965911865,-7.570119857788086,-8.613910675048828],\"yaxis\":\"y\",\"type\":\"scatter\",\"textposition\":\"top center\"},{\"hovertemplate\":\"\\u003cb\\u003e%{hovertext}\\u003c\\u002fb\\u003e\\u003cbr\\u003e\\u003cbr\\u003ecluster=History -\\u003e History\\u003cbr\\u003etsne_x=%{x}\\u003cbr\\u003etsne_y=%{y}\\u003cbr\\u003elabel=%{text}\\u003cextra\\u003e\\u003c\\u002fextra\\u003e\",\"hovertext\":[\"Paleontology\",\"Anthropology\",\"Phenomenology\",\"Age of Enlightenment\",\"Industrial Age\",\"Culture\",\"Renaissance\",\"Cultural studies\",\"Ancient Egypt\",\"History of China\",\"Prehistory\",\"History\",\"Ancient Greece\",\"Middle Ages\"],\"legendgroup\":\"History -\\u003e History\",\"marker\":{\"color\":\"#ab63fa\",\"symbol\":\"circle\"},\"mode\":\"markers+text\",\"name\":\"History -\\u003e History\",\"orientation\":\"v\",\"showlegend\":true,\"text\":[\"Paleontology\",\"Anthropology\",\"Phenomenology\",\"Age of Enlightenment\",\"Industrial Age\",\"Culture\",\"Renaissance\",\"Cultural studies\",\"Ancient Egypt\",\"History of China\",\"Prehistory\",\"History\",\"Ancient Greece\",\"Middle Ages\"],\"x\":[-4.466928482055664,-3.1935336589813232,-3.0030746459960938,1.0308897495269775,2.1882712841033936,-1.888062596321106,-6.635373115539551,-1.7005287408828735,-8.699005126953125,-6.771139144897461,-6.038962364196777,-6.067205429077148,-8.714184761047363,-6.911353588104248],\"xaxis\":\"x\",\"y\":[3.47204852104187,3.30141544342041,4.331157207489014,10.89377498626709,10.79734992980957,2.294903516769409,1.9376137256622314,2.467125654220581,3.5521950721740723,5.5623016357421875,4.230415344238281,4.547339916229248,3.4824821949005127,2.7565011978149414],\"yaxis\":\"y\",\"type\":\"scatter\",\"textposition\":\"top center\"},{\"hovertemplate\":\"\\u003cb\\u003e%{hovertext}\\u003c\\u002fb\\u003e\\u003cbr\\u003e\\u003cbr\\u003ecluster=Mathematics -\\u003e Mathematics\\u003cbr\\u003etsne_x=%{x}\\u003cbr\\u003etsne_y=%{y}\\u003cbr\\u003elabel=%{text}\\u003cextra\\u003e\\u003c\\u002fextra\\u003e\",\"hovertext\":[\"Mathematics\",\"Algebra\",\"Calculus\",\"Mathematical analysis\",\"Arithmetic\",\"Equations\"],\"legendgroup\":\"Mathematics -\\u003e Mathematics\",\"marker\":{\"color\":\"#FFA15A\",\"symbol\":\"circle\"},\"mode\":\"markers+text\",\"name\":\"Mathematics -\\u003e Mathematics\",\"orientation\":\"v\",\"showlegend\":true,\"text\":[\"Mathematics\",\"Algebra\",\"Calculus\",\"Mathematical analysis\",\"Arithmetic\",\"Equations\"],\"x\":[8.754273414611816,10.118786811828613,10.072957038879395,8.305363655090332,9.6422119140625,10.648919105529785],\"xaxis\":\"x\",\"y\":[0.9498171210289001,0.9162672758102417,-0.4069240391254425,1.1402802467346191,1.755196452140808,0.8153828382492065],\"yaxis\":\"y\",\"type\":\"scatter\",\"textposition\":\"top center\"},{\"hovertemplate\":\"\\u003cb\\u003e%{hovertext}\\u003c\\u002fb\\u003e\\u003cbr\\u003e\\u003cbr\\u003ecluster=Nature -\\u003e Biology\\u003cbr\\u003etsne_x=%{x}\\u003cbr\\u003etsne_y=%{y}\\u003cbr\\u003elabel=%{text}\\u003cextra\\u003e\\u003c\\u002fextra\\u003e\",\"hovertext\":[\"Evolutionary biology\",\"Biology\",\"Body composition\",\"Genetics\",\"Physical fitness\",\"Nutrition\",\"Biotechnology\"],\"legendgroup\":\"Nature -\\u003e Biology\",\"marker\":{\"color\":\"#19d3f3\",\"symbol\":\"circle\"},\"mode\":\"markers+text\",\"name\":\"Nature -\\u003e Biology\",\"orientation\":\"v\",\"showlegend\":true,\"text\":[\"Evolutionary biology\",\"Biology\",\"Body composition\",\"Genetics\",\"Physical fitness\",\"Nutrition\",\"Biotechnology\"],\"x\":[-0.07496990263462067,0.6125445365905762,8.197342872619629,-0.16687661409378052,7.255550861358643,8.609722137451172,1.5250499248504639],\"xaxis\":\"x\",\"y\":[-0.43770262598991394,-0.2804996073246002,-6.553867340087891,0.3065480589866638,-6.279166221618652,-6.818167686462402,-0.786805272102356],\"yaxis\":\"y\",\"type\":\"scatter\",\"textposition\":\"top center\"},{\"hovertemplate\":\"\\u003cb\\u003e%{hovertext}\\u003c\\u002fb\\u003e\\u003cbr\\u003e\\u003cbr\\u003ecluster=Philosophy -\\u003e Philosophy\\u003cbr\\u003etsne_x=%{x}\\u003cbr\\u003etsne_y=%{y}\\u003cbr\\u003elabel=%{text}\\u003cextra\\u003e\\u003c\\u002fextra\\u003e\",\"hovertext\":[\"Rationalism\",\"Skepticism\",\"Existentialism\",\"Confucianism\",\"Psychology\",\"Philosophy of mind\",\"Thinking\",\"Logic\",\"Epistemology\",\"Philosophy\",\"Neuroscience\"],\"legendgroup\":\"Philosophy -\\u003e Philosophy\",\"marker\":{\"color\":\"#FF6692\",\"symbol\":\"circle\"},\"mode\":\"markers+text\",\"name\":\"Philosophy -\\u003e Philosophy\",\"orientation\":\"v\",\"showlegend\":true,\"text\":[\"Rationalism\",\"Skepticism\",\"Existentialism\",\"Confucianism\",\"Psychology\",\"Philosophy of mind\",\"Thinking\",\"Logic\",\"Epistemology\",\"Philosophy\",\"Neuroscience\"],\"x\":[-1.6756477355957031,-2.557969093322754,-0.7422481179237366,-0.5688083171844482,1.474287986755371,0.4667086899280548,1.412262201309204,1.8596887588500977,-1.3115264177322388,-0.326900452375412,1.37582528591156],\"xaxis\":\"x\",\"y\":[7.18859338760376,6.9439263343811035,8.31009578704834,9.782048225402832,2.2557358741760254,7.154160976409912,7.436564922332764,6.399441719055176,5.929912567138672,6.943269729614258,1.520645260810852],\"yaxis\":\"y\",\"type\":\"scatter\",\"textposition\":\"top center\"},{\"hovertemplate\":\"\\u003cb\\u003e%{hovertext}\\u003c\\u002fb\\u003e\\u003cbr\\u003e\\u003cbr\\u003ecluster=Religion -\\u003e Religion\\u003cbr\\u003etsne_x=%{x}\\u003cbr\\u003etsne_y=%{y}\\u003cbr\\u003elabel=%{text}\\u003cextra\\u003e\\u003c\\u002fextra\\u003e\",\"hovertext\":[\"Polytheism\",\"Agnosticism\",\"Atheism\",\"Judaism\",\"Islam\",\"Deism\",\"Buddhism\",\"Religion\",\"Christianity\",\"Hinduism\"],\"legendgroup\":\"Religion -\\u003e Religion\",\"marker\":{\"color\":\"#B6E880\",\"symbol\":\"circle\"},\"mode\":\"markers+text\",\"name\":\"Religion -\\u003e Religion\",\"orientation\":\"v\",\"showlegend\":true,\"text\":[\"Polytheism\",\"Agnosticism\",\"Atheism\",\"Judaism\",\"Islam\",\"Deism\",\"Buddhism\",\"Religion\",\"Christianity\",\"Hinduism\"],\"x\":[-4.887693405151367,-3.1362037658691406,-3.6938767433166504,-3.727126121520996,-2.885669708251953,-4.851194381713867,-1.4804991483688354,-2.440877914428711,-2.75917387008667,-2.7317521572113037],\"xaxis\":\"x\",\"y\":[10.157623291015625,7.9820780754089355,8.634847640991211,10.659433364868164,10.609647750854492,8.656291961669922,10.72657299041748,9.5858736038208,9.740189552307129,11.65723991394043],\"yaxis\":\"y\",\"type\":\"scatter\",\"textposition\":\"top center\"},{\"hovertemplate\":\"\\u003cb\\u003e%{hovertext}\\u003c\\u002fb\\u003e\\u003cbr\\u003e\\u003cbr\\u003ecluster=Society -\\u003e Sociology\\u003cbr\\u003etsne_x=%{x}\\u003cbr\\u003etsne_y=%{y}\\u003cbr\\u003elabel=%{text}\\u003cextra\\u003e\\u003c\\u002fextra\\u003e\",\"hovertext\":[\"Political science\",\"Probability\",\"World War II\",\"Law\",\"World War I\",\"Statistics\",\"Sociology\",\"Society\",\"Ethics\",\"Economics\",\"Demographics\"],\"legendgroup\":\"Society -\\u003e Sociology\",\"marker\":{\"color\":\"#FF97FF\",\"symbol\":\"circle\"},\"mode\":\"markers+text\",\"name\":\"Society -\\u003e Sociology\",\"orientation\":\"v\",\"showlegend\":true,\"text\":[\"Political science\",\"Probability\",\"World War II\",\"Law\",\"World War I\",\"Statistics\",\"Sociology\",\"Society\",\"Ethics\",\"Economics\",\"Demographics\"],\"x\":[3.910567283630371,8.377799987792969,-6.58947229385376,2.1697683334350586,-6.587560653686523,7.779818058013916,4.055124282836914,3.734710454940796,1.665959358215332,4.838180065155029,6.703639030456543],\"xaxis\":\"x\",\"y\":[2.7173800468444824,4.465083122253418,-6.7701826095581055,4.130949974060059,-6.774869918823242,4.115288734436035,4.269766807556152,4.892703533172607,4.53517484664917,2.949312210083008,4.209258556365967],\"yaxis\":\"y\",\"type\":\"scatter\",\"textposition\":\"top center\"},{\"hovertemplate\":\"\\u003cb\\u003e%{hovertext}\\u003c\\u002fb\\u003e\\u003cbr\\u003e\\u003cbr\\u003ecluster=Technology -\\u003e Technology\\u003cbr\\u003etsne_x=%{x}\\u003cbr\\u003etsne_y=%{y}\\u003cbr\\u003elabel=%{text}\\u003cextra\\u003e\\u003c\\u002fextra\\u003e\",\"hovertext\":[\"Robotics\",\"Materials science\",\"Transport\",\"Information technology\",\"Telecommunications\",\"Metaphysics\",\"Computer science\",\"Technology\",\"Communication studies\",\"Environmental technology\",\"Chemistry\",\"Physics\",\"Engineering\",\"Energy technology\"],\"legendgroup\":\"Technology -\\u003e Technology\",\"marker\":{\"color\":\"#FECB52\",\"symbol\":\"circle\"},\"mode\":\"markers+text\",\"name\":\"Technology -\\u003e Technology\",\"orientation\":\"v\",\"showlegend\":true,\"text\":[\"Robotics\",\"Materials science\",\"Transport\",\"Information technology\",\"Telecommunications\",\"Metaphysics\",\"Computer science\",\"Technology\",\"Communication studies\",\"Environmental technology\",\"Chemistry\",\"Physics\",\"Engineering\",\"Energy technology\"],\"x\":[6.47304105758667,4.138695240020752,6.799543380737305,4.093094348907471,3.592129707336426,-0.10942548513412476,5.432021617889404,3.8481030464172363,-0.2346430867910385,2.955238103866577,3.9603843688964844,5.449156761169434,5.480686664581299,3.763066053390503],\"xaxis\":\"x\",\"y\":[-1.3291581869125366,-3.2890899181365967,-2.990579605102539,-0.06728767603635788,0.7947680950164795,4.6807026863098145,0.3727380335330963,-0.42323026061058044,2.5383214950561523,-1.410074234008789,-3.543203353881836,-2.6822190284729004,-1.0274873971939087,-1.4590880870819092],\"yaxis\":\"y\",\"type\":\"scatter\",\"textposition\":\"top center\"}],                        {\"template\":{\"data\":{\"barpolar\":[{\"marker\":{\"line\":{\"color\":\"white\",\"width\":0.5},\"pattern\":{\"fillmode\":\"overlay\",\"size\":10,\"solidity\":0.2}},\"type\":\"barpolar\"}],\"bar\":[{\"error_x\":{\"color\":\"#2a3f5f\"},\"error_y\":{\"color\":\"#2a3f5f\"},\"marker\":{\"line\":{\"color\":\"white\",\"width\":0.5},\"pattern\":{\"fillmode\":\"overlay\",\"size\":10,\"solidity\":0.2}},\"type\":\"bar\"}],\"carpet\":[{\"aaxis\":{\"endlinecolor\":\"#2a3f5f\",\"gridcolor\":\"#C8D4E3\",\"linecolor\":\"#C8D4E3\",\"minorgridcolor\":\"#C8D4E3\",\"startlinecolor\":\"#2a3f5f\"},\"baxis\":{\"endlinecolor\":\"#2a3f5f\",\"gridcolor\":\"#C8D4E3\",\"linecolor\":\"#C8D4E3\",\"minorgridcolor\":\"#C8D4E3\",\"startlinecolor\":\"#2a3f5f\"},\"type\":\"carpet\"}],\"choropleth\":[{\"colorbar\":{\"outlinewidth\":0,\"ticks\":\"\"},\"type\":\"choropleth\"}],\"contourcarpet\":[{\"colorbar\":{\"outlinewidth\":0,\"ticks\":\"\"},\"type\":\"contourcarpet\"}],\"contour\":[{\"colorbar\":{\"outlinewidth\":0,\"ticks\":\"\"},\"colorscale\":[[0.0,\"#0d0887\"],[0.1111111111111111,\"#46039f\"],[0.2222222222222222,\"#7201a8\"],[0.3333333333333333,\"#9c179e\"],[0.4444444444444444,\"#bd3786\"],[0.5555555555555556,\"#d8576b\"],[0.6666666666666666,\"#ed7953\"],[0.7777777777777778,\"#fb9f3a\"],[0.8888888888888888,\"#fdca26\"],[1.0,\"#f0f921\"]],\"type\":\"contour\"}],\"heatmapgl\":[{\"colorbar\":{\"outlinewidth\":0,\"ticks\":\"\"},\"colorscale\":[[0.0,\"#0d0887\"],[0.1111111111111111,\"#46039f\"],[0.2222222222222222,\"#7201a8\"],[0.3333333333333333,\"#9c179e\"],[0.4444444444444444,\"#bd3786\"],[0.5555555555555556,\"#d8576b\"],[0.6666666666666666,\"#ed7953\"],[0.7777777777777778,\"#fb9f3a\"],[0.8888888888888888,\"#fdca26\"],[1.0,\"#f0f921\"]],\"type\":\"heatmapgl\"}],\"heatmap\":[{\"colorbar\":{\"outlinewidth\":0,\"ticks\":\"\"},\"colorscale\":[[0.0,\"#0d0887\"],[0.1111111111111111,\"#46039f\"],[0.2222222222222222,\"#7201a8\"],[0.3333333333333333,\"#9c179e\"],[0.4444444444444444,\"#bd3786\"],[0.5555555555555556,\"#d8576b\"],[0.6666666666666666,\"#ed7953\"],[0.7777777777777778,\"#fb9f3a\"],[0.8888888888888888,\"#fdca26\"],[1.0,\"#f0f921\"]],\"type\":\"heatmap\"}],\"histogram2dcontour\":[{\"colorbar\":{\"outlinewidth\":0,\"ticks\":\"\"},\"colorscale\":[[0.0,\"#0d0887\"],[0.1111111111111111,\"#46039f\"],[0.2222222222222222,\"#7201a8\"],[0.3333333333333333,\"#9c179e\"],[0.4444444444444444,\"#bd3786\"],[0.5555555555555556,\"#d8576b\"],[0.6666666666666666,\"#ed7953\"],[0.7777777777777778,\"#fb9f3a\"],[0.8888888888888888,\"#fdca26\"],[1.0,\"#f0f921\"]],\"type\":\"histogram2dcontour\"}],\"histogram2d\":[{\"colorbar\":{\"outlinewidth\":0,\"ticks\":\"\"},\"colorscale\":[[0.0,\"#0d0887\"],[0.1111111111111111,\"#46039f\"],[0.2222222222222222,\"#7201a8\"],[0.3333333333333333,\"#9c179e\"],[0.4444444444444444,\"#bd3786\"],[0.5555555555555556,\"#d8576b\"],[0.6666666666666666,\"#ed7953\"],[0.7777777777777778,\"#fb9f3a\"],[0.8888888888888888,\"#fdca26\"],[1.0,\"#f0f921\"]],\"type\":\"histogram2d\"}],\"histogram\":[{\"marker\":{\"pattern\":{\"fillmode\":\"overlay\",\"size\":10,\"solidity\":0.2}},\"type\":\"histogram\"}],\"mesh3d\":[{\"colorbar\":{\"outlinewidth\":0,\"ticks\":\"\"},\"type\":\"mesh3d\"}],\"parcoords\":[{\"line\":{\"colorbar\":{\"outlinewidth\":0,\"ticks\":\"\"}},\"type\":\"parcoords\"}],\"pie\":[{\"automargin\":true,\"type\":\"pie\"}],\"scatter3d\":[{\"line\":{\"colorbar\":{\"outlinewidth\":0,\"ticks\":\"\"}},\"marker\":{\"colorbar\":{\"outlinewidth\":0,\"ticks\":\"\"}},\"type\":\"scatter3d\"}],\"scattercarpet\":[{\"marker\":{\"colorbar\":{\"outlinewidth\":0,\"ticks\":\"\"}},\"type\":\"scattercarpet\"}],\"scattergeo\":[{\"marker\":{\"colorbar\":{\"outlinewidth\":0,\"ticks\":\"\"}},\"type\":\"scattergeo\"}],\"scattergl\":[{\"marker\":{\"colorbar\":{\"outlinewidth\":0,\"ticks\":\"\"}},\"type\":\"scattergl\"}],\"scattermapbox\":[{\"marker\":{\"colorbar\":{\"outlinewidth\":0,\"ticks\":\"\"}},\"type\":\"scattermapbox\"}],\"scatterpolargl\":[{\"marker\":{\"colorbar\":{\"outlinewidth\":0,\"ticks\":\"\"}},\"type\":\"scatterpolargl\"}],\"scatterpolar\":[{\"marker\":{\"colorbar\":{\"outlinewidth\":0,\"ticks\":\"\"}},\"type\":\"scatterpolar\"}],\"scatter\":[{\"fillpattern\":{\"fillmode\":\"overlay\",\"size\":10,\"solidity\":0.2},\"type\":\"scatter\"}],\"scatterternary\":[{\"marker\":{\"colorbar\":{\"outlinewidth\":0,\"ticks\":\"\"}},\"type\":\"scatterternary\"}],\"surface\":[{\"colorbar\":{\"outlinewidth\":0,\"ticks\":\"\"},\"colorscale\":[[0.0,\"#0d0887\"],[0.1111111111111111,\"#46039f\"],[0.2222222222222222,\"#7201a8\"],[0.3333333333333333,\"#9c179e\"],[0.4444444444444444,\"#bd3786\"],[0.5555555555555556,\"#d8576b\"],[0.6666666666666666,\"#ed7953\"],[0.7777777777777778,\"#fb9f3a\"],[0.8888888888888888,\"#fdca26\"],[1.0,\"#f0f921\"]],\"type\":\"surface\"}],\"table\":[{\"cells\":{\"fill\":{\"color\":\"#EBF0F8\"},\"line\":{\"color\":\"white\"}},\"header\":{\"fill\":{\"color\":\"#C8D4E3\"},\"line\":{\"color\":\"white\"}},\"type\":\"table\"}]},\"layout\":{\"annotationdefaults\":{\"arrowcolor\":\"#2a3f5f\",\"arrowhead\":0,\"arrowwidth\":1},\"autotypenumbers\":\"strict\",\"coloraxis\":{\"colorbar\":{\"outlinewidth\":0,\"ticks\":\"\"}},\"colorscale\":{\"diverging\":[[0,\"#8e0152\"],[0.1,\"#c51b7d\"],[0.2,\"#de77ae\"],[0.3,\"#f1b6da\"],[0.4,\"#fde0ef\"],[0.5,\"#f7f7f7\"],[0.6,\"#e6f5d0\"],[0.7,\"#b8e186\"],[0.8,\"#7fbc41\"],[0.9,\"#4d9221\"],[1,\"#276419\"]],\"sequential\":[[0.0,\"#0d0887\"],[0.1111111111111111,\"#46039f\"],[0.2222222222222222,\"#7201a8\"],[0.3333333333333333,\"#9c179e\"],[0.4444444444444444,\"#bd3786\"],[0.5555555555555556,\"#d8576b\"],[0.6666666666666666,\"#ed7953\"],[0.7777777777777778,\"#fb9f3a\"],[0.8888888888888888,\"#fdca26\"],[1.0,\"#f0f921\"]],\"sequentialminus\":[[0.0,\"#0d0887\"],[0.1111111111111111,\"#46039f\"],[0.2222222222222222,\"#7201a8\"],[0.3333333333333333,\"#9c179e\"],[0.4444444444444444,\"#bd3786\"],[0.5555555555555556,\"#d8576b\"],[0.6666666666666666,\"#ed7953\"],[0.7777777777777778,\"#fb9f3a\"],[0.8888888888888888,\"#fdca26\"],[1.0,\"#f0f921\"]]},\"colorway\":[\"#636efa\",\"#EF553B\",\"#00cc96\",\"#ab63fa\",\"#FFA15A\",\"#19d3f3\",\"#FF6692\",\"#B6E880\",\"#FF97FF\",\"#FECB52\"],\"font\":{\"color\":\"#2a3f5f\"},\"geo\":{\"bgcolor\":\"white\",\"lakecolor\":\"white\",\"landcolor\":\"white\",\"showlakes\":true,\"showland\":true,\"subunitcolor\":\"#C8D4E3\"},\"hoverlabel\":{\"align\":\"left\"},\"hovermode\":\"closest\",\"mapbox\":{\"style\":\"light\"},\"paper_bgcolor\":\"white\",\"plot_bgcolor\":\"white\",\"polar\":{\"angularaxis\":{\"gridcolor\":\"#EBF0F8\",\"linecolor\":\"#EBF0F8\",\"ticks\":\"\"},\"bgcolor\":\"white\",\"radialaxis\":{\"gridcolor\":\"#EBF0F8\",\"linecolor\":\"#EBF0F8\",\"ticks\":\"\"}},\"scene\":{\"xaxis\":{\"backgroundcolor\":\"white\",\"gridcolor\":\"#DFE8F3\",\"gridwidth\":2,\"linecolor\":\"#EBF0F8\",\"showbackground\":true,\"ticks\":\"\",\"zerolinecolor\":\"#EBF0F8\"},\"yaxis\":{\"backgroundcolor\":\"white\",\"gridcolor\":\"#DFE8F3\",\"gridwidth\":2,\"linecolor\":\"#EBF0F8\",\"showbackground\":true,\"ticks\":\"\",\"zerolinecolor\":\"#EBF0F8\"},\"zaxis\":{\"backgroundcolor\":\"white\",\"gridcolor\":\"#DFE8F3\",\"gridwidth\":2,\"linecolor\":\"#EBF0F8\",\"showbackground\":true,\"ticks\":\"\",\"zerolinecolor\":\"#EBF0F8\"}},\"shapedefaults\":{\"line\":{\"color\":\"#2a3f5f\"}},\"ternary\":{\"aaxis\":{\"gridcolor\":\"#DFE8F3\",\"linecolor\":\"#A2B1C6\",\"ticks\":\"\"},\"baxis\":{\"gridcolor\":\"#DFE8F3\",\"linecolor\":\"#A2B1C6\",\"ticks\":\"\"},\"bgcolor\":\"white\",\"caxis\":{\"gridcolor\":\"#DFE8F3\",\"linecolor\":\"#A2B1C6\",\"ticks\":\"\"}},\"title\":{\"x\":0.05},\"xaxis\":{\"automargin\":true,\"gridcolor\":\"#EBF0F8\",\"linecolor\":\"#EBF0F8\",\"ticks\":\"\",\"title\":{\"standoff\":15},\"zerolinecolor\":\"#EBF0F8\",\"zerolinewidth\":2},\"yaxis\":{\"automargin\":true,\"gridcolor\":\"#EBF0F8\",\"linecolor\":\"#EBF0F8\",\"ticks\":\"\",\"title\":{\"standoff\":15},\"zerolinecolor\":\"#EBF0F8\",\"zerolinewidth\":2}}},\"xaxis\":{\"anchor\":\"y\",\"domain\":[0.0,1.0],\"title\":{\"text\":\"tsne_x\"}},\"yaxis\":{\"anchor\":\"x\",\"domain\":[0.0,1.0],\"title\":{\"text\":\"tsne_y\"}},\"legend\":{\"title\":{\"text\":\"cluster\"},\"tracegroupgap\":0},\"margin\":{\"t\":60}},                        {\"responsive\": true}                    ).then(function(){\n",
       "                            \n",
       "var gd = document.getElementById('2421ab22-8363-4d58-a325-d308b03d8923');\n",
       "var x = new MutationObserver(function (mutations, observer) {{\n",
       "        var display = window.getComputedStyle(gd).display;\n",
       "        if (!display || display === 'none') {{\n",
       "            console.log([gd, 'removed!']);\n",
       "            Plotly.purge(gd);\n",
       "            observer.disconnect();\n",
       "        }}\n",
       "}});\n",
       "\n",
       "// Listen for the removal of the full notebook cells\n",
       "var notebookContainer = gd.closest('#notebook-container');\n",
       "if (notebookContainer) {{\n",
       "    x.observe(notebookContainer, {childList: true});\n",
       "}}\n",
       "\n",
       "// Listen for the clearing of the current output cell\n",
       "var outputEl = gd.closest('.output');\n",
       "if (outputEl) {{\n",
       "    x.observe(outputEl, {childList: true});\n",
       "}}\n",
       "\n",
       "                        })                };                });            </script>        </div>"
      ]
     },
     "metadata": {},
     "output_type": "display_data"
    }
   ],
   "execution_count": 76
  },
  {
   "metadata": {},
   "cell_type": "code",
   "outputs": [],
   "execution_count": null,
   "source": [
    "def plot_tsne_clusters(cluster_labels, tsne_result, labels, score):\n",
    "    \"\"\"\n",
    "    Plots t-SNE clusters, showing a fixed number of labels per cluster to reduce clutter.\n",
    "    All labels are still visible in the hover tooltip.\n",
    "\n",
    "    Parameters:\n",
    "    - cluster_labels: Array or list of cluster labels\n",
    "    - tsne_result: 2D t-SNE result array (shape: [n_samples, 2])\n",
    "    - labels: Array or list of labels to display on the plot\n",
    "    - labels_per_cluster: Number of labels to display per cluster (default is 5)\n",
    "\n",
    "    Returns:\n",
    "    - fig: Plotly figure object\n",
    "    \"\"\"\n",
    "    # Combine tsne_result, cluster_labels, and labels into a DataFrame\n",
    "    plot_data = pd.DataFrame({\n",
    "        'tsne_x': tsne_result[:, 0],\n",
    "        'tsne_y': tsne_result[:, 1],\n",
    "        'cluster': cluster_labels,\n",
    "        'score': score,\n",
    "        'label': labels\n",
    "    })\n",
    "\n",
    "    # Sort the data by cluster labels\n",
    "    plot_data = plot_data.sort_values(by='cluster').reset_index(drop=True)\n",
    "\n",
    "    # Create a scatter plot with Plotly\n",
    "    fig = px.scatter(\n",
    "        plot_data,\n",
    "        x='tsne_x', y='tsne_y',\n",
    "        color='cluster',\n",
    "        text=\"label\",\n",
    "        hover_name='label',  # This ensures all labels are visible on hover\n",
    "        labels={'color': 'Cluster Label', 'score': 'score'},\n",
    "        template='plotly_white'\n",
    "    )\n",
    "\n",
    "    # Adjust the layout to ensure labels are visible\n",
    "    fig.update_traces(textposition='top center')\n",
    "\n",
    "    # Show the plot\n",
    "    fig.show()"
   ],
   "id": "fe60a46661a316d8"
  },
  {
   "metadata": {
    "ExecuteTime": {
     "end_time": "2024-08-27T08:14:06.450936Z",
     "start_time": "2024-08-27T08:14:06.444807Z"
    }
   },
   "cell_type": "code",
   "source": [
    "df = pd.DataFrame({\n",
    "    'topic': keywords,\n",
    "    'predicted': mapped_predictions,\n",
    "    'truth': cluster_labels\n",
    "})\n",
    "\n",
    "# Filter where predicted differs from actual\n",
    "df_filtered = df[df['predicted'] != df['truth']]\n",
    "df_filtered"
   ],
   "id": "b1b3db28f53d4b5e",
   "outputs": [
    {
     "data": {
      "text/plain": [
       "                          topic         predicted             truth\n",
       "0                       Culture           Society           Culture\n",
       "3                        Poetry            Nature           Culture\n",
       "12                        Earth            Nature         Geography\n",
       "13                      Climate            Nature         Geography\n",
       "14                 Demographics            People         Geography\n",
       "24                    Nutrition  Human Activities            Health\n",
       "25             Physical fitness  Human Activities            Health\n",
       "32             Body composition  Human Activities            Health\n",
       "40                  World War I  Human Activities           History\n",
       "41                 World War II  Human Activities           History\n",
       "44             Human Activities            People  Human Activities\n",
       "45                  Agriculture           History  Human Activities\n",
       "46      Business administration        Technology  Human Activities\n",
       "47                    Education        Technology  Human Activities\n",
       "48                Entertainment           Culture  Human Activities\n",
       "49            Industrialization           History  Human Activities\n",
       "50                Globalization           History  Human Activities\n",
       "51              Law enforcement        Technology  Human Activities\n",
       "52                     Fighting           Culture  Human Activities\n",
       "53                        Sport           Culture  Human Activities\n",
       "54                      Playing           Culture  Human Activities\n",
       "60                  Probability            People       Mathematics\n",
       "61                     Topology         Geography       Mathematics\n",
       "63                   Statistics            People       Mathematics\n",
       "65                        Logic        Philosophy       Mathematics\n",
       "68                      Biology            Health            Nature\n",
       "72                     Genetics            Health            Nature\n",
       "73         Evolutionary biology            Health            Nature\n",
       "74                 Neuroscience            Health            Nature\n",
       "76                 Paleontology           History            Nature\n",
       "78                    Biography           History            People\n",
       "79                Consciousness        Philosophy            People\n",
       "81            Personal identity        Philosophy            People\n",
       "82           Self-actualization        Philosophy            People\n",
       "83                 Spirituality          Religion            People\n",
       "84                Personal life        Philosophy            People\n",
       "86   Interpersonal relationship           Society            People\n",
       "87              Quality of life        Philosophy            People\n",
       "89                       Ethics           Society        Philosophy\n",
       "90                  Metaphysics            Nature        Philosophy\n",
       "92                   Aesthetics           Culture        Philosophy\n",
       "97                Phenomenology           History        Philosophy\n",
       "111                Anthropology           History           Society\n",
       "113                   Economics        Technology           Society\n",
       "114           Political science        Technology           Society\n",
       "115                  Psychology            Health           Society\n",
       "116                         Law        Technology           Society\n",
       "124               Biotechnology            Health        Technology\n",
       "125           Materials science            Nature        Technology"
      ],
      "text/html": [
       "<div>\n",
       "<style scoped>\n",
       "    .dataframe tbody tr th:only-of-type {\n",
       "        vertical-align: middle;\n",
       "    }\n",
       "\n",
       "    .dataframe tbody tr th {\n",
       "        vertical-align: top;\n",
       "    }\n",
       "\n",
       "    .dataframe thead th {\n",
       "        text-align: right;\n",
       "    }\n",
       "</style>\n",
       "<table border=\"1\" class=\"dataframe\">\n",
       "  <thead>\n",
       "    <tr style=\"text-align: right;\">\n",
       "      <th></th>\n",
       "      <th>topic</th>\n",
       "      <th>predicted</th>\n",
       "      <th>truth</th>\n",
       "    </tr>\n",
       "  </thead>\n",
       "  <tbody>\n",
       "    <tr>\n",
       "      <th>0</th>\n",
       "      <td>Culture</td>\n",
       "      <td>Society</td>\n",
       "      <td>Culture</td>\n",
       "    </tr>\n",
       "    <tr>\n",
       "      <th>3</th>\n",
       "      <td>Poetry</td>\n",
       "      <td>Nature</td>\n",
       "      <td>Culture</td>\n",
       "    </tr>\n",
       "    <tr>\n",
       "      <th>12</th>\n",
       "      <td>Earth</td>\n",
       "      <td>Nature</td>\n",
       "      <td>Geography</td>\n",
       "    </tr>\n",
       "    <tr>\n",
       "      <th>13</th>\n",
       "      <td>Climate</td>\n",
       "      <td>Nature</td>\n",
       "      <td>Geography</td>\n",
       "    </tr>\n",
       "    <tr>\n",
       "      <th>14</th>\n",
       "      <td>Demographics</td>\n",
       "      <td>People</td>\n",
       "      <td>Geography</td>\n",
       "    </tr>\n",
       "    <tr>\n",
       "      <th>24</th>\n",
       "      <td>Nutrition</td>\n",
       "      <td>Human Activities</td>\n",
       "      <td>Health</td>\n",
       "    </tr>\n",
       "    <tr>\n",
       "      <th>25</th>\n",
       "      <td>Physical fitness</td>\n",
       "      <td>Human Activities</td>\n",
       "      <td>Health</td>\n",
       "    </tr>\n",
       "    <tr>\n",
       "      <th>32</th>\n",
       "      <td>Body composition</td>\n",
       "      <td>Human Activities</td>\n",
       "      <td>Health</td>\n",
       "    </tr>\n",
       "    <tr>\n",
       "      <th>40</th>\n",
       "      <td>World War I</td>\n",
       "      <td>Human Activities</td>\n",
       "      <td>History</td>\n",
       "    </tr>\n",
       "    <tr>\n",
       "      <th>41</th>\n",
       "      <td>World War II</td>\n",
       "      <td>Human Activities</td>\n",
       "      <td>History</td>\n",
       "    </tr>\n",
       "    <tr>\n",
       "      <th>44</th>\n",
       "      <td>Human Activities</td>\n",
       "      <td>People</td>\n",
       "      <td>Human Activities</td>\n",
       "    </tr>\n",
       "    <tr>\n",
       "      <th>45</th>\n",
       "      <td>Agriculture</td>\n",
       "      <td>History</td>\n",
       "      <td>Human Activities</td>\n",
       "    </tr>\n",
       "    <tr>\n",
       "      <th>46</th>\n",
       "      <td>Business administration</td>\n",
       "      <td>Technology</td>\n",
       "      <td>Human Activities</td>\n",
       "    </tr>\n",
       "    <tr>\n",
       "      <th>47</th>\n",
       "      <td>Education</td>\n",
       "      <td>Technology</td>\n",
       "      <td>Human Activities</td>\n",
       "    </tr>\n",
       "    <tr>\n",
       "      <th>48</th>\n",
       "      <td>Entertainment</td>\n",
       "      <td>Culture</td>\n",
       "      <td>Human Activities</td>\n",
       "    </tr>\n",
       "    <tr>\n",
       "      <th>49</th>\n",
       "      <td>Industrialization</td>\n",
       "      <td>History</td>\n",
       "      <td>Human Activities</td>\n",
       "    </tr>\n",
       "    <tr>\n",
       "      <th>50</th>\n",
       "      <td>Globalization</td>\n",
       "      <td>History</td>\n",
       "      <td>Human Activities</td>\n",
       "    </tr>\n",
       "    <tr>\n",
       "      <th>51</th>\n",
       "      <td>Law enforcement</td>\n",
       "      <td>Technology</td>\n",
       "      <td>Human Activities</td>\n",
       "    </tr>\n",
       "    <tr>\n",
       "      <th>52</th>\n",
       "      <td>Fighting</td>\n",
       "      <td>Culture</td>\n",
       "      <td>Human Activities</td>\n",
       "    </tr>\n",
       "    <tr>\n",
       "      <th>53</th>\n",
       "      <td>Sport</td>\n",
       "      <td>Culture</td>\n",
       "      <td>Human Activities</td>\n",
       "    </tr>\n",
       "    <tr>\n",
       "      <th>54</th>\n",
       "      <td>Playing</td>\n",
       "      <td>Culture</td>\n",
       "      <td>Human Activities</td>\n",
       "    </tr>\n",
       "    <tr>\n",
       "      <th>60</th>\n",
       "      <td>Probability</td>\n",
       "      <td>People</td>\n",
       "      <td>Mathematics</td>\n",
       "    </tr>\n",
       "    <tr>\n",
       "      <th>61</th>\n",
       "      <td>Topology</td>\n",
       "      <td>Geography</td>\n",
       "      <td>Mathematics</td>\n",
       "    </tr>\n",
       "    <tr>\n",
       "      <th>63</th>\n",
       "      <td>Statistics</td>\n",
       "      <td>People</td>\n",
       "      <td>Mathematics</td>\n",
       "    </tr>\n",
       "    <tr>\n",
       "      <th>65</th>\n",
       "      <td>Logic</td>\n",
       "      <td>Philosophy</td>\n",
       "      <td>Mathematics</td>\n",
       "    </tr>\n",
       "    <tr>\n",
       "      <th>68</th>\n",
       "      <td>Biology</td>\n",
       "      <td>Health</td>\n",
       "      <td>Nature</td>\n",
       "    </tr>\n",
       "    <tr>\n",
       "      <th>72</th>\n",
       "      <td>Genetics</td>\n",
       "      <td>Health</td>\n",
       "      <td>Nature</td>\n",
       "    </tr>\n",
       "    <tr>\n",
       "      <th>73</th>\n",
       "      <td>Evolutionary biology</td>\n",
       "      <td>Health</td>\n",
       "      <td>Nature</td>\n",
       "    </tr>\n",
       "    <tr>\n",
       "      <th>74</th>\n",
       "      <td>Neuroscience</td>\n",
       "      <td>Health</td>\n",
       "      <td>Nature</td>\n",
       "    </tr>\n",
       "    <tr>\n",
       "      <th>76</th>\n",
       "      <td>Paleontology</td>\n",
       "      <td>History</td>\n",
       "      <td>Nature</td>\n",
       "    </tr>\n",
       "    <tr>\n",
       "      <th>78</th>\n",
       "      <td>Biography</td>\n",
       "      <td>History</td>\n",
       "      <td>People</td>\n",
       "    </tr>\n",
       "    <tr>\n",
       "      <th>79</th>\n",
       "      <td>Consciousness</td>\n",
       "      <td>Philosophy</td>\n",
       "      <td>People</td>\n",
       "    </tr>\n",
       "    <tr>\n",
       "      <th>81</th>\n",
       "      <td>Personal identity</td>\n",
       "      <td>Philosophy</td>\n",
       "      <td>People</td>\n",
       "    </tr>\n",
       "    <tr>\n",
       "      <th>82</th>\n",
       "      <td>Self-actualization</td>\n",
       "      <td>Philosophy</td>\n",
       "      <td>People</td>\n",
       "    </tr>\n",
       "    <tr>\n",
       "      <th>83</th>\n",
       "      <td>Spirituality</td>\n",
       "      <td>Religion</td>\n",
       "      <td>People</td>\n",
       "    </tr>\n",
       "    <tr>\n",
       "      <th>84</th>\n",
       "      <td>Personal life</td>\n",
       "      <td>Philosophy</td>\n",
       "      <td>People</td>\n",
       "    </tr>\n",
       "    <tr>\n",
       "      <th>86</th>\n",
       "      <td>Interpersonal relationship</td>\n",
       "      <td>Society</td>\n",
       "      <td>People</td>\n",
       "    </tr>\n",
       "    <tr>\n",
       "      <th>87</th>\n",
       "      <td>Quality of life</td>\n",
       "      <td>Philosophy</td>\n",
       "      <td>People</td>\n",
       "    </tr>\n",
       "    <tr>\n",
       "      <th>89</th>\n",
       "      <td>Ethics</td>\n",
       "      <td>Society</td>\n",
       "      <td>Philosophy</td>\n",
       "    </tr>\n",
       "    <tr>\n",
       "      <th>90</th>\n",
       "      <td>Metaphysics</td>\n",
       "      <td>Nature</td>\n",
       "      <td>Philosophy</td>\n",
       "    </tr>\n",
       "    <tr>\n",
       "      <th>92</th>\n",
       "      <td>Aesthetics</td>\n",
       "      <td>Culture</td>\n",
       "      <td>Philosophy</td>\n",
       "    </tr>\n",
       "    <tr>\n",
       "      <th>97</th>\n",
       "      <td>Phenomenology</td>\n",
       "      <td>History</td>\n",
       "      <td>Philosophy</td>\n",
       "    </tr>\n",
       "    <tr>\n",
       "      <th>111</th>\n",
       "      <td>Anthropology</td>\n",
       "      <td>History</td>\n",
       "      <td>Society</td>\n",
       "    </tr>\n",
       "    <tr>\n",
       "      <th>113</th>\n",
       "      <td>Economics</td>\n",
       "      <td>Technology</td>\n",
       "      <td>Society</td>\n",
       "    </tr>\n",
       "    <tr>\n",
       "      <th>114</th>\n",
       "      <td>Political science</td>\n",
       "      <td>Technology</td>\n",
       "      <td>Society</td>\n",
       "    </tr>\n",
       "    <tr>\n",
       "      <th>115</th>\n",
       "      <td>Psychology</td>\n",
       "      <td>Health</td>\n",
       "      <td>Society</td>\n",
       "    </tr>\n",
       "    <tr>\n",
       "      <th>116</th>\n",
       "      <td>Law</td>\n",
       "      <td>Technology</td>\n",
       "      <td>Society</td>\n",
       "    </tr>\n",
       "    <tr>\n",
       "      <th>124</th>\n",
       "      <td>Biotechnology</td>\n",
       "      <td>Health</td>\n",
       "      <td>Technology</td>\n",
       "    </tr>\n",
       "    <tr>\n",
       "      <th>125</th>\n",
       "      <td>Materials science</td>\n",
       "      <td>Nature</td>\n",
       "      <td>Technology</td>\n",
       "    </tr>\n",
       "  </tbody>\n",
       "</table>\n",
       "</div>"
      ]
     },
     "execution_count": 36,
     "metadata": {},
     "output_type": "execute_result"
    }
   ],
   "execution_count": 36
  },
  {
   "metadata": {
    "ExecuteTime": {
     "end_time": "2024-09-17T10:08:14.187226Z",
     "start_time": "2024-09-17T10:08:14.096943Z"
    }
   },
   "cell_type": "code",
   "source": [
    "import seaborn as sns\n",
    "import matplotlib.pyplot as plt\n",
    "\n",
    "linkage_comparison = pd.read_csv(\"database/linkage_comparison.csv\")\n",
    "\n",
    "linkage_comparison['linkage_method'] = linkage_comparison['testcase'].apply(lambda x: '_'.join(x.split('_')[:-1]))\n",
    "linkage_comparison['variant'] = linkage_comparison['testcase'].apply(lambda x: x.split('_')[-1])\n",
    "\n",
    "# Plot using seaborn, grouping by linkage method and coloring by variant\n",
    "plt.figure(figsize=(5, 5))\n",
    "sns.barplot(data=linkage_comparison, x='linkage_method', y='adj_rand', hue='variant', palette=\"Blues\")\n",
    "\n",
    "# Add title and labels\n",
    "plt.title('')\n",
    "plt.ylabel('Adjusted Rand Index')\n",
    "plt.xlabel('Linkage Criteria')\n",
    "plt.xticks(rotation=90)\n",
    "\n",
    "# Display the plot\n",
    "plt.tight_layout()\n",
    "plt.show()"
   ],
   "id": "9bb7abd7fdf2c888",
   "outputs": [
    {
     "data": {
      "text/plain": [
       "<Figure size 500x500 with 1 Axes>"
      ],
      "image/png": "[encoded data removed]"
     },
     "metadata": {},
     "output_type": "display_data"
    }
   ],
   "execution_count": 96
  }
 ],
 "metadata": {
  "kernelspec": {
   "display_name": "Python 3",
   "language": "python",
   "name": "python3"
  },
  "language_info": {
   "codemirror_mode": {
    "name": "ipython",
    "version": 2
   },
   "file_extension": ".py",
   "mimetype": "text/x-python",
   "name": "python",
   "nbconvert_exporter": "python",
   "pygments_lexer": "ipython2",
   "version": "2.7.6"
  }
 },
 "nbformat": 4,
 "nbformat_minor": 5
}
