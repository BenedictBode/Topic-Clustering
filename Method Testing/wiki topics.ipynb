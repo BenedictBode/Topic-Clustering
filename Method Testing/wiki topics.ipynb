{
 "cells": [
  {
   "cell_type": "code",
   "id": "initial_id",
   "metadata": {
    "collapsed": true,
    "ExecuteTime": {
     "end_time": "2024-08-27T16:24:13.959284Z",
     "start_time": "2024-08-27T16:24:13.685917Z"
    }
   },
   "source": [
    "import numpy as np\n",
    "from SPARQLWrapper import SPARQLWrapper, JSON\n",
    "\n",
    "def get_exact_wikidata_topics(wikipedia_title):\n",
    "    endpoint_url = \"https://query.wikidata.org/sparql\"\n",
    "    query = f\"\"\"\n",
    "    SELECT ?subclassLabel WHERE {{\n",
    "      ?item rdfs:label \"{wikipedia_title}\"@en .\n",
    "      ?item wdt:P279 ?subclass .  # P279 is the property for 'subclass of'\n",
    "      SERVICE wikibase:label {{ bd:serviceParam wikibase:language \"en\" }}\n",
    "    }}\n",
    "    \"\"\"\n",
    "\n",
    "    sparql = SPARQLWrapper(endpoint_url)\n",
    "    sparql.setQuery(query)\n",
    "    sparql.setReturnFormat(JSON)\n",
    "    results = sparql.query().convert()\n",
    "\n",
    "    topics = []\n",
    "    for result in results[\"results\"][\"bindings\"]:\n",
    "        subclass = result[\"subclassLabel\"][\"value\"]\n",
    "        topics.append(subclass)\n",
    "\n",
    "    return topics\n",
    "\n",
    "wikipedia_title = \"matrix multiplication\"\n",
    "topics = get_exact_wikidata_topics(wikipedia_title)\n",
    "\n",
    "print(topics)"
   ],
   "outputs": [
    {
     "name": "stdout",
     "output_type": "stream",
     "text": [
      "['multiplication', 'matrix operation']\n"
     ]
    }
   ],
   "execution_count": 159
  },
  {
   "metadata": {
    "ExecuteTime": {
     "end_time": "2024-08-09T15:58:31.046883Z",
     "start_time": "2024-08-09T15:58:23.255314Z"
    }
   },
   "cell_type": "code",
   "source": [
    "import DataPrep\n",
    "\n",
    "keywords, keyword_appearances = DataPrep.prep_keywords(min_appearances=50)"
   ],
   "id": "f0dc4bf4c3be2ec5",
   "outputs": [
    {
     "name": "stderr",
     "output_type": "stream",
     "text": [
      "/Users/bene/PycharmProjects/Topic Clustering/.venv/lib/python3.9/site-packages/sentence_transformers/cross_encoder/CrossEncoder.py:11: TqdmExperimentalWarning: Using `tqdm.autonotebook.tqdm` in notebook mode. Use `tqdm.tqdm` instead to force console mode (e.g. in jupyter console)\n",
      "  from tqdm.autonotebook import tqdm, trange\n"
     ]
    }
   ],
   "execution_count": 37
  },
  {
   "metadata": {
    "ExecuteTime": {
     "end_time": "2024-08-09T16:05:06.772453Z",
     "start_time": "2024-08-09T16:05:02.567665Z"
    }
   },
   "cell_type": "code",
   "source": [
    "sample = keywords.sample(n=10)\n",
    "for keyword in sample:\n",
    "    parents = get_exact_wikidata_topics(keyword.lower())\n",
    "    print(keyword, \"subclass of: \" , parents)"
   ],
   "id": "d40e2103321abf95",
   "outputs": [
    {
     "name": "stdout",
     "output_type": "stream",
     "text": [
      "Grammar subclass of:  ['linguistics', 'convention']\n",
      "Algebraic geometry subclass of:  []\n",
      "Climatology subclass of:  ['meteorology', 'oceanography', 'physical geography', 'atmospheric physics']\n",
      "Enterprise resource planning subclass of:  ['information technology', 'business software']\n",
      "Financial market subclass of:  ['market', 'academic discipline']\n",
      "Process engineering subclass of:  ['engineering']\n",
      "Electrochemistry subclass of:  ['physical chemistry']\n",
      "Electric generator subclass of:  ['electric machine', 'electric power source']\n",
      "Mathematics education subclass of:  ['education']\n",
      "Human musculoskeletal system subclass of:  ['human organ system', 'musculoskeletal system', 'particular anatomical entity']\n"
     ]
    }
   ],
   "execution_count": 45
  },
  {
   "metadata": {
    "ExecuteTime": {
     "end_time": "2024-08-26T11:13:03.856594Z",
     "start_time": "2024-08-26T11:13:03.823856Z"
    }
   },
   "cell_type": "code",
   "source": [
    "import json\n",
    "import pandas as pd\n",
    "\n",
    "# Load JSON data\n",
    "\n",
    "def load_wiki_hierachy(include_list_items = True):\n",
    "    with open('database/wikipedia_overview_categories_revised.json', 'r') as file:\n",
    "        data = json.load(file)\n",
    "    \n",
    "    row_list = []\n",
    "    # Function to flatten the JSON structure\n",
    "    def flatten_json(y, parents=[]):\n",
    "        if isinstance(y, dict):\n",
    "            for k, v in y.items():\n",
    "                flatten_json(v, parents + [k])\n",
    "        elif isinstance(y, list):\n",
    "            for i, item in enumerate(y):\n",
    "                flatten_json(item, parents)\n",
    "                if not include_list_items:\n",
    "                    break\n",
    "        else:\n",
    "            new_row = {}\n",
    "            parents = parents + [y]\n",
    "            for i, parent in enumerate(parents):\n",
    "                new_row[f\"level {i}\"] = parent\n",
    "            row_list.append(new_row)\n",
    "    \n",
    "    \n",
    "    flatten_json(data[\"Wikipedia_Contents\"])\n",
    "    wiki_df = pd.DataFrame.from_dict(row_list).replace({'_': ' '}, regex=True)\n",
    "    \n",
    "    wiki_df[\"leaf nodes\"] = wiki_df['level 3'].fillna(wiki_df['level 2'])\n",
    "    wiki_df = wiki_df.drop_duplicates(subset=\"leaf nodes\", keep=\"first\")\n",
    "    return wiki_df\n",
    "\n",
    "wiki_df = load_wiki_hierachy(include_list_items = False)\n",
    "wiki_df"
   ],
   "id": "d5c5837aa9fc4a62",
   "outputs": [
    {
     "data": {
      "text/plain": [
       "                        level 0                  level 1              level 2  \\\n",
       "0          Culture and the arts   Culture and Humanities          Celebrities   \n",
       "1          Culture and the arts         Art and The arts        Art galleries   \n",
       "2          Culture and the arts               Literature               Poetry   \n",
       "3          Culture and the arts          Performing arts      Comedy (Humour)   \n",
       "4          Culture and the arts              Visual arts            Animation   \n",
       "..                          ...                      ...                  ...   \n",
       "91  Society and social sciences     Economy and Business              Finance   \n",
       "92  Society and social sciences                Education             Academia   \n",
       "93  Society and social sciences  Government and Politics  Politics by country   \n",
       "94  Society and social sciences                      Law     Criminal justice   \n",
       "95  Society and social sciences           Social network        Communication   \n",
       "\n",
       "   level 3           leaf nodes  \n",
       "0      NaN          Celebrities  \n",
       "1      NaN        Art galleries  \n",
       "2      NaN               Poetry  \n",
       "3      NaN      Comedy (Humour)  \n",
       "4      NaN            Animation  \n",
       "..     ...                  ...  \n",
       "91     NaN              Finance  \n",
       "92     NaN             Academia  \n",
       "93     NaN  Politics by country  \n",
       "94     NaN     Criminal justice  \n",
       "95     NaN        Communication  \n",
       "\n",
       "[93 rows x 5 columns]"
      ],
      "text/html": [
       "<div>\n",
       "<style scoped>\n",
       "    .dataframe tbody tr th:only-of-type {\n",
       "        vertical-align: middle;\n",
       "    }\n",
       "\n",
       "    .dataframe tbody tr th {\n",
       "        vertical-align: top;\n",
       "    }\n",
       "\n",
       "    .dataframe thead th {\n",
       "        text-align: right;\n",
       "    }\n",
       "</style>\n",
       "<table border=\"1\" class=\"dataframe\">\n",
       "  <thead>\n",
       "    <tr style=\"text-align: right;\">\n",
       "      <th></th>\n",
       "      <th>level 0</th>\n",
       "      <th>level 1</th>\n",
       "      <th>level 2</th>\n",
       "      <th>level 3</th>\n",
       "      <th>leaf nodes</th>\n",
       "    </tr>\n",
       "  </thead>\n",
       "  <tbody>\n",
       "    <tr>\n",
       "      <th>0</th>\n",
       "      <td>Culture and the arts</td>\n",
       "      <td>Culture and Humanities</td>\n",
       "      <td>Celebrities</td>\n",
       "      <td>NaN</td>\n",
       "      <td>Celebrities</td>\n",
       "    </tr>\n",
       "    <tr>\n",
       "      <th>1</th>\n",
       "      <td>Culture and the arts</td>\n",
       "      <td>Art and The arts</td>\n",
       "      <td>Art galleries</td>\n",
       "      <td>NaN</td>\n",
       "      <td>Art galleries</td>\n",
       "    </tr>\n",
       "    <tr>\n",
       "      <th>2</th>\n",
       "      <td>Culture and the arts</td>\n",
       "      <td>Literature</td>\n",
       "      <td>Poetry</td>\n",
       "      <td>NaN</td>\n",
       "      <td>Poetry</td>\n",
       "    </tr>\n",
       "    <tr>\n",
       "      <th>3</th>\n",
       "      <td>Culture and the arts</td>\n",
       "      <td>Performing arts</td>\n",
       "      <td>Comedy (Humour)</td>\n",
       "      <td>NaN</td>\n",
       "      <td>Comedy (Humour)</td>\n",
       "    </tr>\n",
       "    <tr>\n",
       "      <th>4</th>\n",
       "      <td>Culture and the arts</td>\n",
       "      <td>Visual arts</td>\n",
       "      <td>Animation</td>\n",
       "      <td>NaN</td>\n",
       "      <td>Animation</td>\n",
       "    </tr>\n",
       "    <tr>\n",
       "      <th>...</th>\n",
       "      <td>...</td>\n",
       "      <td>...</td>\n",
       "      <td>...</td>\n",
       "      <td>...</td>\n",
       "      <td>...</td>\n",
       "    </tr>\n",
       "    <tr>\n",
       "      <th>91</th>\n",
       "      <td>Society and social sciences</td>\n",
       "      <td>Economy and Business</td>\n",
       "      <td>Finance</td>\n",
       "      <td>NaN</td>\n",
       "      <td>Finance</td>\n",
       "    </tr>\n",
       "    <tr>\n",
       "      <th>92</th>\n",
       "      <td>Society and social sciences</td>\n",
       "      <td>Education</td>\n",
       "      <td>Academia</td>\n",
       "      <td>NaN</td>\n",
       "      <td>Academia</td>\n",
       "    </tr>\n",
       "    <tr>\n",
       "      <th>93</th>\n",
       "      <td>Society and social sciences</td>\n",
       "      <td>Government and Politics</td>\n",
       "      <td>Politics by country</td>\n",
       "      <td>NaN</td>\n",
       "      <td>Politics by country</td>\n",
       "    </tr>\n",
       "    <tr>\n",
       "      <th>94</th>\n",
       "      <td>Society and social sciences</td>\n",
       "      <td>Law</td>\n",
       "      <td>Criminal justice</td>\n",
       "      <td>NaN</td>\n",
       "      <td>Criminal justice</td>\n",
       "    </tr>\n",
       "    <tr>\n",
       "      <th>95</th>\n",
       "      <td>Society and social sciences</td>\n",
       "      <td>Social network</td>\n",
       "      <td>Communication</td>\n",
       "      <td>NaN</td>\n",
       "      <td>Communication</td>\n",
       "    </tr>\n",
       "  </tbody>\n",
       "</table>\n",
       "<p>93 rows × 5 columns</p>\n",
       "</div>"
      ]
     },
     "execution_count": 130,
     "metadata": {},
     "output_type": "execute_result"
    }
   ],
   "execution_count": 130
  },
  {
   "metadata": {
    "ExecuteTime": {
     "end_time": "2024-08-26T11:13:45.816870Z",
     "start_time": "2024-08-26T11:13:45.752824Z"
    }
   },
   "cell_type": "code",
   "source": [
    "import plotly.express as px\n",
    "\n",
    "px.treemap(wiki_df, path=[\"level 0\", \"level 1\", \"level 2\", \"level 3\"], template=\"simple_white\", title=\"Hierarchy Explorer\")"
   ],
   "id": "a8db5f723352bdda",
   "outputs": [
    {
     "data": {
      "application/vnd.plotly.v1+json": {
       "data": [
        {
         "branchvalues": "total",
         "domain": {
          "x": [
           0.0,
           1.0
          ],
          "y": [
           0.0,
           1.0
          ]
         },
         "hovertemplate": "labels=%{label}<br>count=%{value}<br>parent=%{parent}<br>id=%{id}<extra></extra>",
         "ids": [
          "Geography and places/The World/By continent/Africa",
          "History and events/History by subject/History of technology/Agriculture & agricultural science",
          "Philosophy and thinking/Schools of philosophy/Western/Analytic philosophy",
          "History and events/History by subject/History of philosophy/Ancient",
          "History and events/History by subject/History of the social sciences/Anthropology",
          "History and events/History by subject/Art/Architecture",
          "History and events/History by subject/History of the natural sciences/Astronomy",
          "Society and social sciences/Infrastructure/Private infrastructure/Automobiles",
          "Geography and places/Natural geographical features/Landforms/Badlands",
          "Geography and places/Natural geographical features/Bodies of water/Bay",
          "Geography and places/The World/Countries and polar regions of the world/Countries of Africa",
          "Geography and places/The World/By economic development/Developed countries",
          "Geography and places/The World/By cultural region/English-speaking world",
          "Geography and places/The World/By ordinal classification/First World",
          "Society and social sciences/Infrastructure/Public infrastructure/Highways",
          "History and events/History by subject/History of science by era/In early cultures",
          "History and events/History by subject/Cultural history/Money",
          "Philosophy and thinking/Schools of philosophy/Eastern/Mīmāṃsā",
          "Geography and places/The World/By hemisphere/New World",
          "History and events/History by subject/History of science/Theories/Sociology",
          "History and events/History by subject/History of war/Wars of Alexander the Great",
          "Society and social sciences/Education/Academia",
          "Society and social sciences/Sociocultural evolution/Accelerating change",
          "Philosophy and thinking/Qualities of thought/Accuracy",
          "Religion and belief systems/Belief Systems/Acosmism",
          "People and self/People/Adult",
          "People and self/Personal life/Adventure",
          "Philosophy and thinking/Branches of philosophy/Aesthetics",
          "Health and fitness/Illness/Aging",
          "Geography and places/Manmade geographical features/Airport",
          "Mathematics and logic/Mathematics/Algebra",
          "Natural and physical sciences/Chemistry/Analytical chemistry",
          "Natural and physical sciences/Biology/Anatomy (Human anatomy)",
          "History and events/History by region/Ancient Egypt",
          "Health and fitness/Human medicine/Anesthesiology",
          "Culture and the arts/Visual arts/Animation",
          "Religion and belief systems/Major beliefs of the world/Antireligion",
          "Human activities/Science/Applied science",
          "History and events/History by subject/Art",
          "Culture and the arts/Art and The arts/Art galleries",
          "Human activities/Human activity/Arts",
          "Culture and the arts/Sports/Association football (Soccer)",
          "Geography and places/Geography/Atlas",
          "Natural and physical sciences/Matter/Atom",
          "Philosophy and thinking/Thinking/Awareness",
          "Culture and the arts/Card games/Baccarat",
          "Culture and the arts/Board games/Backgammon",
          "Philosophy and thinking/Philosophy/Being",
          "Human activities/Human impact on the environment/Biodiversity loss",
          "People and self/Person/Biography",
          "Geography and places/Natural geographical features/Bodies of water",
          "Health and fitness/Self-care/Body composition",
          "Human activities/Telecommunicating/Broadcasting (Radio broadcasting, Television broadcasting)",
          "Human activities/Business/Business administration",
          "Geography and places/The World/By continent",
          "Geography and places/The World/By cultural region",
          "Geography and places/The World/By economic development",
          "Geography and places/The World/By hemisphere",
          "Geography and places/The World/By ordinal classification",
          "Health and fitness/Nutrition/Calorie restriction",
          "Human activities/Impact of human activity/Cars, effects on society",
          "Culture and the arts/Culture and Humanities/Celebrities",
          "Health and fitness/Hygiene/Cleanliness",
          "Philosophy and thinking/Thinking errors/Cognitive bias",
          "Culture and the arts/Performing arts/Comedy (Humour)",
          "Society and social sciences/Society/Commons",
          "Society and social sciences/Social network/Communication",
          "Society and social sciences/Community/Communitarianism",
          "Culture and the arts/Games and Toys/Computer and video games",
          "Human activities/Communicating/Conversing",
          "Culture and the arts/Entertainment and Recreation/Cooking",
          "Geography and places/The World/Countries and polar regions of the world",
          "Society and social sciences/Law/Criminal justice",
          "History and events/History by subject/Cultural history",
          "Philosophy and thinking/Subdisciplines of philosophy/Culture",
          "Society and social sciences/Family/Daughter",
          "Society and social sciences/Social development/Decadence",
          "Health and fitness/Health science/Dentistry",
          "Geography and places/Main articles/Earth",
          "Natural and physical sciences/Physical sciences/Earth science",
          "Philosophy and thinking/Schools of philosophy/Eastern",
          "Philosophy and thinking/By region/Eastern philosophy",
          "Society and social sciences/Economy and Business/Finance",
          "Human activities/Agriculture/Fisheries management",
          "Philosophy and thinking/Related/Genius",
          "Health and fitness/Main articles/Health",
          "Health and fitness/General/Health care",
          "History and events/History by subject/History of philosophy",
          "History and events/History by subject/History of science",
          "History and events/History by subject/History of science by era",
          "History and events/History by subject/History of technology",
          "History and events/History by subject/History of the natural sciences",
          "History and events/History by subject/History of the social sciences",
          "History and events/History by subject/History of war",
          "Mathematics and logic/Formal sciences/Information theory",
          "Culture and the arts/Mass media/Internet (Blogosphere, Podcasts, and Websites)",
          "Geography and places/Natural geographical features/Landforms",
          "Health and fitness/Medicine/Midwifery",
          "Natural and physical sciences/Main articles/Natural science",
          "History and events/Main articles/News",
          "Natural and physical sciences/Astronomy/Optical astronomy",
          "Society and social sciences/Social institutions/Organization",
          "Geography and places/Branches of Geography/Physical geography",
          "Natural and physical sciences/Astronomical object/Planet",
          "Culture and the arts/Literature/Poetry",
          "Society and social sciences/Government and Politics/Politics by country",
          "History and events/List of time periods/Prehistory",
          "Society and social sciences/Infrastructure/Private infrastructure",
          "Society and social sciences/Infrastructure/Public infrastructure",
          "Religion and belief systems/Main article/Religion",
          "Society and social sciences/Main articles/Social sciences",
          "History and events/The Ages of history/Stone Age",
          "Health and fitness/Physical exercise/Stretching",
          "Philosophy and thinking/Schools of philosophy/Western",
          "Human activities/Agriculture",
          "Culture and the arts/Art and The arts",
          "Natural and physical sciences/Astronomical object",
          "Natural and physical sciences/Astronomy",
          "Religion and belief systems/Belief Systems",
          "Natural and physical sciences/Biology",
          "Culture and the arts/Board games",
          "Geography and places/Branches of Geography",
          "Philosophy and thinking/Branches of philosophy",
          "Human activities/Business",
          "Philosophy and thinking/By region",
          "Culture and the arts/Card games",
          "Natural and physical sciences/Chemistry",
          "Human activities/Communicating",
          "Society and social sciences/Community",
          "Culture and the arts/Culture and Humanities",
          "Society and social sciences/Economy and Business",
          "Society and social sciences/Education",
          "Culture and the arts/Entertainment and Recreation",
          "Society and social sciences/Family",
          "Mathematics and logic/Formal sciences",
          "Culture and the arts/Games and Toys",
          "Health and fitness/General",
          "Geography and places/Geography",
          "Society and social sciences/Government and Politics",
          "Health and fitness/Health science",
          "History and events/History by region",
          "History and events/History by subject",
          "Human activities/Human activity",
          "Human activities/Human impact on the environment",
          "Health and fitness/Human medicine",
          "Health and fitness/Hygiene",
          "Health and fitness/Illness",
          "Human activities/Impact of human activity",
          "Society and social sciences/Infrastructure",
          "Society and social sciences/Law",
          "History and events/List of time periods",
          "Culture and the arts/Literature",
          "Religion and belief systems/Main article",
          "Geography and places/Main articles",
          "Health and fitness/Main articles",
          "History and events/Main articles",
          "Natural and physical sciences/Main articles",
          "Society and social sciences/Main articles",
          "Religion and belief systems/Major beliefs of the world",
          "Geography and places/Manmade geographical features",
          "Culture and the arts/Mass media",
          "Mathematics and logic/Mathematics",
          "Natural and physical sciences/Matter",
          "Health and fitness/Medicine",
          "Geography and places/Natural geographical features",
          "Health and fitness/Nutrition",
          "People and self/People",
          "Culture and the arts/Performing arts",
          "People and self/Person",
          "People and self/Personal life",
          "Philosophy and thinking/Philosophy",
          "Health and fitness/Physical exercise",
          "Natural and physical sciences/Physical sciences",
          "Philosophy and thinking/Qualities of thought",
          "Philosophy and thinking/Related",
          "Philosophy and thinking/Schools of philosophy",
          "Human activities/Science",
          "Health and fitness/Self-care",
          "Society and social sciences/Social development",
          "Society and social sciences/Social institutions",
          "Society and social sciences/Social network",
          "Society and social sciences/Society",
          "Society and social sciences/Sociocultural evolution",
          "Culture and the arts/Sports",
          "Philosophy and thinking/Subdisciplines of philosophy",
          "Human activities/Telecommunicating",
          "History and events/The Ages of history",
          "Geography and places/The World",
          "Philosophy and thinking/Thinking",
          "Philosophy and thinking/Thinking errors",
          "Culture and the arts/Visual arts",
          "Culture and the arts",
          "Geography and places",
          "Health and fitness",
          "History and events",
          "Human activities",
          "Mathematics and logic",
          "Natural and physical sciences",
          "People and self",
          "Philosophy and thinking",
          "Religion and belief systems",
          "Society and social sciences"
         ],
         "labels": [
          "Africa",
          "Agriculture & agricultural science",
          "Analytic philosophy",
          "Ancient",
          "Anthropology",
          "Architecture",
          "Astronomy",
          "Automobiles",
          "Badlands",
          "Bay",
          "Countries of Africa",
          "Developed countries",
          "English-speaking world",
          "First World",
          "Highways",
          "In early cultures",
          "Money",
          "Mīmāṃsā",
          "New World",
          "Theories/Sociology",
          "Wars of Alexander the Great",
          "Academia",
          "Accelerating change",
          "Accuracy",
          "Acosmism",
          "Adult",
          "Adventure",
          "Aesthetics",
          "Aging",
          "Airport",
          "Algebra",
          "Analytical chemistry",
          "Anatomy (Human anatomy)",
          "Ancient Egypt",
          "Anesthesiology",
          "Animation",
          "Antireligion",
          "Applied science",
          "Art",
          "Art galleries",
          "Arts",
          "Association football (Soccer)",
          "Atlas",
          "Atom",
          "Awareness",
          "Baccarat",
          "Backgammon",
          "Being",
          "Biodiversity loss",
          "Biography",
          "Bodies of water",
          "Body composition",
          "Broadcasting (Radio broadcasting, Television broadcasting)",
          "Business administration",
          "By continent",
          "By cultural region",
          "By economic development",
          "By hemisphere",
          "By ordinal classification",
          "Calorie restriction",
          "Cars, effects on society",
          "Celebrities",
          "Cleanliness",
          "Cognitive bias",
          "Comedy (Humour)",
          "Commons",
          "Communication",
          "Communitarianism",
          "Computer and video games",
          "Conversing",
          "Cooking",
          "Countries and polar regions of the world",
          "Criminal justice",
          "Cultural history",
          "Culture",
          "Daughter",
          "Decadence",
          "Dentistry",
          "Earth",
          "Earth science",
          "Eastern",
          "Eastern philosophy",
          "Finance",
          "Fisheries management",
          "Genius",
          "Health",
          "Health care",
          "History of philosophy",
          "History of science",
          "History of science by era",
          "History of technology",
          "History of the natural sciences",
          "History of the social sciences",
          "History of war",
          "Information theory",
          "Internet (Blogosphere, Podcasts, and Websites)",
          "Landforms",
          "Midwifery",
          "Natural science",
          "News",
          "Optical astronomy",
          "Organization",
          "Physical geography",
          "Planet",
          "Poetry",
          "Politics by country",
          "Prehistory",
          "Private infrastructure",
          "Public infrastructure",
          "Religion",
          "Social sciences",
          "Stone Age",
          "Stretching",
          "Western",
          "Agriculture",
          "Art and The arts",
          "Astronomical object",
          "Astronomy",
          "Belief Systems",
          "Biology",
          "Board games",
          "Branches of Geography",
          "Branches of philosophy",
          "Business",
          "By region",
          "Card games",
          "Chemistry",
          "Communicating",
          "Community",
          "Culture and Humanities",
          "Economy and Business",
          "Education",
          "Entertainment and Recreation",
          "Family",
          "Formal sciences",
          "Games and Toys",
          "General",
          "Geography",
          "Government and Politics",
          "Health science",
          "History by region",
          "History by subject",
          "Human activity",
          "Human impact on the environment",
          "Human medicine",
          "Hygiene",
          "Illness",
          "Impact of human activity",
          "Infrastructure",
          "Law",
          "List of time periods",
          "Literature",
          "Main article",
          "Main articles",
          "Main articles",
          "Main articles",
          "Main articles",
          "Main articles",
          "Major beliefs of the world",
          "Manmade geographical features",
          "Mass media",
          "Mathematics",
          "Matter",
          "Medicine",
          "Natural geographical features",
          "Nutrition",
          "People",
          "Performing arts",
          "Person",
          "Personal life",
          "Philosophy",
          "Physical exercise",
          "Physical sciences",
          "Qualities of thought",
          "Related",
          "Schools of philosophy",
          "Science",
          "Self-care",
          "Social development",
          "Social institutions",
          "Social network",
          "Society",
          "Sociocultural evolution",
          "Sports",
          "Subdisciplines of philosophy",
          "Telecommunicating",
          "The Ages of history",
          "The World",
          "Thinking",
          "Thinking errors",
          "Visual arts",
          "Culture and the arts",
          "Geography and places",
          "Health and fitness",
          "History and events",
          "Human activities",
          "Mathematics and logic",
          "Natural and physical sciences",
          "People and self",
          "Philosophy and thinking",
          "Religion and belief systems",
          "Society and social sciences"
         ],
         "name": "",
         "parents": [
          "Geography and places/The World/By continent",
          "History and events/History by subject/History of technology",
          "Philosophy and thinking/Schools of philosophy/Western",
          "History and events/History by subject/History of philosophy",
          "History and events/History by subject/History of the social sciences",
          "History and events/History by subject/Art",
          "History and events/History by subject/History of the natural sciences",
          "Society and social sciences/Infrastructure/Private infrastructure",
          "Geography and places/Natural geographical features/Landforms",
          "Geography and places/Natural geographical features/Bodies of water",
          "Geography and places/The World/Countries and polar regions of the world",
          "Geography and places/The World/By economic development",
          "Geography and places/The World/By cultural region",
          "Geography and places/The World/By ordinal classification",
          "Society and social sciences/Infrastructure/Public infrastructure",
          "History and events/History by subject/History of science by era",
          "History and events/History by subject/Cultural history",
          "Philosophy and thinking/Schools of philosophy/Eastern",
          "Geography and places/The World/By hemisphere",
          "History and events/History by subject/History of science",
          "History and events/History by subject/History of war",
          "Society and social sciences/Education",
          "Society and social sciences/Sociocultural evolution",
          "Philosophy and thinking/Qualities of thought",
          "Religion and belief systems/Belief Systems",
          "People and self/People",
          "People and self/Personal life",
          "Philosophy and thinking/Branches of philosophy",
          "Health and fitness/Illness",
          "Geography and places/Manmade geographical features",
          "Mathematics and logic/Mathematics",
          "Natural and physical sciences/Chemistry",
          "Natural and physical sciences/Biology",
          "History and events/History by region",
          "Health and fitness/Human medicine",
          "Culture and the arts/Visual arts",
          "Religion and belief systems/Major beliefs of the world",
          "Human activities/Science",
          "History and events/History by subject",
          "Culture and the arts/Art and The arts",
          "Human activities/Human activity",
          "Culture and the arts/Sports",
          "Geography and places/Geography",
          "Natural and physical sciences/Matter",
          "Philosophy and thinking/Thinking",
          "Culture and the arts/Card games",
          "Culture and the arts/Board games",
          "Philosophy and thinking/Philosophy",
          "Human activities/Human impact on the environment",
          "People and self/Person",
          "Geography and places/Natural geographical features",
          "Health and fitness/Self-care",
          "Human activities/Telecommunicating",
          "Human activities/Business",
          "Geography and places/The World",
          "Geography and places/The World",
          "Geography and places/The World",
          "Geography and places/The World",
          "Geography and places/The World",
          "Health and fitness/Nutrition",
          "Human activities/Impact of human activity",
          "Culture and the arts/Culture and Humanities",
          "Health and fitness/Hygiene",
          "Philosophy and thinking/Thinking errors",
          "Culture and the arts/Performing arts",
          "Society and social sciences/Society",
          "Society and social sciences/Social network",
          "Society and social sciences/Community",
          "Culture and the arts/Games and Toys",
          "Human activities/Communicating",
          "Culture and the arts/Entertainment and Recreation",
          "Geography and places/The World",
          "Society and social sciences/Law",
          "History and events/History by subject",
          "Philosophy and thinking/Subdisciplines of philosophy",
          "Society and social sciences/Family",
          "Society and social sciences/Social development",
          "Health and fitness/Health science",
          "Geography and places/Main articles",
          "Natural and physical sciences/Physical sciences",
          "Philosophy and thinking/Schools of philosophy",
          "Philosophy and thinking/By region",
          "Society and social sciences/Economy and Business",
          "Human activities/Agriculture",
          "Philosophy and thinking/Related",
          "Health and fitness/Main articles",
          "Health and fitness/General",
          "History and events/History by subject",
          "History and events/History by subject",
          "History and events/History by subject",
          "History and events/History by subject",
          "History and events/History by subject",
          "History and events/History by subject",
          "History and events/History by subject",
          "Mathematics and logic/Formal sciences",
          "Culture and the arts/Mass media",
          "Geography and places/Natural geographical features",
          "Health and fitness/Medicine",
          "Natural and physical sciences/Main articles",
          "History and events/Main articles",
          "Natural and physical sciences/Astronomy",
          "Society and social sciences/Social institutions",
          "Geography and places/Branches of Geography",
          "Natural and physical sciences/Astronomical object",
          "Culture and the arts/Literature",
          "Society and social sciences/Government and Politics",
          "History and events/List of time periods",
          "Society and social sciences/Infrastructure",
          "Society and social sciences/Infrastructure",
          "Religion and belief systems/Main article",
          "Society and social sciences/Main articles",
          "History and events/The Ages of history",
          "Health and fitness/Physical exercise",
          "Philosophy and thinking/Schools of philosophy",
          "Human activities",
          "Culture and the arts",
          "Natural and physical sciences",
          "Natural and physical sciences",
          "Religion and belief systems",
          "Natural and physical sciences",
          "Culture and the arts",
          "Geography and places",
          "Philosophy and thinking",
          "Human activities",
          "Philosophy and thinking",
          "Culture and the arts",
          "Natural and physical sciences",
          "Human activities",
          "Society and social sciences",
          "Culture and the arts",
          "Society and social sciences",
          "Society and social sciences",
          "Culture and the arts",
          "Society and social sciences",
          "Mathematics and logic",
          "Culture and the arts",
          "Health and fitness",
          "Geography and places",
          "Society and social sciences",
          "Health and fitness",
          "History and events",
          "History and events",
          "Human activities",
          "Human activities",
          "Health and fitness",
          "Health and fitness",
          "Health and fitness",
          "Human activities",
          "Society and social sciences",
          "Society and social sciences",
          "History and events",
          "Culture and the arts",
          "Religion and belief systems",
          "Geography and places",
          "Health and fitness",
          "History and events",
          "Natural and physical sciences",
          "Society and social sciences",
          "Religion and belief systems",
          "Geography and places",
          "Culture and the arts",
          "Mathematics and logic",
          "Natural and physical sciences",
          "Health and fitness",
          "Geography and places",
          "Health and fitness",
          "People and self",
          "Culture and the arts",
          "People and self",
          "People and self",
          "Philosophy and thinking",
          "Health and fitness",
          "Natural and physical sciences",
          "Philosophy and thinking",
          "Philosophy and thinking",
          "Philosophy and thinking",
          "Human activities",
          "Health and fitness",
          "Society and social sciences",
          "Society and social sciences",
          "Society and social sciences",
          "Society and social sciences",
          "Society and social sciences",
          "Culture and the arts",
          "Philosophy and thinking",
          "Human activities",
          "History and events",
          "Geography and places",
          "Philosophy and thinking",
          "Philosophy and thinking",
          "Culture and the arts",
          "",
          "",
          "",
          "",
          "",
          "",
          "",
          "",
          "",
          "",
          ""
         ],
         "values": [
          1,
          1,
          1,
          1,
          1,
          1,
          1,
          1,
          1,
          1,
          1,
          1,
          1,
          1,
          1,
          1,
          1,
          1,
          1,
          1,
          1,
          1,
          1,
          1,
          1,
          1,
          1,
          1,
          1,
          1,
          1,
          1,
          1,
          1,
          1,
          1,
          1,
          1,
          1,
          1,
          1,
          1,
          1,
          1,
          1,
          1,
          1,
          1,
          1,
          1,
          1,
          1,
          1,
          1,
          1,
          1,
          1,
          1,
          1,
          1,
          1,
          1,
          1,
          1,
          1,
          1,
          1,
          1,
          1,
          1,
          1,
          1,
          1,
          1,
          1,
          1,
          1,
          1,
          1,
          1,
          1,
          1,
          1,
          1,
          1,
          1,
          1,
          1,
          1,
          1,
          1,
          1,
          1,
          1,
          1,
          1,
          1,
          1,
          1,
          1,
          1,
          1,
          1,
          1,
          1,
          1,
          1,
          1,
          1,
          1,
          1,
          1,
          1,
          1,
          1,
          1,
          1,
          1,
          1,
          1,
          1,
          1,
          1,
          1,
          1,
          1,
          1,
          1,
          1,
          1,
          1,
          1,
          1,
          1,
          1,
          1,
          1,
          1,
          1,
          1,
          1,
          9,
          1,
          1,
          1,
          1,
          1,
          1,
          2,
          1,
          1,
          1,
          1,
          1,
          1,
          1,
          1,
          1,
          1,
          1,
          1,
          1,
          1,
          1,
          2,
          1,
          1,
          1,
          1,
          1,
          1,
          1,
          1,
          1,
          1,
          2,
          1,
          1,
          1,
          1,
          1,
          1,
          1,
          1,
          1,
          1,
          1,
          6,
          1,
          1,
          1,
          11,
          12,
          10,
          13,
          8,
          2,
          7,
          3,
          10,
          3,
          14
         ],
         "type": "treemap"
        }
       ],
       "layout": {
        "template": {
         "data": {
          "barpolar": [
           {
            "marker": {
             "line": {
              "color": "white",
              "width": 0.5
             },
             "pattern": {
              "fillmode": "overlay",
              "size": 10,
              "solidity": 0.2
             }
            },
            "type": "barpolar"
           }
          ],
          "bar": [
           {
            "error_x": {
             "color": "rgb(36,36,36)"
            },
            "error_y": {
             "color": "rgb(36,36,36)"
            },
            "marker": {
             "line": {
              "color": "white",
              "width": 0.5
             },
             "pattern": {
              "fillmode": "overlay",
              "size": 10,
              "solidity": 0.2
             }
            },
            "type": "bar"
           }
          ],
          "carpet": [
           {
            "aaxis": {
             "endlinecolor": "rgb(36,36,36)",
             "gridcolor": "white",
             "linecolor": "white",
             "minorgridcolor": "white",
             "startlinecolor": "rgb(36,36,36)"
            },
            "baxis": {
             "endlinecolor": "rgb(36,36,36)",
             "gridcolor": "white",
             "linecolor": "white",
             "minorgridcolor": "white",
             "startlinecolor": "rgb(36,36,36)"
            },
            "type": "carpet"
           }
          ],
          "choropleth": [
           {
            "colorbar": {
             "outlinewidth": 1,
             "tickcolor": "rgb(36,36,36)",
             "ticks": "outside"
            },
            "type": "choropleth"
           }
          ],
          "contourcarpet": [
           {
            "colorbar": {
             "outlinewidth": 1,
             "tickcolor": "rgb(36,36,36)",
             "ticks": "outside"
            },
            "type": "contourcarpet"
           }
          ],
          "contour": [
           {
            "colorbar": {
             "outlinewidth": 1,
             "tickcolor": "rgb(36,36,36)",
             "ticks": "outside"
            },
            "colorscale": [
             [
              0.0,
              "#440154"
             ],
             [
              0.1111111111111111,
              "#482878"
             ],
             [
              0.2222222222222222,
              "#3e4989"
             ],
             [
              0.3333333333333333,
              "#31688e"
             ],
             [
              0.4444444444444444,
              "#26828e"
             ],
             [
              0.5555555555555556,
              "#1f9e89"
             ],
             [
              0.6666666666666666,
              "#35b779"
             ],
             [
              0.7777777777777778,
              "#6ece58"
             ],
             [
              0.8888888888888888,
              "#b5de2b"
             ],
             [
              1.0,
              "#fde725"
             ]
            ],
            "type": "contour"
           }
          ],
          "heatmapgl": [
           {
            "colorbar": {
             "outlinewidth": 1,
             "tickcolor": "rgb(36,36,36)",
             "ticks": "outside"
            },
            "colorscale": [
             [
              0.0,
              "#440154"
             ],
             [
              0.1111111111111111,
              "#482878"
             ],
             [
              0.2222222222222222,
              "#3e4989"
             ],
             [
              0.3333333333333333,
              "#31688e"
             ],
             [
              0.4444444444444444,
              "#26828e"
             ],
             [
              0.5555555555555556,
              "#1f9e89"
             ],
             [
              0.6666666666666666,
              "#35b779"
             ],
             [
              0.7777777777777778,
              "#6ece58"
             ],
             [
              0.8888888888888888,
              "#b5de2b"
             ],
             [
              1.0,
              "#fde725"
             ]
            ],
            "type": "heatmapgl"
           }
          ],
          "heatmap": [
           {
            "colorbar": {
             "outlinewidth": 1,
             "tickcolor": "rgb(36,36,36)",
             "ticks": "outside"
            },
            "colorscale": [
             [
              0.0,
              "#440154"
             ],
             [
              0.1111111111111111,
              "#482878"
             ],
             [
              0.2222222222222222,
              "#3e4989"
             ],
             [
              0.3333333333333333,
              "#31688e"
             ],
             [
              0.4444444444444444,
              "#26828e"
             ],
             [
              0.5555555555555556,
              "#1f9e89"
             ],
             [
              0.6666666666666666,
              "#35b779"
             ],
             [
              0.7777777777777778,
              "#6ece58"
             ],
             [
              0.8888888888888888,
              "#b5de2b"
             ],
             [
              1.0,
              "#fde725"
             ]
            ],
            "type": "heatmap"
           }
          ],
          "histogram2dcontour": [
           {
            "colorbar": {
             "outlinewidth": 1,
             "tickcolor": "rgb(36,36,36)",
             "ticks": "outside"
            },
            "colorscale": [
             [
              0.0,
              "#440154"
             ],
             [
              0.1111111111111111,
              "#482878"
             ],
             [
              0.2222222222222222,
              "#3e4989"
             ],
             [
              0.3333333333333333,
              "#31688e"
             ],
             [
              0.4444444444444444,
              "#26828e"
             ],
             [
              0.5555555555555556,
              "#1f9e89"
             ],
             [
              0.6666666666666666,
              "#35b779"
             ],
             [
              0.7777777777777778,
              "#6ece58"
             ],
             [
              0.8888888888888888,
              "#b5de2b"
             ],
             [
              1.0,
              "#fde725"
             ]
            ],
            "type": "histogram2dcontour"
           }
          ],
          "histogram2d": [
           {
            "colorbar": {
             "outlinewidth": 1,
             "tickcolor": "rgb(36,36,36)",
             "ticks": "outside"
            },
            "colorscale": [
             [
              0.0,
              "#440154"
             ],
             [
              0.1111111111111111,
              "#482878"
             ],
             [
              0.2222222222222222,
              "#3e4989"
             ],
             [
              0.3333333333333333,
              "#31688e"
             ],
             [
              0.4444444444444444,
              "#26828e"
             ],
             [
              0.5555555555555556,
              "#1f9e89"
             ],
             [
              0.6666666666666666,
              "#35b779"
             ],
             [
              0.7777777777777778,
              "#6ece58"
             ],
             [
              0.8888888888888888,
              "#b5de2b"
             ],
             [
              1.0,
              "#fde725"
             ]
            ],
            "type": "histogram2d"
           }
          ],
          "histogram": [
           {
            "marker": {
             "line": {
              "color": "white",
              "width": 0.6
             }
            },
            "type": "histogram"
           }
          ],
          "mesh3d": [
           {
            "colorbar": {
             "outlinewidth": 1,
             "tickcolor": "rgb(36,36,36)",
             "ticks": "outside"
            },
            "type": "mesh3d"
           }
          ],
          "parcoords": [
           {
            "line": {
             "colorbar": {
              "outlinewidth": 1,
              "tickcolor": "rgb(36,36,36)",
              "ticks": "outside"
             }
            },
            "type": "parcoords"
           }
          ],
          "pie": [
           {
            "automargin": true,
            "type": "pie"
           }
          ],
          "scatter3d": [
           {
            "line": {
             "colorbar": {
              "outlinewidth": 1,
              "tickcolor": "rgb(36,36,36)",
              "ticks": "outside"
             }
            },
            "marker": {
             "colorbar": {
              "outlinewidth": 1,
              "tickcolor": "rgb(36,36,36)",
              "ticks": "outside"
             }
            },
            "type": "scatter3d"
           }
          ],
          "scattercarpet": [
           {
            "marker": {
             "colorbar": {
              "outlinewidth": 1,
              "tickcolor": "rgb(36,36,36)",
              "ticks": "outside"
             }
            },
            "type": "scattercarpet"
           }
          ],
          "scattergeo": [
           {
            "marker": {
             "colorbar": {
              "outlinewidth": 1,
              "tickcolor": "rgb(36,36,36)",
              "ticks": "outside"
             }
            },
            "type": "scattergeo"
           }
          ],
          "scattergl": [
           {
            "marker": {
             "colorbar": {
              "outlinewidth": 1,
              "tickcolor": "rgb(36,36,36)",
              "ticks": "outside"
             }
            },
            "type": "scattergl"
           }
          ],
          "scattermapbox": [
           {
            "marker": {
             "colorbar": {
              "outlinewidth": 1,
              "tickcolor": "rgb(36,36,36)",
              "ticks": "outside"
             }
            },
            "type": "scattermapbox"
           }
          ],
          "scatterpolargl": [
           {
            "marker": {
             "colorbar": {
              "outlinewidth": 1,
              "tickcolor": "rgb(36,36,36)",
              "ticks": "outside"
             }
            },
            "type": "scatterpolargl"
           }
          ],
          "scatterpolar": [
           {
            "marker": {
             "colorbar": {
              "outlinewidth": 1,
              "tickcolor": "rgb(36,36,36)",
              "ticks": "outside"
             }
            },
            "type": "scatterpolar"
           }
          ],
          "scatter": [
           {
            "fillpattern": {
             "fillmode": "overlay",
             "size": 10,
             "solidity": 0.2
            },
            "type": "scatter"
           }
          ],
          "scatterternary": [
           {
            "marker": {
             "colorbar": {
              "outlinewidth": 1,
              "tickcolor": "rgb(36,36,36)",
              "ticks": "outside"
             }
            },
            "type": "scatterternary"
           }
          ],
          "surface": [
           {
            "colorbar": {
             "outlinewidth": 1,
             "tickcolor": "rgb(36,36,36)",
             "ticks": "outside"
            },
            "colorscale": [
             [
              0.0,
              "#440154"
             ],
             [
              0.1111111111111111,
              "#482878"
             ],
             [
              0.2222222222222222,
              "#3e4989"
             ],
             [
              0.3333333333333333,
              "#31688e"
             ],
             [
              0.4444444444444444,
              "#26828e"
             ],
             [
              0.5555555555555556,
              "#1f9e89"
             ],
             [
              0.6666666666666666,
              "#35b779"
             ],
             [
              0.7777777777777778,
              "#6ece58"
             ],
             [
              0.8888888888888888,
              "#b5de2b"
             ],
             [
              1.0,
              "#fde725"
             ]
            ],
            "type": "surface"
           }
          ],
          "table": [
           {
            "cells": {
             "fill": {
              "color": "rgb(237,237,237)"
             },
             "line": {
              "color": "white"
             }
            },
            "header": {
             "fill": {
              "color": "rgb(217,217,217)"
             },
             "line": {
              "color": "white"
             }
            },
            "type": "table"
           }
          ]
         },
         "layout": {
          "annotationdefaults": {
           "arrowhead": 0,
           "arrowwidth": 1
          },
          "autotypenumbers": "strict",
          "coloraxis": {
           "colorbar": {
            "outlinewidth": 1,
            "tickcolor": "rgb(36,36,36)",
            "ticks": "outside"
           }
          },
          "colorscale": {
           "diverging": [
            [
             0.0,
             "rgb(103,0,31)"
            ],
            [
             0.1,
             "rgb(178,24,43)"
            ],
            [
             0.2,
             "rgb(214,96,77)"
            ],
            [
             0.3,
             "rgb(244,165,130)"
            ],
            [
             0.4,
             "rgb(253,219,199)"
            ],
            [
             0.5,
             "rgb(247,247,247)"
            ],
            [
             0.6,
             "rgb(209,229,240)"
            ],
            [
             0.7,
             "rgb(146,197,222)"
            ],
            [
             0.8,
             "rgb(67,147,195)"
            ],
            [
             0.9,
             "rgb(33,102,172)"
            ],
            [
             1.0,
             "rgb(5,48,97)"
            ]
           ],
           "sequential": [
            [
             0.0,
             "#440154"
            ],
            [
             0.1111111111111111,
             "#482878"
            ],
            [
             0.2222222222222222,
             "#3e4989"
            ],
            [
             0.3333333333333333,
             "#31688e"
            ],
            [
             0.4444444444444444,
             "#26828e"
            ],
            [
             0.5555555555555556,
             "#1f9e89"
            ],
            [
             0.6666666666666666,
             "#35b779"
            ],
            [
             0.7777777777777778,
             "#6ece58"
            ],
            [
             0.8888888888888888,
             "#b5de2b"
            ],
            [
             1.0,
             "#fde725"
            ]
           ],
           "sequentialminus": [
            [
             0.0,
             "#440154"
            ],
            [
             0.1111111111111111,
             "#482878"
            ],
            [
             0.2222222222222222,
             "#3e4989"
            ],
            [
             0.3333333333333333,
             "#31688e"
            ],
            [
             0.4444444444444444,
             "#26828e"
            ],
            [
             0.5555555555555556,
             "#1f9e89"
            ],
            [
             0.6666666666666666,
             "#35b779"
            ],
            [
             0.7777777777777778,
             "#6ece58"
            ],
            [
             0.8888888888888888,
             "#b5de2b"
            ],
            [
             1.0,
             "#fde725"
            ]
           ]
          },
          "colorway": [
           "#1F77B4",
           "#FF7F0E",
           "#2CA02C",
           "#D62728",
           "#9467BD",
           "#8C564B",
           "#E377C2",
           "#7F7F7F",
           "#BCBD22",
           "#17BECF"
          ],
          "font": {
           "color": "rgb(36,36,36)"
          },
          "geo": {
           "bgcolor": "white",
           "lakecolor": "white",
           "landcolor": "white",
           "showlakes": true,
           "showland": true,
           "subunitcolor": "white"
          },
          "hoverlabel": {
           "align": "left"
          },
          "hovermode": "closest",
          "mapbox": {
           "style": "light"
          },
          "paper_bgcolor": "white",
          "plot_bgcolor": "white",
          "polar": {
           "angularaxis": {
            "gridcolor": "rgb(232,232,232)",
            "linecolor": "rgb(36,36,36)",
            "showgrid": false,
            "showline": true,
            "ticks": "outside"
           },
           "bgcolor": "white",
           "radialaxis": {
            "gridcolor": "rgb(232,232,232)",
            "linecolor": "rgb(36,36,36)",
            "showgrid": false,
            "showline": true,
            "ticks": "outside"
           }
          },
          "scene": {
           "xaxis": {
            "backgroundcolor": "white",
            "gridcolor": "rgb(232,232,232)",
            "gridwidth": 2,
            "linecolor": "rgb(36,36,36)",
            "showbackground": true,
            "showgrid": false,
            "showline": true,
            "ticks": "outside",
            "zeroline": false,
            "zerolinecolor": "rgb(36,36,36)"
           },
           "yaxis": {
            "backgroundcolor": "white",
            "gridcolor": "rgb(232,232,232)",
            "gridwidth": 2,
            "linecolor": "rgb(36,36,36)",
            "showbackground": true,
            "showgrid": false,
            "showline": true,
            "ticks": "outside",
            "zeroline": false,
            "zerolinecolor": "rgb(36,36,36)"
           },
           "zaxis": {
            "backgroundcolor": "white",
            "gridcolor": "rgb(232,232,232)",
            "gridwidth": 2,
            "linecolor": "rgb(36,36,36)",
            "showbackground": true,
            "showgrid": false,
            "showline": true,
            "ticks": "outside",
            "zeroline": false,
            "zerolinecolor": "rgb(36,36,36)"
           }
          },
          "shapedefaults": {
           "fillcolor": "black",
           "line": {
            "width": 0
           },
           "opacity": 0.3
          },
          "ternary": {
           "aaxis": {
            "gridcolor": "rgb(232,232,232)",
            "linecolor": "rgb(36,36,36)",
            "showgrid": false,
            "showline": true,
            "ticks": "outside"
           },
           "baxis": {
            "gridcolor": "rgb(232,232,232)",
            "linecolor": "rgb(36,36,36)",
            "showgrid": false,
            "showline": true,
            "ticks": "outside"
           },
           "bgcolor": "white",
           "caxis": {
            "gridcolor": "rgb(232,232,232)",
            "linecolor": "rgb(36,36,36)",
            "showgrid": false,
            "showline": true,
            "ticks": "outside"
           }
          },
          "title": {
           "x": 0.05
          },
          "xaxis": {
           "automargin": true,
           "gridcolor": "rgb(232,232,232)",
           "linecolor": "rgb(36,36,36)",
           "showgrid": false,
           "showline": true,
           "ticks": "outside",
           "title": {
            "standoff": 15
           },
           "zeroline": false,
           "zerolinecolor": "rgb(36,36,36)"
          },
          "yaxis": {
           "automargin": true,
           "gridcolor": "rgb(232,232,232)",
           "linecolor": "rgb(36,36,36)",
           "showgrid": false,
           "showline": true,
           "ticks": "outside",
           "title": {
            "standoff": 15
           },
           "zeroline": false,
           "zerolinecolor": "rgb(36,36,36)"
          }
         }
        },
        "legend": {
         "tracegroupgap": 0
        },
        "title": {
         "text": "Hierarchy Explorer"
        }
       },
       "config": {
        "plotlyServerURL": "https://plot.ly"
       }
      },
      "text/html": [
       "<div>                            <div id=\"8f223757-b3ca-466a-98f0-b26ef4414bdf\" class=\"plotly-graph-div\" style=\"height:525px; width:100%;\"></div>            <script type=\"text/javascript\">                require([\"plotly\"], function(Plotly) {                    window.PLOTLYENV=window.PLOTLYENV || {};                                    if (document.getElementById(\"8f223757-b3ca-466a-98f0-b26ef4414bdf\")) {                    Plotly.newPlot(                        \"8f223757-b3ca-466a-98f0-b26ef4414bdf\",                        [{\"branchvalues\":\"total\",\"domain\":{\"x\":[0.0,1.0],\"y\":[0.0,1.0]},\"hovertemplate\":\"labels=%{label}\\u003cbr\\u003ecount=%{value}\\u003cbr\\u003eparent=%{parent}\\u003cbr\\u003eid=%{id}\\u003cextra\\u003e\\u003c\\u002fextra\\u003e\",\"ids\":[\"Geography and places\\u002fThe World\\u002fBy continent\\u002fAfrica\",\"History and events\\u002fHistory by subject\\u002fHistory of technology\\u002fAgriculture & agricultural science\",\"Philosophy and thinking\\u002fSchools of philosophy\\u002fWestern\\u002fAnalytic philosophy\",\"History and events\\u002fHistory by subject\\u002fHistory of philosophy\\u002fAncient\",\"History and events\\u002fHistory by subject\\u002fHistory of the social sciences\\u002fAnthropology\",\"History and events\\u002fHistory by subject\\u002fArt\\u002fArchitecture\",\"History and events\\u002fHistory by subject\\u002fHistory of the natural sciences\\u002fAstronomy\",\"Society and social sciences\\u002fInfrastructure\\u002fPrivate infrastructure\\u002fAutomobiles\",\"Geography and places\\u002fNatural geographical features\\u002fLandforms\\u002fBadlands\",\"Geography and places\\u002fNatural geographical features\\u002fBodies of water\\u002fBay\",\"Geography and places\\u002fThe World\\u002fCountries and polar regions of the world\\u002fCountries of Africa\",\"Geography and places\\u002fThe World\\u002fBy economic development\\u002fDeveloped countries\",\"Geography and places\\u002fThe World\\u002fBy cultural region\\u002fEnglish-speaking world\",\"Geography and places\\u002fThe World\\u002fBy ordinal classification\\u002fFirst World\",\"Society and social sciences\\u002fInfrastructure\\u002fPublic infrastructure\\u002fHighways\",\"History and events\\u002fHistory by subject\\u002fHistory of science by era\\u002fIn early cultures\",\"History and events\\u002fHistory by subject\\u002fCultural history\\u002fMoney\",\"Philosophy and thinking\\u002fSchools of philosophy\\u002fEastern\\u002fM\\u012bm\\u0101\\u1e43s\\u0101\",\"Geography and places\\u002fThe World\\u002fBy hemisphere\\u002fNew World\",\"History and events\\u002fHistory by subject\\u002fHistory of science\\u002fTheories\\u002fSociology\",\"History and events\\u002fHistory by subject\\u002fHistory of war\\u002fWars of Alexander the Great\",\"Society and social sciences\\u002fEducation\\u002fAcademia\",\"Society and social sciences\\u002fSociocultural evolution\\u002fAccelerating change\",\"Philosophy and thinking\\u002fQualities of thought\\u002fAccuracy\",\"Religion and belief systems\\u002fBelief Systems\\u002fAcosmism\",\"People and self\\u002fPeople\\u002fAdult\",\"People and self\\u002fPersonal life\\u002fAdventure\",\"Philosophy and thinking\\u002fBranches of philosophy\\u002fAesthetics\",\"Health and fitness\\u002fIllness\\u002fAging\",\"Geography and places\\u002fManmade geographical features\\u002fAirport\",\"Mathematics and logic\\u002fMathematics\\u002fAlgebra\",\"Natural and physical sciences\\u002fChemistry\\u002fAnalytical chemistry\",\"Natural and physical sciences\\u002fBiology\\u002fAnatomy (Human anatomy)\",\"History and events\\u002fHistory by region\\u002fAncient Egypt\",\"Health and fitness\\u002fHuman medicine\\u002fAnesthesiology\",\"Culture and the arts\\u002fVisual arts\\u002fAnimation\",\"Religion and belief systems\\u002fMajor beliefs of the world\\u002fAntireligion\",\"Human activities\\u002fScience\\u002fApplied science\",\"History and events\\u002fHistory by subject\\u002fArt\",\"Culture and the arts\\u002fArt and The arts\\u002fArt galleries\",\"Human activities\\u002fHuman activity\\u002fArts\",\"Culture and the arts\\u002fSports\\u002fAssociation football (Soccer)\",\"Geography and places\\u002fGeography\\u002fAtlas\",\"Natural and physical sciences\\u002fMatter\\u002fAtom\",\"Philosophy and thinking\\u002fThinking\\u002fAwareness\",\"Culture and the arts\\u002fCard games\\u002fBaccarat\",\"Culture and the arts\\u002fBoard games\\u002fBackgammon\",\"Philosophy and thinking\\u002fPhilosophy\\u002fBeing\",\"Human activities\\u002fHuman impact on the environment\\u002fBiodiversity loss\",\"People and self\\u002fPerson\\u002fBiography\",\"Geography and places\\u002fNatural geographical features\\u002fBodies of water\",\"Health and fitness\\u002fSelf-care\\u002fBody composition\",\"Human activities\\u002fTelecommunicating\\u002fBroadcasting (Radio broadcasting, Television broadcasting)\",\"Human activities\\u002fBusiness\\u002fBusiness administration\",\"Geography and places\\u002fThe World\\u002fBy continent\",\"Geography and places\\u002fThe World\\u002fBy cultural region\",\"Geography and places\\u002fThe World\\u002fBy economic development\",\"Geography and places\\u002fThe World\\u002fBy hemisphere\",\"Geography and places\\u002fThe World\\u002fBy ordinal classification\",\"Health and fitness\\u002fNutrition\\u002fCalorie restriction\",\"Human activities\\u002fImpact of human activity\\u002fCars, effects on society\",\"Culture and the arts\\u002fCulture and Humanities\\u002fCelebrities\",\"Health and fitness\\u002fHygiene\\u002fCleanliness\",\"Philosophy and thinking\\u002fThinking errors\\u002fCognitive bias\",\"Culture and the arts\\u002fPerforming arts\\u002fComedy (Humour)\",\"Society and social sciences\\u002fSociety\\u002fCommons\",\"Society and social sciences\\u002fSocial network\\u002fCommunication\",\"Society and social sciences\\u002fCommunity\\u002fCommunitarianism\",\"Culture and the arts\\u002fGames and Toys\\u002fComputer and video games\",\"Human activities\\u002fCommunicating\\u002fConversing\",\"Culture and the arts\\u002fEntertainment and Recreation\\u002fCooking\",\"Geography and places\\u002fThe World\\u002fCountries and polar regions of the world\",\"Society and social sciences\\u002fLaw\\u002fCriminal justice\",\"History and events\\u002fHistory by subject\\u002fCultural history\",\"Philosophy and thinking\\u002fSubdisciplines of philosophy\\u002fCulture\",\"Society and social sciences\\u002fFamily\\u002fDaughter\",\"Society and social sciences\\u002fSocial development\\u002fDecadence\",\"Health and fitness\\u002fHealth science\\u002fDentistry\",\"Geography and places\\u002fMain articles\\u002fEarth\",\"Natural and physical sciences\\u002fPhysical sciences\\u002fEarth science\",\"Philosophy and thinking\\u002fSchools of philosophy\\u002fEastern\",\"Philosophy and thinking\\u002fBy region\\u002fEastern philosophy\",\"Society and social sciences\\u002fEconomy and Business\\u002fFinance\",\"Human activities\\u002fAgriculture\\u002fFisheries management\",\"Philosophy and thinking\\u002fRelated\\u002fGenius\",\"Health and fitness\\u002fMain articles\\u002fHealth\",\"Health and fitness\\u002fGeneral\\u002fHealth care\",\"History and events\\u002fHistory by subject\\u002fHistory of philosophy\",\"History and events\\u002fHistory by subject\\u002fHistory of science\",\"History and events\\u002fHistory by subject\\u002fHistory of science by era\",\"History and events\\u002fHistory by subject\\u002fHistory of technology\",\"History and events\\u002fHistory by subject\\u002fHistory of the natural sciences\",\"History and events\\u002fHistory by subject\\u002fHistory of the social sciences\",\"History and events\\u002fHistory by subject\\u002fHistory of war\",\"Mathematics and logic\\u002fFormal sciences\\u002fInformation theory\",\"Culture and the arts\\u002fMass media\\u002fInternet (Blogosphere, Podcasts, and Websites)\",\"Geography and places\\u002fNatural geographical features\\u002fLandforms\",\"Health and fitness\\u002fMedicine\\u002fMidwifery\",\"Natural and physical sciences\\u002fMain articles\\u002fNatural science\",\"History and events\\u002fMain articles\\u002fNews\",\"Natural and physical sciences\\u002fAstronomy\\u002fOptical astronomy\",\"Society and social sciences\\u002fSocial institutions\\u002fOrganization\",\"Geography and places\\u002fBranches of Geography\\u002fPhysical geography\",\"Natural and physical sciences\\u002fAstronomical object\\u002fPlanet\",\"Culture and the arts\\u002fLiterature\\u002fPoetry\",\"Society and social sciences\\u002fGovernment and Politics\\u002fPolitics by country\",\"History and events\\u002fList of time periods\\u002fPrehistory\",\"Society and social sciences\\u002fInfrastructure\\u002fPrivate infrastructure\",\"Society and social sciences\\u002fInfrastructure\\u002fPublic infrastructure\",\"Religion and belief systems\\u002fMain article\\u002fReligion\",\"Society and social sciences\\u002fMain articles\\u002fSocial sciences\",\"History and events\\u002fThe Ages of history\\u002fStone Age\",\"Health and fitness\\u002fPhysical exercise\\u002fStretching\",\"Philosophy and thinking\\u002fSchools of philosophy\\u002fWestern\",\"Human activities\\u002fAgriculture\",\"Culture and the arts\\u002fArt and The arts\",\"Natural and physical sciences\\u002fAstronomical object\",\"Natural and physical sciences\\u002fAstronomy\",\"Religion and belief systems\\u002fBelief Systems\",\"Natural and physical sciences\\u002fBiology\",\"Culture and the arts\\u002fBoard games\",\"Geography and places\\u002fBranches of Geography\",\"Philosophy and thinking\\u002fBranches of philosophy\",\"Human activities\\u002fBusiness\",\"Philosophy and thinking\\u002fBy region\",\"Culture and the arts\\u002fCard games\",\"Natural and physical sciences\\u002fChemistry\",\"Human activities\\u002fCommunicating\",\"Society and social sciences\\u002fCommunity\",\"Culture and the arts\\u002fCulture and Humanities\",\"Society and social sciences\\u002fEconomy and Business\",\"Society and social sciences\\u002fEducation\",\"Culture and the arts\\u002fEntertainment and Recreation\",\"Society and social sciences\\u002fFamily\",\"Mathematics and logic\\u002fFormal sciences\",\"Culture and the arts\\u002fGames and Toys\",\"Health and fitness\\u002fGeneral\",\"Geography and places\\u002fGeography\",\"Society and social sciences\\u002fGovernment and Politics\",\"Health and fitness\\u002fHealth science\",\"History and events\\u002fHistory by region\",\"History and events\\u002fHistory by subject\",\"Human activities\\u002fHuman activity\",\"Human activities\\u002fHuman impact on the environment\",\"Health and fitness\\u002fHuman medicine\",\"Health and fitness\\u002fHygiene\",\"Health and fitness\\u002fIllness\",\"Human activities\\u002fImpact of human activity\",\"Society and social sciences\\u002fInfrastructure\",\"Society and social sciences\\u002fLaw\",\"History and events\\u002fList of time periods\",\"Culture and the arts\\u002fLiterature\",\"Religion and belief systems\\u002fMain article\",\"Geography and places\\u002fMain articles\",\"Health and fitness\\u002fMain articles\",\"History and events\\u002fMain articles\",\"Natural and physical sciences\\u002fMain articles\",\"Society and social sciences\\u002fMain articles\",\"Religion and belief systems\\u002fMajor beliefs of the world\",\"Geography and places\\u002fManmade geographical features\",\"Culture and the arts\\u002fMass media\",\"Mathematics and logic\\u002fMathematics\",\"Natural and physical sciences\\u002fMatter\",\"Health and fitness\\u002fMedicine\",\"Geography and places\\u002fNatural geographical features\",\"Health and fitness\\u002fNutrition\",\"People and self\\u002fPeople\",\"Culture and the arts\\u002fPerforming arts\",\"People and self\\u002fPerson\",\"People and self\\u002fPersonal life\",\"Philosophy and thinking\\u002fPhilosophy\",\"Health and fitness\\u002fPhysical exercise\",\"Natural and physical sciences\\u002fPhysical sciences\",\"Philosophy and thinking\\u002fQualities of thought\",\"Philosophy and thinking\\u002fRelated\",\"Philosophy and thinking\\u002fSchools of philosophy\",\"Human activities\\u002fScience\",\"Health and fitness\\u002fSelf-care\",\"Society and social sciences\\u002fSocial development\",\"Society and social sciences\\u002fSocial institutions\",\"Society and social sciences\\u002fSocial network\",\"Society and social sciences\\u002fSociety\",\"Society and social sciences\\u002fSociocultural evolution\",\"Culture and the arts\\u002fSports\",\"Philosophy and thinking\\u002fSubdisciplines of philosophy\",\"Human activities\\u002fTelecommunicating\",\"History and events\\u002fThe Ages of history\",\"Geography and places\\u002fThe World\",\"Philosophy and thinking\\u002fThinking\",\"Philosophy and thinking\\u002fThinking errors\",\"Culture and the arts\\u002fVisual arts\",\"Culture and the arts\",\"Geography and places\",\"Health and fitness\",\"History and events\",\"Human activities\",\"Mathematics and logic\",\"Natural and physical sciences\",\"People and self\",\"Philosophy and thinking\",\"Religion and belief systems\",\"Society and social sciences\"],\"labels\":[\"Africa\",\"Agriculture & agricultural science\",\"Analytic philosophy\",\"Ancient\",\"Anthropology\",\"Architecture\",\"Astronomy\",\"Automobiles\",\"Badlands\",\"Bay\",\"Countries of Africa\",\"Developed countries\",\"English-speaking world\",\"First World\",\"Highways\",\"In early cultures\",\"Money\",\"M\\u012bm\\u0101\\u1e43s\\u0101\",\"New World\",\"Theories\\u002fSociology\",\"Wars of Alexander the Great\",\"Academia\",\"Accelerating change\",\"Accuracy\",\"Acosmism\",\"Adult\",\"Adventure\",\"Aesthetics\",\"Aging\",\"Airport\",\"Algebra\",\"Analytical chemistry\",\"Anatomy (Human anatomy)\",\"Ancient Egypt\",\"Anesthesiology\",\"Animation\",\"Antireligion\",\"Applied science\",\"Art\",\"Art galleries\",\"Arts\",\"Association football (Soccer)\",\"Atlas\",\"Atom\",\"Awareness\",\"Baccarat\",\"Backgammon\",\"Being\",\"Biodiversity loss\",\"Biography\",\"Bodies of water\",\"Body composition\",\"Broadcasting (Radio broadcasting, Television broadcasting)\",\"Business administration\",\"By continent\",\"By cultural region\",\"By economic development\",\"By hemisphere\",\"By ordinal classification\",\"Calorie restriction\",\"Cars, effects on society\",\"Celebrities\",\"Cleanliness\",\"Cognitive bias\",\"Comedy (Humour)\",\"Commons\",\"Communication\",\"Communitarianism\",\"Computer and video games\",\"Conversing\",\"Cooking\",\"Countries and polar regions of the world\",\"Criminal justice\",\"Cultural history\",\"Culture\",\"Daughter\",\"Decadence\",\"Dentistry\",\"Earth\",\"Earth science\",\"Eastern\",\"Eastern philosophy\",\"Finance\",\"Fisheries management\",\"Genius\",\"Health\",\"Health care\",\"History of philosophy\",\"History of science\",\"History of science by era\",\"History of technology\",\"History of the natural sciences\",\"History of the social sciences\",\"History of war\",\"Information theory\",\"Internet (Blogosphere, Podcasts, and Websites)\",\"Landforms\",\"Midwifery\",\"Natural science\",\"News\",\"Optical astronomy\",\"Organization\",\"Physical geography\",\"Planet\",\"Poetry\",\"Politics by country\",\"Prehistory\",\"Private infrastructure\",\"Public infrastructure\",\"Religion\",\"Social sciences\",\"Stone Age\",\"Stretching\",\"Western\",\"Agriculture\",\"Art and The arts\",\"Astronomical object\",\"Astronomy\",\"Belief Systems\",\"Biology\",\"Board games\",\"Branches of Geography\",\"Branches of philosophy\",\"Business\",\"By region\",\"Card games\",\"Chemistry\",\"Communicating\",\"Community\",\"Culture and Humanities\",\"Economy and Business\",\"Education\",\"Entertainment and Recreation\",\"Family\",\"Formal sciences\",\"Games and Toys\",\"General\",\"Geography\",\"Government and Politics\",\"Health science\",\"History by region\",\"History by subject\",\"Human activity\",\"Human impact on the environment\",\"Human medicine\",\"Hygiene\",\"Illness\",\"Impact of human activity\",\"Infrastructure\",\"Law\",\"List of time periods\",\"Literature\",\"Main article\",\"Main articles\",\"Main articles\",\"Main articles\",\"Main articles\",\"Main articles\",\"Major beliefs of the world\",\"Manmade geographical features\",\"Mass media\",\"Mathematics\",\"Matter\",\"Medicine\",\"Natural geographical features\",\"Nutrition\",\"People\",\"Performing arts\",\"Person\",\"Personal life\",\"Philosophy\",\"Physical exercise\",\"Physical sciences\",\"Qualities of thought\",\"Related\",\"Schools of philosophy\",\"Science\",\"Self-care\",\"Social development\",\"Social institutions\",\"Social network\",\"Society\",\"Sociocultural evolution\",\"Sports\",\"Subdisciplines of philosophy\",\"Telecommunicating\",\"The Ages of history\",\"The World\",\"Thinking\",\"Thinking errors\",\"Visual arts\",\"Culture and the arts\",\"Geography and places\",\"Health and fitness\",\"History and events\",\"Human activities\",\"Mathematics and logic\",\"Natural and physical sciences\",\"People and self\",\"Philosophy and thinking\",\"Religion and belief systems\",\"Society and social sciences\"],\"name\":\"\",\"parents\":[\"Geography and places\\u002fThe World\\u002fBy continent\",\"History and events\\u002fHistory by subject\\u002fHistory of technology\",\"Philosophy and thinking\\u002fSchools of philosophy\\u002fWestern\",\"History and events\\u002fHistory by subject\\u002fHistory of philosophy\",\"History and events\\u002fHistory by subject\\u002fHistory of the social sciences\",\"History and events\\u002fHistory by subject\\u002fArt\",\"History and events\\u002fHistory by subject\\u002fHistory of the natural sciences\",\"Society and social sciences\\u002fInfrastructure\\u002fPrivate infrastructure\",\"Geography and places\\u002fNatural geographical features\\u002fLandforms\",\"Geography and places\\u002fNatural geographical features\\u002fBodies of water\",\"Geography and places\\u002fThe World\\u002fCountries and polar regions of the world\",\"Geography and places\\u002fThe World\\u002fBy economic development\",\"Geography and places\\u002fThe World\\u002fBy cultural region\",\"Geography and places\\u002fThe World\\u002fBy ordinal classification\",\"Society and social sciences\\u002fInfrastructure\\u002fPublic infrastructure\",\"History and events\\u002fHistory by subject\\u002fHistory of science by era\",\"History and events\\u002fHistory by subject\\u002fCultural history\",\"Philosophy and thinking\\u002fSchools of philosophy\\u002fEastern\",\"Geography and places\\u002fThe World\\u002fBy hemisphere\",\"History and events\\u002fHistory by subject\\u002fHistory of science\",\"History and events\\u002fHistory by subject\\u002fHistory of war\",\"Society and social sciences\\u002fEducation\",\"Society and social sciences\\u002fSociocultural evolution\",\"Philosophy and thinking\\u002fQualities of thought\",\"Religion and belief systems\\u002fBelief Systems\",\"People and self\\u002fPeople\",\"People and self\\u002fPersonal life\",\"Philosophy and thinking\\u002fBranches of philosophy\",\"Health and fitness\\u002fIllness\",\"Geography and places\\u002fManmade geographical features\",\"Mathematics and logic\\u002fMathematics\",\"Natural and physical sciences\\u002fChemistry\",\"Natural and physical sciences\\u002fBiology\",\"History and events\\u002fHistory by region\",\"Health and fitness\\u002fHuman medicine\",\"Culture and the arts\\u002fVisual arts\",\"Religion and belief systems\\u002fMajor beliefs of the world\",\"Human activities\\u002fScience\",\"History and events\\u002fHistory by subject\",\"Culture and the arts\\u002fArt and The arts\",\"Human activities\\u002fHuman activity\",\"Culture and the arts\\u002fSports\",\"Geography and places\\u002fGeography\",\"Natural and physical sciences\\u002fMatter\",\"Philosophy and thinking\\u002fThinking\",\"Culture and the arts\\u002fCard games\",\"Culture and the arts\\u002fBoard games\",\"Philosophy and thinking\\u002fPhilosophy\",\"Human activities\\u002fHuman impact on the environment\",\"People and self\\u002fPerson\",\"Geography and places\\u002fNatural geographical features\",\"Health and fitness\\u002fSelf-care\",\"Human activities\\u002fTelecommunicating\",\"Human activities\\u002fBusiness\",\"Geography and places\\u002fThe World\",\"Geography and places\\u002fThe World\",\"Geography and places\\u002fThe World\",\"Geography and places\\u002fThe World\",\"Geography and places\\u002fThe World\",\"Health and fitness\\u002fNutrition\",\"Human activities\\u002fImpact of human activity\",\"Culture and the arts\\u002fCulture and Humanities\",\"Health and fitness\\u002fHygiene\",\"Philosophy and thinking\\u002fThinking errors\",\"Culture and the arts\\u002fPerforming arts\",\"Society and social sciences\\u002fSociety\",\"Society and social sciences\\u002fSocial network\",\"Society and social sciences\\u002fCommunity\",\"Culture and the arts\\u002fGames and Toys\",\"Human activities\\u002fCommunicating\",\"Culture and the arts\\u002fEntertainment and Recreation\",\"Geography and places\\u002fThe World\",\"Society and social sciences\\u002fLaw\",\"History and events\\u002fHistory by subject\",\"Philosophy and thinking\\u002fSubdisciplines of philosophy\",\"Society and social sciences\\u002fFamily\",\"Society and social sciences\\u002fSocial development\",\"Health and fitness\\u002fHealth science\",\"Geography and places\\u002fMain articles\",\"Natural and physical sciences\\u002fPhysical sciences\",\"Philosophy and thinking\\u002fSchools of philosophy\",\"Philosophy and thinking\\u002fBy region\",\"Society and social sciences\\u002fEconomy and Business\",\"Human activities\\u002fAgriculture\",\"Philosophy and thinking\\u002fRelated\",\"Health and fitness\\u002fMain articles\",\"Health and fitness\\u002fGeneral\",\"History and events\\u002fHistory by subject\",\"History and events\\u002fHistory by subject\",\"History and events\\u002fHistory by subject\",\"History and events\\u002fHistory by subject\",\"History and events\\u002fHistory by subject\",\"History and events\\u002fHistory by subject\",\"History and events\\u002fHistory by subject\",\"Mathematics and logic\\u002fFormal sciences\",\"Culture and the arts\\u002fMass media\",\"Geography and places\\u002fNatural geographical features\",\"Health and fitness\\u002fMedicine\",\"Natural and physical sciences\\u002fMain articles\",\"History and events\\u002fMain articles\",\"Natural and physical sciences\\u002fAstronomy\",\"Society and social sciences\\u002fSocial institutions\",\"Geography and places\\u002fBranches of Geography\",\"Natural and physical sciences\\u002fAstronomical object\",\"Culture and the arts\\u002fLiterature\",\"Society and social sciences\\u002fGovernment and Politics\",\"History and events\\u002fList of time periods\",\"Society and social sciences\\u002fInfrastructure\",\"Society and social sciences\\u002fInfrastructure\",\"Religion and belief systems\\u002fMain article\",\"Society and social sciences\\u002fMain articles\",\"History and events\\u002fThe Ages of history\",\"Health and fitness\\u002fPhysical exercise\",\"Philosophy and thinking\\u002fSchools of philosophy\",\"Human activities\",\"Culture and the arts\",\"Natural and physical sciences\",\"Natural and physical sciences\",\"Religion and belief systems\",\"Natural and physical sciences\",\"Culture and the arts\",\"Geography and places\",\"Philosophy and thinking\",\"Human activities\",\"Philosophy and thinking\",\"Culture and the arts\",\"Natural and physical sciences\",\"Human activities\",\"Society and social sciences\",\"Culture and the arts\",\"Society and social sciences\",\"Society and social sciences\",\"Culture and the arts\",\"Society and social sciences\",\"Mathematics and logic\",\"Culture and the arts\",\"Health and fitness\",\"Geography and places\",\"Society and social sciences\",\"Health and fitness\",\"History and events\",\"History and events\",\"Human activities\",\"Human activities\",\"Health and fitness\",\"Health and fitness\",\"Health and fitness\",\"Human activities\",\"Society and social sciences\",\"Society and social sciences\",\"History and events\",\"Culture and the arts\",\"Religion and belief systems\",\"Geography and places\",\"Health and fitness\",\"History and events\",\"Natural and physical sciences\",\"Society and social sciences\",\"Religion and belief systems\",\"Geography and places\",\"Culture and the arts\",\"Mathematics and logic\",\"Natural and physical sciences\",\"Health and fitness\",\"Geography and places\",\"Health and fitness\",\"People and self\",\"Culture and the arts\",\"People and self\",\"People and self\",\"Philosophy and thinking\",\"Health and fitness\",\"Natural and physical sciences\",\"Philosophy and thinking\",\"Philosophy and thinking\",\"Philosophy and thinking\",\"Human activities\",\"Health and fitness\",\"Society and social sciences\",\"Society and social sciences\",\"Society and social sciences\",\"Society and social sciences\",\"Society and social sciences\",\"Culture and the arts\",\"Philosophy and thinking\",\"Human activities\",\"History and events\",\"Geography and places\",\"Philosophy and thinking\",\"Philosophy and thinking\",\"Culture and the arts\",\"\",\"\",\"\",\"\",\"\",\"\",\"\",\"\",\"\",\"\",\"\"],\"values\":[1,1,1,1,1,1,1,1,1,1,1,1,1,1,1,1,1,1,1,1,1,1,1,1,1,1,1,1,1,1,1,1,1,1,1,1,1,1,1,1,1,1,1,1,1,1,1,1,1,1,1,1,1,1,1,1,1,1,1,1,1,1,1,1,1,1,1,1,1,1,1,1,1,1,1,1,1,1,1,1,1,1,1,1,1,1,1,1,1,1,1,1,1,1,1,1,1,1,1,1,1,1,1,1,1,1,1,1,1,1,1,1,1,1,1,1,1,1,1,1,1,1,1,1,1,1,1,1,1,1,1,1,1,1,1,1,1,1,1,1,1,9,1,1,1,1,1,1,2,1,1,1,1,1,1,1,1,1,1,1,1,1,1,1,2,1,1,1,1,1,1,1,1,1,1,2,1,1,1,1,1,1,1,1,1,1,1,6,1,1,1,11,12,10,13,8,2,7,3,10,3,14],\"type\":\"treemap\"}],                        {\"template\":{\"data\":{\"barpolar\":[{\"marker\":{\"line\":{\"color\":\"white\",\"width\":0.5},\"pattern\":{\"fillmode\":\"overlay\",\"size\":10,\"solidity\":0.2}},\"type\":\"barpolar\"}],\"bar\":[{\"error_x\":{\"color\":\"rgb(36,36,36)\"},\"error_y\":{\"color\":\"rgb(36,36,36)\"},\"marker\":{\"line\":{\"color\":\"white\",\"width\":0.5},\"pattern\":{\"fillmode\":\"overlay\",\"size\":10,\"solidity\":0.2}},\"type\":\"bar\"}],\"carpet\":[{\"aaxis\":{\"endlinecolor\":\"rgb(36,36,36)\",\"gridcolor\":\"white\",\"linecolor\":\"white\",\"minorgridcolor\":\"white\",\"startlinecolor\":\"rgb(36,36,36)\"},\"baxis\":{\"endlinecolor\":\"rgb(36,36,36)\",\"gridcolor\":\"white\",\"linecolor\":\"white\",\"minorgridcolor\":\"white\",\"startlinecolor\":\"rgb(36,36,36)\"},\"type\":\"carpet\"}],\"choropleth\":[{\"colorbar\":{\"outlinewidth\":1,\"tickcolor\":\"rgb(36,36,36)\",\"ticks\":\"outside\"},\"type\":\"choropleth\"}],\"contourcarpet\":[{\"colorbar\":{\"outlinewidth\":1,\"tickcolor\":\"rgb(36,36,36)\",\"ticks\":\"outside\"},\"type\":\"contourcarpet\"}],\"contour\":[{\"colorbar\":{\"outlinewidth\":1,\"tickcolor\":\"rgb(36,36,36)\",\"ticks\":\"outside\"},\"colorscale\":[[0.0,\"#440154\"],[0.1111111111111111,\"#482878\"],[0.2222222222222222,\"#3e4989\"],[0.3333333333333333,\"#31688e\"],[0.4444444444444444,\"#26828e\"],[0.5555555555555556,\"#1f9e89\"],[0.6666666666666666,\"#35b779\"],[0.7777777777777778,\"#6ece58\"],[0.8888888888888888,\"#b5de2b\"],[1.0,\"#fde725\"]],\"type\":\"contour\"}],\"heatmapgl\":[{\"colorbar\":{\"outlinewidth\":1,\"tickcolor\":\"rgb(36,36,36)\",\"ticks\":\"outside\"},\"colorscale\":[[0.0,\"#440154\"],[0.1111111111111111,\"#482878\"],[0.2222222222222222,\"#3e4989\"],[0.3333333333333333,\"#31688e\"],[0.4444444444444444,\"#26828e\"],[0.5555555555555556,\"#1f9e89\"],[0.6666666666666666,\"#35b779\"],[0.7777777777777778,\"#6ece58\"],[0.8888888888888888,\"#b5de2b\"],[1.0,\"#fde725\"]],\"type\":\"heatmapgl\"}],\"heatmap\":[{\"colorbar\":{\"outlinewidth\":1,\"tickcolor\":\"rgb(36,36,36)\",\"ticks\":\"outside\"},\"colorscale\":[[0.0,\"#440154\"],[0.1111111111111111,\"#482878\"],[0.2222222222222222,\"#3e4989\"],[0.3333333333333333,\"#31688e\"],[0.4444444444444444,\"#26828e\"],[0.5555555555555556,\"#1f9e89\"],[0.6666666666666666,\"#35b779\"],[0.7777777777777778,\"#6ece58\"],[0.8888888888888888,\"#b5de2b\"],[1.0,\"#fde725\"]],\"type\":\"heatmap\"}],\"histogram2dcontour\":[{\"colorbar\":{\"outlinewidth\":1,\"tickcolor\":\"rgb(36,36,36)\",\"ticks\":\"outside\"},\"colorscale\":[[0.0,\"#440154\"],[0.1111111111111111,\"#482878\"],[0.2222222222222222,\"#3e4989\"],[0.3333333333333333,\"#31688e\"],[0.4444444444444444,\"#26828e\"],[0.5555555555555556,\"#1f9e89\"],[0.6666666666666666,\"#35b779\"],[0.7777777777777778,\"#6ece58\"],[0.8888888888888888,\"#b5de2b\"],[1.0,\"#fde725\"]],\"type\":\"histogram2dcontour\"}],\"histogram2d\":[{\"colorbar\":{\"outlinewidth\":1,\"tickcolor\":\"rgb(36,36,36)\",\"ticks\":\"outside\"},\"colorscale\":[[0.0,\"#440154\"],[0.1111111111111111,\"#482878\"],[0.2222222222222222,\"#3e4989\"],[0.3333333333333333,\"#31688e\"],[0.4444444444444444,\"#26828e\"],[0.5555555555555556,\"#1f9e89\"],[0.6666666666666666,\"#35b779\"],[0.7777777777777778,\"#6ece58\"],[0.8888888888888888,\"#b5de2b\"],[1.0,\"#fde725\"]],\"type\":\"histogram2d\"}],\"histogram\":[{\"marker\":{\"line\":{\"color\":\"white\",\"width\":0.6}},\"type\":\"histogram\"}],\"mesh3d\":[{\"colorbar\":{\"outlinewidth\":1,\"tickcolor\":\"rgb(36,36,36)\",\"ticks\":\"outside\"},\"type\":\"mesh3d\"}],\"parcoords\":[{\"line\":{\"colorbar\":{\"outlinewidth\":1,\"tickcolor\":\"rgb(36,36,36)\",\"ticks\":\"outside\"}},\"type\":\"parcoords\"}],\"pie\":[{\"automargin\":true,\"type\":\"pie\"}],\"scatter3d\":[{\"line\":{\"colorbar\":{\"outlinewidth\":1,\"tickcolor\":\"rgb(36,36,36)\",\"ticks\":\"outside\"}},\"marker\":{\"colorbar\":{\"outlinewidth\":1,\"tickcolor\":\"rgb(36,36,36)\",\"ticks\":\"outside\"}},\"type\":\"scatter3d\"}],\"scattercarpet\":[{\"marker\":{\"colorbar\":{\"outlinewidth\":1,\"tickcolor\":\"rgb(36,36,36)\",\"ticks\":\"outside\"}},\"type\":\"scattercarpet\"}],\"scattergeo\":[{\"marker\":{\"colorbar\":{\"outlinewidth\":1,\"tickcolor\":\"rgb(36,36,36)\",\"ticks\":\"outside\"}},\"type\":\"scattergeo\"}],\"scattergl\":[{\"marker\":{\"colorbar\":{\"outlinewidth\":1,\"tickcolor\":\"rgb(36,36,36)\",\"ticks\":\"outside\"}},\"type\":\"scattergl\"}],\"scattermapbox\":[{\"marker\":{\"colorbar\":{\"outlinewidth\":1,\"tickcolor\":\"rgb(36,36,36)\",\"ticks\":\"outside\"}},\"type\":\"scattermapbox\"}],\"scatterpolargl\":[{\"marker\":{\"colorbar\":{\"outlinewidth\":1,\"tickcolor\":\"rgb(36,36,36)\",\"ticks\":\"outside\"}},\"type\":\"scatterpolargl\"}],\"scatterpolar\":[{\"marker\":{\"colorbar\":{\"outlinewidth\":1,\"tickcolor\":\"rgb(36,36,36)\",\"ticks\":\"outside\"}},\"type\":\"scatterpolar\"}],\"scatter\":[{\"fillpattern\":{\"fillmode\":\"overlay\",\"size\":10,\"solidity\":0.2},\"type\":\"scatter\"}],\"scatterternary\":[{\"marker\":{\"colorbar\":{\"outlinewidth\":1,\"tickcolor\":\"rgb(36,36,36)\",\"ticks\":\"outside\"}},\"type\":\"scatterternary\"}],\"surface\":[{\"colorbar\":{\"outlinewidth\":1,\"tickcolor\":\"rgb(36,36,36)\",\"ticks\":\"outside\"},\"colorscale\":[[0.0,\"#440154\"],[0.1111111111111111,\"#482878\"],[0.2222222222222222,\"#3e4989\"],[0.3333333333333333,\"#31688e\"],[0.4444444444444444,\"#26828e\"],[0.5555555555555556,\"#1f9e89\"],[0.6666666666666666,\"#35b779\"],[0.7777777777777778,\"#6ece58\"],[0.8888888888888888,\"#b5de2b\"],[1.0,\"#fde725\"]],\"type\":\"surface\"}],\"table\":[{\"cells\":{\"fill\":{\"color\":\"rgb(237,237,237)\"},\"line\":{\"color\":\"white\"}},\"header\":{\"fill\":{\"color\":\"rgb(217,217,217)\"},\"line\":{\"color\":\"white\"}},\"type\":\"table\"}]},\"layout\":{\"annotationdefaults\":{\"arrowhead\":0,\"arrowwidth\":1},\"autotypenumbers\":\"strict\",\"coloraxis\":{\"colorbar\":{\"outlinewidth\":1,\"tickcolor\":\"rgb(36,36,36)\",\"ticks\":\"outside\"}},\"colorscale\":{\"diverging\":[[0.0,\"rgb(103,0,31)\"],[0.1,\"rgb(178,24,43)\"],[0.2,\"rgb(214,96,77)\"],[0.3,\"rgb(244,165,130)\"],[0.4,\"rgb(253,219,199)\"],[0.5,\"rgb(247,247,247)\"],[0.6,\"rgb(209,229,240)\"],[0.7,\"rgb(146,197,222)\"],[0.8,\"rgb(67,147,195)\"],[0.9,\"rgb(33,102,172)\"],[1.0,\"rgb(5,48,97)\"]],\"sequential\":[[0.0,\"#440154\"],[0.1111111111111111,\"#482878\"],[0.2222222222222222,\"#3e4989\"],[0.3333333333333333,\"#31688e\"],[0.4444444444444444,\"#26828e\"],[0.5555555555555556,\"#1f9e89\"],[0.6666666666666666,\"#35b779\"],[0.7777777777777778,\"#6ece58\"],[0.8888888888888888,\"#b5de2b\"],[1.0,\"#fde725\"]],\"sequentialminus\":[[0.0,\"#440154\"],[0.1111111111111111,\"#482878\"],[0.2222222222222222,\"#3e4989\"],[0.3333333333333333,\"#31688e\"],[0.4444444444444444,\"#26828e\"],[0.5555555555555556,\"#1f9e89\"],[0.6666666666666666,\"#35b779\"],[0.7777777777777778,\"#6ece58\"],[0.8888888888888888,\"#b5de2b\"],[1.0,\"#fde725\"]]},\"colorway\":[\"#1F77B4\",\"#FF7F0E\",\"#2CA02C\",\"#D62728\",\"#9467BD\",\"#8C564B\",\"#E377C2\",\"#7F7F7F\",\"#BCBD22\",\"#17BECF\"],\"font\":{\"color\":\"rgb(36,36,36)\"},\"geo\":{\"bgcolor\":\"white\",\"lakecolor\":\"white\",\"landcolor\":\"white\",\"showlakes\":true,\"showland\":true,\"subunitcolor\":\"white\"},\"hoverlabel\":{\"align\":\"left\"},\"hovermode\":\"closest\",\"mapbox\":{\"style\":\"light\"},\"paper_bgcolor\":\"white\",\"plot_bgcolor\":\"white\",\"polar\":{\"angularaxis\":{\"gridcolor\":\"rgb(232,232,232)\",\"linecolor\":\"rgb(36,36,36)\",\"showgrid\":false,\"showline\":true,\"ticks\":\"outside\"},\"bgcolor\":\"white\",\"radialaxis\":{\"gridcolor\":\"rgb(232,232,232)\",\"linecolor\":\"rgb(36,36,36)\",\"showgrid\":false,\"showline\":true,\"ticks\":\"outside\"}},\"scene\":{\"xaxis\":{\"backgroundcolor\":\"white\",\"gridcolor\":\"rgb(232,232,232)\",\"gridwidth\":2,\"linecolor\":\"rgb(36,36,36)\",\"showbackground\":true,\"showgrid\":false,\"showline\":true,\"ticks\":\"outside\",\"zeroline\":false,\"zerolinecolor\":\"rgb(36,36,36)\"},\"yaxis\":{\"backgroundcolor\":\"white\",\"gridcolor\":\"rgb(232,232,232)\",\"gridwidth\":2,\"linecolor\":\"rgb(36,36,36)\",\"showbackground\":true,\"showgrid\":false,\"showline\":true,\"ticks\":\"outside\",\"zeroline\":false,\"zerolinecolor\":\"rgb(36,36,36)\"},\"zaxis\":{\"backgroundcolor\":\"white\",\"gridcolor\":\"rgb(232,232,232)\",\"gridwidth\":2,\"linecolor\":\"rgb(36,36,36)\",\"showbackground\":true,\"showgrid\":false,\"showline\":true,\"ticks\":\"outside\",\"zeroline\":false,\"zerolinecolor\":\"rgb(36,36,36)\"}},\"shapedefaults\":{\"fillcolor\":\"black\",\"line\":{\"width\":0},\"opacity\":0.3},\"ternary\":{\"aaxis\":{\"gridcolor\":\"rgb(232,232,232)\",\"linecolor\":\"rgb(36,36,36)\",\"showgrid\":false,\"showline\":true,\"ticks\":\"outside\"},\"baxis\":{\"gridcolor\":\"rgb(232,232,232)\",\"linecolor\":\"rgb(36,36,36)\",\"showgrid\":false,\"showline\":true,\"ticks\":\"outside\"},\"bgcolor\":\"white\",\"caxis\":{\"gridcolor\":\"rgb(232,232,232)\",\"linecolor\":\"rgb(36,36,36)\",\"showgrid\":false,\"showline\":true,\"ticks\":\"outside\"}},\"title\":{\"x\":0.05},\"xaxis\":{\"automargin\":true,\"gridcolor\":\"rgb(232,232,232)\",\"linecolor\":\"rgb(36,36,36)\",\"showgrid\":false,\"showline\":true,\"ticks\":\"outside\",\"title\":{\"standoff\":15},\"zeroline\":false,\"zerolinecolor\":\"rgb(36,36,36)\"},\"yaxis\":{\"automargin\":true,\"gridcolor\":\"rgb(232,232,232)\",\"linecolor\":\"rgb(36,36,36)\",\"showgrid\":false,\"showline\":true,\"ticks\":\"outside\",\"title\":{\"standoff\":15},\"zeroline\":false,\"zerolinecolor\":\"rgb(36,36,36)\"}}},\"legend\":{\"tracegroupgap\":0},\"title\":{\"text\":\"Hierarchy Explorer\"}},                        {\"responsive\": true}                    ).then(function(){\n",
       "                            \n",
       "var gd = document.getElementById('8f223757-b3ca-466a-98f0-b26ef4414bdf');\n",
       "var x = new MutationObserver(function (mutations, observer) {{\n",
       "        var display = window.getComputedStyle(gd).display;\n",
       "        if (!display || display === 'none') {{\n",
       "            console.log([gd, 'removed!']);\n",
       "            Plotly.purge(gd);\n",
       "            observer.disconnect();\n",
       "        }}\n",
       "}});\n",
       "\n",
       "// Listen for the removal of the full notebook cells\n",
       "var notebookContainer = gd.closest('#notebook-container');\n",
       "if (notebookContainer) {{\n",
       "    x.observe(notebookContainer, {childList: true});\n",
       "}}\n",
       "\n",
       "// Listen for the clearing of the current output cell\n",
       "var outputEl = gd.closest('.output');\n",
       "if (outputEl) {{\n",
       "    x.observe(outputEl, {childList: true});\n",
       "}}\n",
       "\n",
       "                        })                };                });            </script>        </div>"
      ]
     },
     "metadata": {},
     "output_type": "display_data"
    }
   ],
   "execution_count": 131
  },
  {
   "metadata": {
    "ExecuteTime": {
     "end_time": "2024-08-26T11:18:12.353052Z",
     "start_time": "2024-08-26T11:18:12.350711Z"
    }
   },
   "cell_type": "code",
   "source": "",
   "id": "ec664000f0607b4b",
   "outputs": [],
   "execution_count": 143
  },
  {
   "metadata": {
    "ExecuteTime": {
     "end_time": "2024-08-26T11:18:14.155237Z",
     "start_time": "2024-08-26T11:18:12.618025Z"
    }
   },
   "cell_type": "code",
   "source": [
    "import Clustering\n",
    "import DataPrep\n",
    "\n",
    "keywords = wiki_df[\"level 1\"].tolist()\n",
    "keyword_embeddings = DataPrep.embed_keywords(keywords)"
   ],
   "id": "a440dddcd7116749",
   "outputs": [],
   "execution_count": 144
  },
  {
   "metadata": {
    "ExecuteTime": {
     "end_time": "2024-08-26T11:18:14.235816Z",
     "start_time": "2024-08-26T11:18:14.156244Z"
    }
   },
   "cell_type": "code",
   "source": [
    "## check the silhoutte score of the wikipedia structure\n",
    "\n",
    "from sklearn.metrics import silhouette_score, silhouette_samples\n",
    "wiki_df[\"score\"] = silhouette_samples(keyword_embeddings, wiki_df[\"level 0\"])\n",
    "Clustering.plot_silhouette(wiki_df, cluster_label_col='level 0', silhouette_score_col='score', outlier_percentile=1, plot_height=6)"
   ],
   "id": "fc39c061461c23fa",
   "outputs": [
    {
     "name": "stderr",
     "output_type": "stream",
     "text": [
      "/Users/bene/PycharmProjects/Topic Clustering/Clustering.py:121: FutureWarning:\n",
      "\n",
      "The default of observed=False is deprecated and will be changed to True in a future version of pandas. Pass observed=False to retain current behavior or observed=True to adopt the future default and silence this warning.\n",
      "\n"
     ]
    },
    {
     "data": {
      "text/plain": [
       "<Figure size 1000x600 with 1 Axes>"
      ],
      "image/png": "[encoded data removed]"
     },
     "metadata": {},
     "output_type": "display_data"
    }
   ],
   "execution_count": 145
  },
  {
   "metadata": {
    "ExecuteTime": {
     "end_time": "2024-08-26T11:18:14.818700Z",
     "start_time": "2024-08-26T11:18:14.815382Z"
    }
   },
   "cell_type": "code",
   "source": [
    "from scipy.cluster.hierarchy import dendrogram, linkage, cut_tree\n",
    "\n",
    "Z = linkage(keyword_embeddings, method='ward')"
   ],
   "id": "35f99d9ad017d0ce",
   "outputs": [],
   "execution_count": 146
  },
  {
   "metadata": {
    "ExecuteTime": {
     "end_time": "2024-08-26T11:19:38.035749Z",
     "start_time": "2024-08-26T11:19:37.600437Z"
    }
   },
   "cell_type": "code",
   "source": [
    "from matplotlib import pyplot as plt\n",
    "\n",
    "fig = plt.figure(figsize=(25, 30))\n",
    "dn = dendrogram(Z, labels=keywords, orientation='right')"
   ],
   "id": "a0910375306606f",
   "outputs": [
    {
     "data": {
      "text/plain": [
       "<Figure size 2500x3000 with 1 Axes>"
      ],
      "image/png": "[encoded data removed]"
     },
     "metadata": {},
     "output_type": "display_data"
    }
   ],
   "execution_count": 155
  },
  {
   "metadata": {
    "ExecuteTime": {
     "end_time": "2024-08-26T11:18:24.703129Z",
     "start_time": "2024-08-26T11:18:24.690663Z"
    }
   },
   "cell_type": "code",
   "source": [
    "import numpy as np\n",
    "\n",
    "mock_appearances = np.full(shape=len(keywords), fill_value=10)\n",
    "df = Clustering.keyword_hierachy(keywords, keyword_embeddings, mock_appearances, cutting_distances=[1., 2.5, 3], Z=Z, dist_weight=1.0)"
   ],
   "id": "af66e4df1602d04b",
   "outputs": [
    {
     "name": "stdout",
     "output_type": "stream",
     "text": [
      "keyword count: 93\n",
      "cluster count: 45\n",
      "cluster count: 5\n",
      "cluster count: 2\n"
     ]
    }
   ],
   "execution_count": 150
  },
  {
   "metadata": {
    "ExecuteTime": {
     "end_time": "2024-08-26T11:18:26.014848Z",
     "start_time": "2024-08-26T11:18:26.011362Z"
    }
   },
   "cell_type": "code",
   "source": "df[\"true level 3\"] = wiki_df[\"level 0\"]",
   "id": "9115f8adb7d8a81b",
   "outputs": [],
   "execution_count": 151
  },
  {
   "metadata": {
    "ExecuteTime": {
     "end_time": "2024-09-12T16:32:23.353825Z",
     "start_time": "2024-09-12T16:32:23.141540Z"
    }
   },
   "cell_type": "code",
   "source": [
    "Clustering.plot_silhouette(wiki_df, cluster_label_col='level 0', silhouette_score_col='score', outlier_percentile=1, plot_height=6)\n",
    "Clustering.plot_silhouette(df, cluster_label_col='level 3', silhouette_score_col='level 3 score', outlier_percentile=1, plot_height=6)"
   ],
   "id": "c65dc7c40b701ba9",
   "outputs": [
    {
     "name": "stderr",
     "output_type": "stream",
     "text": [
      "/Users/bene/PycharmProjects/Topic Clustering/Clustering.py:121: FutureWarning:\n",
      "\n",
      "The default of observed=False is deprecated and will be changed to True in a future version of pandas. Pass observed=False to retain current behavior or observed=True to adopt the future default and silence this warning.\n",
      "\n"
     ]
    },
    {
     "data": {
      "text/plain": [
       "<Figure size 1000x600 with 1 Axes>"
      ],
      "image/png": "[encoded data removed]"
     },
     "metadata": {},
     "output_type": "display_data"
    },
    {
     "name": "stderr",
     "output_type": "stream",
     "text": [
      "/Users/bene/PycharmProjects/Topic Clustering/Clustering.py:121: FutureWarning:\n",
      "\n",
      "The default of observed=False is deprecated and will be changed to True in a future version of pandas. Pass observed=False to retain current behavior or observed=True to adopt the future default and silence this warning.\n",
      "\n"
     ]
    },
    {
     "data": {
      "text/plain": [
       "<Figure size 1000x600 with 1 Axes>"
      ],
      "image/png": "[encoded data removed]"
     },
     "metadata": {},
     "output_type": "display_data"
    }
   ],
   "execution_count": 161
  },
  {
   "metadata": {
    "ExecuteTime": {
     "end_time": "2024-09-12T16:32:07.661797Z",
     "start_time": "2024-09-12T16:32:07.526995Z"
    }
   },
   "cell_type": "code",
   "source": [
    "from sklearn.metrics import adjusted_rand_score, jaccard_score, rand_score\n",
    "\n",
    "# Calculate ARI\n",
    "df = df.dropna()\n",
    "true_labels = df[\"true level 3\"]\n",
    "predicted_labels = df[\"level 3\"] \n",
    "ari_score = rand_score(true_labels, predicted_labels)\n",
    "jaccard_score = jaccard_score(true_labels, predicted_labels, average='macro')\n",
    "\n",
    "ari_score, jaccard_score"
   ],
   "id": "71df35b7ef960204",
   "outputs": [
    {
     "data": {
      "text/plain": [
       "(np.float64(0.349812734082397), np.float64(0.0))"
      ]
     },
     "execution_count": 160,
     "metadata": {},
     "output_type": "execute_result"
    }
   ],
   "execution_count": 160
  },
  {
   "metadata": {},
   "cell_type": "code",
   "outputs": [],
   "execution_count": null,
   "source": "",
   "id": "5d52ab2393f09354"
  }
 ],
 "metadata": {
  "kernelspec": {
   "display_name": "Python 3",
   "language": "python",
   "name": "python3"
  },
  "language_info": {
   "codemirror_mode": {
    "name": "ipython",
    "version": 2
   },
   "file_extension": ".py",
   "mimetype": "text/x-python",
   "name": "python",
   "nbconvert_exporter": "python",
   "pygments_lexer": "ipython2",
   "version": "2.7.6"
  }
 },
 "nbformat": 4,
 "nbformat_minor": 5
}
